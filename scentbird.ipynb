{
  "nbformat": 4,
  "nbformat_minor": 0,
  "metadata": {
    "colab": {
      "name": "scentbird.ipynb",
      "provenance": []
    },
    "kernelspec": {
      "display_name": "Python 3",
      "name": "python3"
    }
  },
  "cells": [
    {
      "cell_type": "markdown",
      "metadata": {
        "id": "UfhWrVvYOELO"
      },
      "source": [
        "##Task Statement"
      ]
    },
    {
      "cell_type": "markdown",
      "metadata": {
        "id": "nuHu7iUkOJCv"
      },
      "source": [
        "Predict whether a user will subscribe for more than 3 months based on users data and their activity in first 48 hours of subscription."
      ]
    },
    {
      "cell_type": "code",
      "metadata": {
        "colab": {
          "base_uri": "https://localhost:8080/"
        },
        "id": "otya9PDdXvmQ",
        "outputId": "d97b6d6e-1958-456d-930b-f028e84534fe"
      },
      "source": [
        "!pip install scikit-optimize"
      ],
      "execution_count": null,
      "outputs": [
        {
          "output_type": "stream",
          "text": [
            "Requirement already satisfied: scikit-optimize in /usr/local/lib/python3.7/dist-packages (0.8.1)\n",
            "Requirement already satisfied: scipy>=0.19.1 in /usr/local/lib/python3.7/dist-packages (from scikit-optimize) (1.4.1)\n",
            "Requirement already satisfied: numpy>=1.13.3 in /usr/local/lib/python3.7/dist-packages (from scikit-optimize) (1.19.5)\n",
            "Requirement already satisfied: scikit-learn>=0.20.0 in /usr/local/lib/python3.7/dist-packages (from scikit-optimize) (0.22.2.post1)\n",
            "Requirement already satisfied: joblib>=0.11 in /usr/local/lib/python3.7/dist-packages (from scikit-optimize) (1.0.1)\n",
            "Requirement already satisfied: pyaml>=16.9 in /usr/local/lib/python3.7/dist-packages (from scikit-optimize) (20.4.0)\n",
            "Requirement already satisfied: PyYAML in /usr/local/lib/python3.7/dist-packages (from pyaml>=16.9->scikit-optimize) (3.13)\n"
          ],
          "name": "stdout"
        }
      ]
    },
    {
      "cell_type": "code",
      "metadata": {
        "colab": {
          "base_uri": "https://localhost:8080/"
        },
        "id": "rECL0fEK1g9t",
        "outputId": "570723ae-365b-4e8a-b2d9-5f24d440eeb5"
      },
      "source": [
        "! pip install category_encoders"
      ],
      "execution_count": null,
      "outputs": [
        {
          "output_type": "stream",
          "text": [
            "Requirement already satisfied: category_encoders in /usr/local/lib/python3.7/dist-packages (2.2.2)\n",
            "Requirement already satisfied: pandas>=0.21.1 in /usr/local/lib/python3.7/dist-packages (from category_encoders) (1.1.5)\n",
            "Requirement already satisfied: scipy>=1.0.0 in /usr/local/lib/python3.7/dist-packages (from category_encoders) (1.4.1)\n",
            "Requirement already satisfied: patsy>=0.5.1 in /usr/local/lib/python3.7/dist-packages (from category_encoders) (0.5.1)\n",
            "Requirement already satisfied: statsmodels>=0.9.0 in /usr/local/lib/python3.7/dist-packages (from category_encoders) (0.10.2)\n",
            "Requirement already satisfied: scikit-learn>=0.20.0 in /usr/local/lib/python3.7/dist-packages (from category_encoders) (0.22.2.post1)\n",
            "Requirement already satisfied: numpy>=1.14.0 in /usr/local/lib/python3.7/dist-packages (from category_encoders) (1.19.5)\n",
            "Requirement already satisfied: python-dateutil>=2.7.3 in /usr/local/lib/python3.7/dist-packages (from pandas>=0.21.1->category_encoders) (2.8.1)\n",
            "Requirement already satisfied: pytz>=2017.2 in /usr/local/lib/python3.7/dist-packages (from pandas>=0.21.1->category_encoders) (2018.9)\n",
            "Requirement already satisfied: six in /usr/local/lib/python3.7/dist-packages (from patsy>=0.5.1->category_encoders) (1.15.0)\n",
            "Requirement already satisfied: joblib>=0.11 in /usr/local/lib/python3.7/dist-packages (from scikit-learn>=0.20.0->category_encoders) (1.0.1)\n"
          ],
          "name": "stdout"
        }
      ]
    },
    {
      "cell_type": "code",
      "metadata": {
        "colab": {
          "base_uri": "https://localhost:8080/"
        },
        "id": "MXGsQFAEERAF",
        "outputId": "5c9a6fa3-449f-451a-c4de-8b73fa769767"
      },
      "source": [
        "! pip install hpsklearn"
      ],
      "execution_count": null,
      "outputs": [
        {
          "output_type": "stream",
          "text": [
            "Requirement already satisfied: hpsklearn in /usr/local/lib/python3.7/dist-packages (0.1.0)\n",
            "Requirement already satisfied: numpy in /usr/local/lib/python3.7/dist-packages (from hpsklearn) (1.19.5)\n",
            "Requirement already satisfied: nose in /usr/local/lib/python3.7/dist-packages (from hpsklearn) (1.3.7)\n",
            "Requirement already satisfied: hyperopt in /usr/local/lib/python3.7/dist-packages (from hpsklearn) (0.1.2)\n",
            "Requirement already satisfied: scipy in /usr/local/lib/python3.7/dist-packages (from hpsklearn) (1.4.1)\n",
            "Requirement already satisfied: scikit-learn in /usr/local/lib/python3.7/dist-packages (from hpsklearn) (0.22.2.post1)\n",
            "Requirement already satisfied: six in /usr/local/lib/python3.7/dist-packages (from hyperopt->hpsklearn) (1.15.0)\n",
            "Requirement already satisfied: future in /usr/local/lib/python3.7/dist-packages (from hyperopt->hpsklearn) (0.16.0)\n",
            "Requirement already satisfied: pymongo in /usr/local/lib/python3.7/dist-packages (from hyperopt->hpsklearn) (3.11.3)\n",
            "Requirement already satisfied: networkx in /usr/local/lib/python3.7/dist-packages (from hyperopt->hpsklearn) (2.5)\n",
            "Requirement already satisfied: tqdm in /usr/local/lib/python3.7/dist-packages (from hyperopt->hpsklearn) (4.41.1)\n",
            "Requirement already satisfied: joblib>=0.11 in /usr/local/lib/python3.7/dist-packages (from scikit-learn->hpsklearn) (1.0.1)\n",
            "Requirement already satisfied: decorator>=4.3.0 in /usr/local/lib/python3.7/dist-packages (from networkx->hyperopt->hpsklearn) (4.4.2)\n"
          ],
          "name": "stdout"
        }
      ]
    },
    {
      "cell_type": "code",
      "metadata": {
        "colab": {
          "base_uri": "https://localhost:8080/"
        },
        "id": "bPJvct53v0S_",
        "outputId": "bde91fdb-fc60-4208-fd4b-eeddf6e480f4"
      },
      "source": [
        "!pip install catboost"
      ],
      "execution_count": null,
      "outputs": [
        {
          "output_type": "stream",
          "text": [
            "Requirement already satisfied: catboost in /usr/local/lib/python3.7/dist-packages (0.25)\n",
            "Requirement already satisfied: six in /usr/local/lib/python3.7/dist-packages (from catboost) (1.15.0)\n",
            "Requirement already satisfied: plotly in /usr/local/lib/python3.7/dist-packages (from catboost) (4.4.1)\n",
            "Requirement already satisfied: numpy>=1.16.0 in /usr/local/lib/python3.7/dist-packages (from catboost) (1.19.5)\n",
            "Requirement already satisfied: pandas>=0.24.0 in /usr/local/lib/python3.7/dist-packages (from catboost) (1.1.5)\n",
            "Requirement already satisfied: scipy in /usr/local/lib/python3.7/dist-packages (from catboost) (1.4.1)\n",
            "Requirement already satisfied: matplotlib in /usr/local/lib/python3.7/dist-packages (from catboost) (3.2.2)\n",
            "Requirement already satisfied: graphviz in /usr/local/lib/python3.7/dist-packages (from catboost) (0.10.1)\n",
            "Requirement already satisfied: retrying>=1.3.3 in /usr/local/lib/python3.7/dist-packages (from plotly->catboost) (1.3.3)\n",
            "Requirement already satisfied: python-dateutil>=2.7.3 in /usr/local/lib/python3.7/dist-packages (from pandas>=0.24.0->catboost) (2.8.1)\n",
            "Requirement already satisfied: pytz>=2017.2 in /usr/local/lib/python3.7/dist-packages (from pandas>=0.24.0->catboost) (2018.9)\n",
            "Requirement already satisfied: pyparsing!=2.0.4,!=2.1.2,!=2.1.6,>=2.0.1 in /usr/local/lib/python3.7/dist-packages (from matplotlib->catboost) (2.4.7)\n",
            "Requirement already satisfied: cycler>=0.10 in /usr/local/lib/python3.7/dist-packages (from matplotlib->catboost) (0.10.0)\n",
            "Requirement already satisfied: kiwisolver>=1.0.1 in /usr/local/lib/python3.7/dist-packages (from matplotlib->catboost) (1.3.1)\n"
          ],
          "name": "stdout"
        }
      ]
    },
    {
      "cell_type": "code",
      "metadata": {
        "id": "8YlB2XQiy8Z5"
      },
      "source": [
        "import pandas as pd\n",
        "import numpy as np\n",
        "import seaborn as sns\n",
        "import matplotlib.pyplot as plt\n",
        "from sklearn.model_selection import train_test_split\n",
        "from sklearn.metrics import confusion_matrix\n",
        "from sklearn import metrics\n",
        "from sklearn.model_selection import cross_val_score\n",
        "from skopt.space import Real, Integer\n",
        "from skopt.utils import use_named_args\n",
        "from sklearn.linear_model import LogisticRegression\n",
        "from sklearn.linear_model import SGDClassifier\n",
        "from skopt import gp_minimize\n",
        "from sklearn.feature_selection import mutual_info_classif\n",
        "from sklearn.metrics import plot_confusion_matrix\n",
        "import warnings\n",
        "warnings.filterwarnings('ignore')"
      ],
      "execution_count": null,
      "outputs": []
    },
    {
      "cell_type": "markdown",
      "metadata": {
        "id": "gn9BeDD24nFP"
      },
      "source": [
        "Loading and Preprocessing Data"
      ]
    },
    {
      "cell_type": "code",
      "metadata": {
        "colab": {
          "base_uri": "https://localhost:8080/"
        },
        "id": "maRMXn8aZgiA",
        "outputId": "fdcee24c-8240-4c1d-a0b0-0b8a47ccb726"
      },
      "source": [
        "from google.colab import drive\n",
        "drive.mount('/content/drive')"
      ],
      "execution_count": null,
      "outputs": [
        {
          "output_type": "stream",
          "text": [
            "Drive already mounted at /content/drive; to attempt to forcibly remount, call drive.mount(\"/content/drive\", force_remount=True).\n"
          ],
          "name": "stdout"
        }
      ]
    },
    {
      "cell_type": "code",
      "metadata": {
        "id": "mERfD6zgzPR5"
      },
      "source": [
        "bad_users=pd.read_csv('/content/drive/MyDrive/scentbird data/ya_practicum_bad_users_info.csv')\n",
        "good_users=pd.read_csv('/content/drive/MyDrive/scentbird data/ya_practicum_good_users_info.csv')"
      ],
      "execution_count": null,
      "outputs": []
    },
    {
      "cell_type": "code",
      "metadata": {
        "colab": {
          "base_uri": "https://localhost:8080/",
          "height": 224
        },
        "id": "D_dERHzWzjfq",
        "outputId": "f49ab0c7-0772-4f9a-ea99-0fb2ad1927fb"
      },
      "source": [
        "bad_users.head()"
      ],
      "execution_count": null,
      "outputs": [
        {
          "output_type": "execute_result",
          "data": {
            "text/html": [
              "<div>\n",
              "<style scoped>\n",
              "    .dataframe tbody tr th:only-of-type {\n",
              "        vertical-align: middle;\n",
              "    }\n",
              "\n",
              "    .dataframe tbody tr th {\n",
              "        vertical-align: top;\n",
              "    }\n",
              "\n",
              "    .dataframe thead th {\n",
              "        text-align: right;\n",
              "    }\n",
              "</style>\n",
              "<table border=\"1\" class=\"dataframe\">\n",
              "  <thead>\n",
              "    <tr style=\"text-align: right;\">\n",
              "      <th></th>\n",
              "      <th>subscription_hash</th>\n",
              "      <th>channel</th>\n",
              "      <th>first_month_price</th>\n",
              "      <th>email_domain</th>\n",
              "      <th>first_payment_type</th>\n",
              "      <th>subscription_platform</th>\n",
              "      <th>signup_platform</th>\n",
              "      <th>fragrance_family</th>\n",
              "      <th>scent_profile_title</th>\n",
              "      <th>shipping_region</th>\n",
              "      <th>shipping_city</th>\n",
              "      <th>is_upgraded_in_first_2_days</th>\n",
              "      <th>is_upcharged_in_first_2_days</th>\n",
              "      <th>minutes_from_registration</th>\n",
              "      <th>subscription_lifetime</th>\n",
              "      <th>age_tier</th>\n",
              "      <th>sex</th>\n",
              "      <th>income_tier</th>\n",
              "    </tr>\n",
              "  </thead>\n",
              "  <tbody>\n",
              "    <tr>\n",
              "      <th>0</th>\n",
              "      <td>6c6f36cd8eb42ef1d905578a6b0947f534d6132ae1c025...</td>\n",
              "      <td>Channel_3</td>\n",
              "      <td>3.00</td>\n",
              "      <td>0a208c9bd58a3c4a8afd770de83f090fdf74a53de73252...</td>\n",
              "      <td>Card</td>\n",
              "      <td>web</td>\n",
              "      <td>web</td>\n",
              "      <td>NaN</td>\n",
              "      <td>NaN</td>\n",
              "      <td>FL</td>\n",
              "      <td>SPRING HILL</td>\n",
              "      <td>False</td>\n",
              "      <td>False</td>\n",
              "      <td>3</td>\n",
              "      <td>2</td>\n",
              "      <td>45 to 54</td>\n",
              "      <td>female</td>\n",
              "      <td>25 to 49</td>\n",
              "    </tr>\n",
              "    <tr>\n",
              "      <th>1</th>\n",
              "      <td>73831634ef6d3639546fbb58f7ea4288220d907600fc9b...</td>\n",
              "      <td>Channel_1</td>\n",
              "      <td>11.21</td>\n",
              "      <td>86f85e9b7d3452597f1ac38acf948196a58ac22cdba276...</td>\n",
              "      <td>Card</td>\n",
              "      <td>web</td>\n",
              "      <td>web</td>\n",
              "      <td>NaN</td>\n",
              "      <td>NaN</td>\n",
              "      <td>PA</td>\n",
              "      <td>PHILADELPHIA</td>\n",
              "      <td>False</td>\n",
              "      <td>True</td>\n",
              "      <td>3</td>\n",
              "      <td>2</td>\n",
              "      <td>Below 18</td>\n",
              "      <td>male</td>\n",
              "      <td>50 to 74</td>\n",
              "    </tr>\n",
              "    <tr>\n",
              "      <th>2</th>\n",
              "      <td>75c705c4e9d81bb6037d2383118983f1f8009b6ae203d4...</td>\n",
              "      <td>Channel_1</td>\n",
              "      <td>11.21</td>\n",
              "      <td>b18226564f0740bc4e0785d34af8d56c85e278d32e321d...</td>\n",
              "      <td>NaN</td>\n",
              "      <td>web</td>\n",
              "      <td>web</td>\n",
              "      <td>NaN</td>\n",
              "      <td>NaN</td>\n",
              "      <td>IN</td>\n",
              "      <td>FRANKFORT</td>\n",
              "      <td>False</td>\n",
              "      <td>True</td>\n",
              "      <td>2</td>\n",
              "      <td>1</td>\n",
              "      <td>Below 18</td>\n",
              "      <td>female</td>\n",
              "      <td>25 to 49</td>\n",
              "    </tr>\n",
              "    <tr>\n",
              "      <th>3</th>\n",
              "      <td>20bb89aa63a1bc2a2f0c6e435a1da9057e52b6eec113fb...</td>\n",
              "      <td>Channel_3</td>\n",
              "      <td>3.00</td>\n",
              "      <td>86f85e9b7d3452597f1ac38acf948196a58ac22cdba276...</td>\n",
              "      <td>Card</td>\n",
              "      <td>web</td>\n",
              "      <td>web</td>\n",
              "      <td>NaN</td>\n",
              "      <td>NaN</td>\n",
              "      <td>TX</td>\n",
              "      <td>DENTON</td>\n",
              "      <td>False</td>\n",
              "      <td>False</td>\n",
              "      <td>3</td>\n",
              "      <td>1</td>\n",
              "      <td>Below 18</td>\n",
              "      <td>female</td>\n",
              "      <td>25 to 49</td>\n",
              "    </tr>\n",
              "    <tr>\n",
              "      <th>4</th>\n",
              "      <td>160647d08b5d29ad4039b58f0c8f6515c29cdc7aae517e...</td>\n",
              "      <td>Channel_1</td>\n",
              "      <td>11.21</td>\n",
              "      <td>86f85e9b7d3452597f1ac38acf948196a58ac22cdba276...</td>\n",
              "      <td>NaN</td>\n",
              "      <td>web</td>\n",
              "      <td>web</td>\n",
              "      <td>NaN</td>\n",
              "      <td>NaN</td>\n",
              "      <td>TX</td>\n",
              "      <td>CONROE</td>\n",
              "      <td>True</td>\n",
              "      <td>False</td>\n",
              "      <td>2</td>\n",
              "      <td>2</td>\n",
              "      <td>Below 18</td>\n",
              "      <td>female</td>\n",
              "      <td>25 to 49</td>\n",
              "    </tr>\n",
              "  </tbody>\n",
              "</table>\n",
              "</div>"
            ],
            "text/plain": [
              "                                   subscription_hash  ... income_tier\n",
              "0  6c6f36cd8eb42ef1d905578a6b0947f534d6132ae1c025...  ...    25 to 49\n",
              "1  73831634ef6d3639546fbb58f7ea4288220d907600fc9b...  ...    50 to 74\n",
              "2  75c705c4e9d81bb6037d2383118983f1f8009b6ae203d4...  ...    25 to 49\n",
              "3  20bb89aa63a1bc2a2f0c6e435a1da9057e52b6eec113fb...  ...    25 to 49\n",
              "4  160647d08b5d29ad4039b58f0c8f6515c29cdc7aae517e...  ...    25 to 49\n",
              "\n",
              "[5 rows x 18 columns]"
            ]
          },
          "metadata": {
            "tags": []
          },
          "execution_count": 187
        }
      ]
    },
    {
      "cell_type": "code",
      "metadata": {
        "colab": {
          "base_uri": "https://localhost:8080/"
        },
        "id": "dI3I3ieRzl-8",
        "outputId": "8a3b540f-b232-4e0b-eda1-6aeffd4e6956"
      },
      "source": [
        "bad_users.info()"
      ],
      "execution_count": null,
      "outputs": [
        {
          "output_type": "stream",
          "text": [
            "<class 'pandas.core.frame.DataFrame'>\n",
            "RangeIndex: 134177 entries, 0 to 134176\n",
            "Data columns (total 18 columns):\n",
            " #   Column                        Non-Null Count   Dtype  \n",
            "---  ------                        --------------   -----  \n",
            " 0   subscription_hash             134177 non-null  object \n",
            " 1   channel                       134177 non-null  object \n",
            " 2   first_month_price             134177 non-null  float64\n",
            " 3   email_domain                  134177 non-null  object \n",
            " 4   first_payment_type            106437 non-null  object \n",
            " 5   subscription_platform         134177 non-null  object \n",
            " 6   signup_platform               116570 non-null  object \n",
            " 7   fragrance_family              4665 non-null    object \n",
            " 8   scent_profile_title           4665 non-null    object \n",
            " 9   shipping_region               134177 non-null  object \n",
            " 10  shipping_city                 134177 non-null  object \n",
            " 11  is_upgraded_in_first_2_days   134177 non-null  bool   \n",
            " 12  is_upcharged_in_first_2_days  134177 non-null  bool   \n",
            " 13  minutes_from_registration     134177 non-null  int64  \n",
            " 14  subscription_lifetime         134177 non-null  int64  \n",
            " 15  age_tier                      134177 non-null  object \n",
            " 16  sex                           134177 non-null  object \n",
            " 17  income_tier                   134177 non-null  object \n",
            "dtypes: bool(2), float64(1), int64(2), object(13)\n",
            "memory usage: 16.6+ MB\n"
          ],
          "name": "stdout"
        }
      ]
    },
    {
      "cell_type": "code",
      "metadata": {
        "colab": {
          "base_uri": "https://localhost:8080/"
        },
        "id": "Tf0pwQ9XQyh0",
        "outputId": "4f540eea-0468-48b3-9f60-00b5b173019d"
      },
      "source": [
        "len(bad_users['subscription_hash'].unique())                   #subscription hash contains duplicate values"
      ],
      "execution_count": null,
      "outputs": [
        {
          "output_type": "execute_result",
          "data": {
            "text/plain": [
              "133153"
            ]
          },
          "metadata": {
            "tags": []
          },
          "execution_count": 189
        }
      ]
    },
    {
      "cell_type": "markdown",
      "metadata": {
        "id": "yCvUN45Iq8te"
      },
      "source": [
        "\n",
        "<font color='green'> \n",
        "**FM comments:**\n",
        "\n",
        "Usefull finding! Well done!\n",
        "\n",
        "</font>"
      ]
    },
    {
      "cell_type": "code",
      "metadata": {
        "colab": {
          "base_uri": "https://localhost:8080/"
        },
        "id": "kyJOuNHAQ7Jn",
        "outputId": "7c739f0f-3a0a-4f16-8f1e-cfd35d5594a7"
      },
      "source": [
        "bad_users['subscription_hash'].value_counts()"
      ],
      "execution_count": null,
      "outputs": [
        {
          "output_type": "execute_result",
          "data": {
            "text/plain": [
              "9ab342133acfaa3b108b5455004907c8377789cb7c864d9419b33eeb0dddf96f    4\n",
              "e3f3a92cf5b68dfebae7650a7f3d16f6e55b9b11a027f93aec192bae921c3613    4\n",
              "4b0ecfd184c8bd3546cd00ad6c52b28ab20ea1165d10f992037502d86df968f1    4\n",
              "0cf7646363e631866727f0fd85d48d1d03b22115c611be4ed3aa7d350b251f74    4\n",
              "8d0a266053a39d06ff5c33614ae39adeab9a70a5c6b38b4389971cad6f30ac80    4\n",
              "                                                                   ..\n",
              "2ce764ce26ef562780cf148f75dcb6099d1621172aa8c2b17738d274b60a91d6    1\n",
              "614e4cda2461bed725bbdc82041e381893604a362f9f41add6a2916b52ff75fe    1\n",
              "70be8b4543bf8781f2842ff5869106954e0a309af91d06d1245eb28504c55450    1\n",
              "af1e59762b1d7a9f2d83078c56ff9fec7785a8f51d6c34cb93c1eb462d02b2c5    1\n",
              "7987ab329a37ea70cbd53804ddf1d42cdb9f69c36373ba3485517f2c88f51b11    1\n",
              "Name: subscription_hash, Length: 133153, dtype: int64"
            ]
          },
          "metadata": {
            "tags": []
          },
          "execution_count": 190
        }
      ]
    },
    {
      "cell_type": "code",
      "metadata": {
        "colab": {
          "base_uri": "https://localhost:8080/",
          "height": 193
        },
        "id": "sLSoOdyuRK5c",
        "outputId": "14c2574f-4410-409a-ba80-2aa74a53a489"
      },
      "source": [
        "bad_users[bad_users['subscription_hash']=='e703b7bc90e51770454598cdb2c32c27c7b7dd520bde2d24ff90d190ff03f01d']"
      ],
      "execution_count": null,
      "outputs": [
        {
          "output_type": "execute_result",
          "data": {
            "text/html": [
              "<div>\n",
              "<style scoped>\n",
              "    .dataframe tbody tr th:only-of-type {\n",
              "        vertical-align: middle;\n",
              "    }\n",
              "\n",
              "    .dataframe tbody tr th {\n",
              "        vertical-align: top;\n",
              "    }\n",
              "\n",
              "    .dataframe thead th {\n",
              "        text-align: right;\n",
              "    }\n",
              "</style>\n",
              "<table border=\"1\" class=\"dataframe\">\n",
              "  <thead>\n",
              "    <tr style=\"text-align: right;\">\n",
              "      <th></th>\n",
              "      <th>subscription_hash</th>\n",
              "      <th>channel</th>\n",
              "      <th>first_month_price</th>\n",
              "      <th>email_domain</th>\n",
              "      <th>first_payment_type</th>\n",
              "      <th>subscription_platform</th>\n",
              "      <th>signup_platform</th>\n",
              "      <th>fragrance_family</th>\n",
              "      <th>scent_profile_title</th>\n",
              "      <th>shipping_region</th>\n",
              "      <th>shipping_city</th>\n",
              "      <th>is_upgraded_in_first_2_days</th>\n",
              "      <th>is_upcharged_in_first_2_days</th>\n",
              "      <th>minutes_from_registration</th>\n",
              "      <th>subscription_lifetime</th>\n",
              "      <th>age_tier</th>\n",
              "      <th>sex</th>\n",
              "      <th>income_tier</th>\n",
              "    </tr>\n",
              "  </thead>\n",
              "  <tbody>\n",
              "    <tr>\n",
              "      <th>39591</th>\n",
              "      <td>e703b7bc90e51770454598cdb2c32c27c7b7dd520bde2d...</td>\n",
              "      <td>Channel_1</td>\n",
              "      <td>11.21</td>\n",
              "      <td>86f85e9b7d3452597f1ac38acf948196a58ac22cdba276...</td>\n",
              "      <td>Card</td>\n",
              "      <td>web</td>\n",
              "      <td>web</td>\n",
              "      <td>NaN</td>\n",
              "      <td>NaN</td>\n",
              "      <td>IN</td>\n",
              "      <td>INDIANAPOLIS</td>\n",
              "      <td>False</td>\n",
              "      <td>True</td>\n",
              "      <td>2</td>\n",
              "      <td>2</td>\n",
              "      <td>Below 18</td>\n",
              "      <td>female</td>\n",
              "      <td>25 to 49</td>\n",
              "    </tr>\n",
              "    <tr>\n",
              "      <th>40458</th>\n",
              "      <td>e703b7bc90e51770454598cdb2c32c27c7b7dd520bde2d...</td>\n",
              "      <td>Channel_1</td>\n",
              "      <td>11.21</td>\n",
              "      <td>86f85e9b7d3452597f1ac38acf948196a58ac22cdba276...</td>\n",
              "      <td>Card</td>\n",
              "      <td>web</td>\n",
              "      <td>web</td>\n",
              "      <td>NaN</td>\n",
              "      <td>NaN</td>\n",
              "      <td>IN</td>\n",
              "      <td>INDIANAPOLIS</td>\n",
              "      <td>True</td>\n",
              "      <td>True</td>\n",
              "      <td>2</td>\n",
              "      <td>2</td>\n",
              "      <td>Below 18</td>\n",
              "      <td>female</td>\n",
              "      <td>25 to 49</td>\n",
              "    </tr>\n",
              "    <tr>\n",
              "      <th>40649</th>\n",
              "      <td>e703b7bc90e51770454598cdb2c32c27c7b7dd520bde2d...</td>\n",
              "      <td>Channel_1</td>\n",
              "      <td>11.21</td>\n",
              "      <td>86f85e9b7d3452597f1ac38acf948196a58ac22cdba276...</td>\n",
              "      <td>Card</td>\n",
              "      <td>web</td>\n",
              "      <td>web</td>\n",
              "      <td>NaN</td>\n",
              "      <td>NaN</td>\n",
              "      <td>IN</td>\n",
              "      <td>INDIANAPOLIS</td>\n",
              "      <td>False</td>\n",
              "      <td>False</td>\n",
              "      <td>2</td>\n",
              "      <td>2</td>\n",
              "      <td>Below 18</td>\n",
              "      <td>female</td>\n",
              "      <td>25 to 49</td>\n",
              "    </tr>\n",
              "    <tr>\n",
              "      <th>44626</th>\n",
              "      <td>e703b7bc90e51770454598cdb2c32c27c7b7dd520bde2d...</td>\n",
              "      <td>Channel_1</td>\n",
              "      <td>11.21</td>\n",
              "      <td>86f85e9b7d3452597f1ac38acf948196a58ac22cdba276...</td>\n",
              "      <td>Card</td>\n",
              "      <td>web</td>\n",
              "      <td>web</td>\n",
              "      <td>NaN</td>\n",
              "      <td>NaN</td>\n",
              "      <td>IN</td>\n",
              "      <td>INDIANAPOLIS</td>\n",
              "      <td>True</td>\n",
              "      <td>False</td>\n",
              "      <td>2</td>\n",
              "      <td>2</td>\n",
              "      <td>Below 18</td>\n",
              "      <td>female</td>\n",
              "      <td>25 to 49</td>\n",
              "    </tr>\n",
              "  </tbody>\n",
              "</table>\n",
              "</div>"
            ],
            "text/plain": [
              "                                       subscription_hash  ... income_tier\n",
              "39591  e703b7bc90e51770454598cdb2c32c27c7b7dd520bde2d...  ...    25 to 49\n",
              "40458  e703b7bc90e51770454598cdb2c32c27c7b7dd520bde2d...  ...    25 to 49\n",
              "40649  e703b7bc90e51770454598cdb2c32c27c7b7dd520bde2d...  ...    25 to 49\n",
              "44626  e703b7bc90e51770454598cdb2c32c27c7b7dd520bde2d...  ...    25 to 49\n",
              "\n",
              "[4 rows x 18 columns]"
            ]
          },
          "metadata": {
            "tags": []
          },
          "execution_count": 191
        }
      ]
    },
    {
      "cell_type": "code",
      "metadata": {
        "id": "n6Q37vavSXj5"
      },
      "source": [
        "bad_users.drop_duplicates(subset='subscription_hash',ignore_index=True,inplace=True)"
      ],
      "execution_count": null,
      "outputs": []
    },
    {
      "cell_type": "code",
      "metadata": {
        "colab": {
          "base_uri": "https://localhost:8080/"
        },
        "id": "mel6K2oeh2wY",
        "outputId": "6c3f6512-2788-4d46-9838-429b10e07ea5"
      },
      "source": [
        "bad_users['fragrance_family'].fillna(0,inplace=True)                        #encoding fragrance family in 0,1\n",
        "bad_users.loc[bad_users['fragrance_family']!=0,'fragrance_family']=1         #any value will be 1 and missing value will be 0\n",
        "bad_users['fragrance_family'].value_counts()"
      ],
      "execution_count": null,
      "outputs": [
        {
          "output_type": "execute_result",
          "data": {
            "text/plain": [
              "0    128658\n",
              "1      4495\n",
              "Name: fragrance_family, dtype: int64"
            ]
          },
          "metadata": {
            "tags": []
          },
          "execution_count": 193
        }
      ]
    },
    {
      "cell_type": "code",
      "metadata": {
        "colab": {
          "base_uri": "https://localhost:8080/"
        },
        "id": "qGXg0liZzsIR",
        "outputId": "8e3e250d-6998-4fc9-98fb-75f9e08cd173"
      },
      "source": [
        "bad_users['channel'].value_counts()"
      ],
      "execution_count": null,
      "outputs": [
        {
          "output_type": "execute_result",
          "data": {
            "text/plain": [
              "Channel_3    95636\n",
              "Channel_1    29595\n",
              "Channel_2     7922\n",
              "Name: channel, dtype: int64"
            ]
          },
          "metadata": {
            "tags": []
          },
          "execution_count": 194
        }
      ]
    },
    {
      "cell_type": "code",
      "metadata": {
        "colab": {
          "base_uri": "https://localhost:8080/"
        },
        "id": "JIfg1J2ikfws",
        "outputId": "875080ea-5e4e-4469-c8eb-b74d43e2e622"
      },
      "source": [
        "bad_users['first_month_price'].value_counts()                         #It's a categorical column!"
      ],
      "execution_count": null,
      "outputs": [
        {
          "output_type": "execute_result",
          "data": {
            "text/plain": [
              "3.00     95636\n",
              "11.21    37517\n",
              "Name: first_month_price, dtype: int64"
            ]
          },
          "metadata": {
            "tags": []
          },
          "execution_count": 195
        }
      ]
    },
    {
      "cell_type": "code",
      "metadata": {
        "colab": {
          "base_uri": "https://localhost:8080/"
        },
        "id": "vKjwaXiSmL7E",
        "outputId": "11e21017-082a-4732-ebc8-346bddeebcd8"
      },
      "source": [
        "bad_users.groupby(['first_month_price','channel'])['channel'].count()"
      ],
      "execution_count": null,
      "outputs": [
        {
          "output_type": "execute_result",
          "data": {
            "text/plain": [
              "first_month_price  channel  \n",
              "3.00               Channel_3    95636\n",
              "11.21              Channel_1    29595\n",
              "                   Channel_2     7922\n",
              "Name: channel, dtype: int64"
            ]
          },
          "metadata": {
            "tags": []
          },
          "execution_count": 196
        }
      ]
    },
    {
      "cell_type": "markdown",
      "metadata": {
        "id": "XPGR1QgSnCJV"
      },
      "source": [
        "We can see that all customers coming through channel 3 pay 3 dollars and none from channel 3 buy the 11.21 dollar subscription"
      ]
    },
    {
      "cell_type": "code",
      "metadata": {
        "colab": {
          "base_uri": "https://localhost:8080/"
        },
        "id": "QNn6BxhRm1jz",
        "outputId": "9c85264c-5b5a-4e4f-bbcf-e2f380cfebd7"
      },
      "source": [
        "bad_users.groupby('channel')['first_month_price'].sum()"
      ],
      "execution_count": null,
      "outputs": [
        {
          "output_type": "execute_result",
          "data": {
            "text/plain": [
              "channel\n",
              "Channel_1    331759.95\n",
              "Channel_2     88805.62\n",
              "Channel_3    286908.00\n",
              "Name: first_month_price, dtype: float64"
            ]
          },
          "metadata": {
            "tags": []
          },
          "execution_count": 197
        }
      ]
    },
    {
      "cell_type": "markdown",
      "metadata": {
        "id": "UYCpIRX-o2Q4"
      },
      "source": [
        "Even though channel 1 brings almost 3 times less customers, it generates more revenue than channel 3."
      ]
    },
    {
      "cell_type": "code",
      "metadata": {
        "colab": {
          "base_uri": "https://localhost:8080/"
        },
        "id": "ZdOF-Vp4pd23",
        "outputId": "6f5d54aa-3a96-4ac8-9490-6d7690c4c08b"
      },
      "source": [
        "bad_users['first_payment_type'].value_counts()/len(bad_users)"
      ],
      "execution_count": null,
      "outputs": [
        {
          "output_type": "execute_result",
          "data": {
            "text/plain": [
              "Card            0.584433\n",
              "PayPal          0.202324\n",
              "Prepaid Card    0.007097\n",
              "Name: first_payment_type, dtype: float64"
            ]
          },
          "metadata": {
            "tags": []
          },
          "execution_count": 198
        }
      ]
    },
    {
      "cell_type": "code",
      "metadata": {
        "id": "4JU9o6rGr7K5"
      },
      "source": [
        "#bad_users['first_payment_type'].fillna('Card',inplace=True)"
      ],
      "execution_count": null,
      "outputs": []
    },
    {
      "cell_type": "code",
      "metadata": {
        "colab": {
          "base_uri": "https://localhost:8080/"
        },
        "id": "PNXYtrTXps1p",
        "outputId": "c868eba8-be3c-458e-b48d-0fc178eb4406"
      },
      "source": [
        "bad_users['signup_platform'].value_counts()/len(bad_users)"
      ],
      "execution_count": null,
      "outputs": [
        {
          "output_type": "execute_result",
          "data": {
            "text/plain": [
              "web        0.868647\n",
              "iOS        0.000150\n",
              "Android    0.000135\n",
              "Name: signup_platform, dtype: float64"
            ]
          },
          "metadata": {
            "tags": []
          },
          "execution_count": 200
        }
      ]
    },
    {
      "cell_type": "markdown",
      "metadata": {
        "id": "Oc9-zcuIrmW7"
      },
      "source": [
        "The number of customers in iOS and android category is highly insignificant. "
      ]
    },
    {
      "cell_type": "code",
      "metadata": {
        "colab": {
          "base_uri": "https://localhost:8080/",
          "height": 1000
        },
        "id": "1QblBJT7reLD",
        "outputId": "660c14f6-b7c5-4e53-c2fe-cf3dfadaa117"
      },
      "source": [
        "bad_users['shipping_region'].value_counts().reset_index()"
      ],
      "execution_count": null,
      "outputs": [
        {
          "output_type": "execute_result",
          "data": {
            "text/html": [
              "<div>\n",
              "<style scoped>\n",
              "    .dataframe tbody tr th:only-of-type {\n",
              "        vertical-align: middle;\n",
              "    }\n",
              "\n",
              "    .dataframe tbody tr th {\n",
              "        vertical-align: top;\n",
              "    }\n",
              "\n",
              "    .dataframe thead th {\n",
              "        text-align: right;\n",
              "    }\n",
              "</style>\n",
              "<table border=\"1\" class=\"dataframe\">\n",
              "  <thead>\n",
              "    <tr style=\"text-align: right;\">\n",
              "      <th></th>\n",
              "      <th>index</th>\n",
              "      <th>shipping_region</th>\n",
              "    </tr>\n",
              "  </thead>\n",
              "  <tbody>\n",
              "    <tr>\n",
              "      <th>0</th>\n",
              "      <td>CA</td>\n",
              "      <td>13778</td>\n",
              "    </tr>\n",
              "    <tr>\n",
              "      <th>1</th>\n",
              "      <td>TX</td>\n",
              "      <td>13514</td>\n",
              "    </tr>\n",
              "    <tr>\n",
              "      <th>2</th>\n",
              "      <td>FL</td>\n",
              "      <td>9586</td>\n",
              "    </tr>\n",
              "    <tr>\n",
              "      <th>3</th>\n",
              "      <td>NY</td>\n",
              "      <td>7878</td>\n",
              "    </tr>\n",
              "    <tr>\n",
              "      <th>4</th>\n",
              "      <td>GA</td>\n",
              "      <td>5694</td>\n",
              "    </tr>\n",
              "    <tr>\n",
              "      <th>5</th>\n",
              "      <td>OH</td>\n",
              "      <td>4713</td>\n",
              "    </tr>\n",
              "    <tr>\n",
              "      <th>6</th>\n",
              "      <td>NC</td>\n",
              "      <td>4600</td>\n",
              "    </tr>\n",
              "    <tr>\n",
              "      <th>7</th>\n",
              "      <td>PA</td>\n",
              "      <td>4597</td>\n",
              "    </tr>\n",
              "    <tr>\n",
              "      <th>8</th>\n",
              "      <td>IL</td>\n",
              "      <td>4506</td>\n",
              "    </tr>\n",
              "    <tr>\n",
              "      <th>9</th>\n",
              "      <td>MI</td>\n",
              "      <td>3675</td>\n",
              "    </tr>\n",
              "    <tr>\n",
              "      <th>10</th>\n",
              "      <td>VA</td>\n",
              "      <td>3264</td>\n",
              "    </tr>\n",
              "    <tr>\n",
              "      <th>11</th>\n",
              "      <td>AZ</td>\n",
              "      <td>3208</td>\n",
              "    </tr>\n",
              "    <tr>\n",
              "      <th>12</th>\n",
              "      <td>NJ</td>\n",
              "      <td>3015</td>\n",
              "    </tr>\n",
              "    <tr>\n",
              "      <th>13</th>\n",
              "      <td>TN</td>\n",
              "      <td>2917</td>\n",
              "    </tr>\n",
              "    <tr>\n",
              "      <th>14</th>\n",
              "      <td>IN</td>\n",
              "      <td>2793</td>\n",
              "    </tr>\n",
              "    <tr>\n",
              "      <th>15</th>\n",
              "      <td>MO</td>\n",
              "      <td>2679</td>\n",
              "    </tr>\n",
              "    <tr>\n",
              "      <th>16</th>\n",
              "      <td>LA</td>\n",
              "      <td>2647</td>\n",
              "    </tr>\n",
              "    <tr>\n",
              "      <th>17</th>\n",
              "      <td>MD</td>\n",
              "      <td>2567</td>\n",
              "    </tr>\n",
              "    <tr>\n",
              "      <th>18</th>\n",
              "      <td>AL</td>\n",
              "      <td>2558</td>\n",
              "    </tr>\n",
              "    <tr>\n",
              "      <th>19</th>\n",
              "      <td>SC</td>\n",
              "      <td>2496</td>\n",
              "    </tr>\n",
              "    <tr>\n",
              "      <th>20</th>\n",
              "      <td>WA</td>\n",
              "      <td>2473</td>\n",
              "    </tr>\n",
              "    <tr>\n",
              "      <th>21</th>\n",
              "      <td>MA</td>\n",
              "      <td>2207</td>\n",
              "    </tr>\n",
              "    <tr>\n",
              "      <th>22</th>\n",
              "      <td>CO</td>\n",
              "      <td>2099</td>\n",
              "    </tr>\n",
              "    <tr>\n",
              "      <th>23</th>\n",
              "      <td>KY</td>\n",
              "      <td>1958</td>\n",
              "    </tr>\n",
              "    <tr>\n",
              "      <th>24</th>\n",
              "      <td>OK</td>\n",
              "      <td>1888</td>\n",
              "    </tr>\n",
              "    <tr>\n",
              "      <th>25</th>\n",
              "      <td>WI</td>\n",
              "      <td>1819</td>\n",
              "    </tr>\n",
              "    <tr>\n",
              "      <th>26</th>\n",
              "      <td>MN</td>\n",
              "      <td>1692</td>\n",
              "    </tr>\n",
              "    <tr>\n",
              "      <th>27</th>\n",
              "      <td>AR</td>\n",
              "      <td>1620</td>\n",
              "    </tr>\n",
              "    <tr>\n",
              "      <th>28</th>\n",
              "      <td>OR</td>\n",
              "      <td>1592</td>\n",
              "    </tr>\n",
              "    <tr>\n",
              "      <th>29</th>\n",
              "      <td>NV</td>\n",
              "      <td>1585</td>\n",
              "    </tr>\n",
              "    <tr>\n",
              "      <th>30</th>\n",
              "      <td>MS</td>\n",
              "      <td>1577</td>\n",
              "    </tr>\n",
              "    <tr>\n",
              "      <th>31</th>\n",
              "      <td>KS</td>\n",
              "      <td>1213</td>\n",
              "    </tr>\n",
              "    <tr>\n",
              "      <th>32</th>\n",
              "      <td>CT</td>\n",
              "      <td>1151</td>\n",
              "    </tr>\n",
              "    <tr>\n",
              "      <th>33</th>\n",
              "      <td>UT</td>\n",
              "      <td>1114</td>\n",
              "    </tr>\n",
              "    <tr>\n",
              "      <th>34</th>\n",
              "      <td>IA</td>\n",
              "      <td>1087</td>\n",
              "    </tr>\n",
              "    <tr>\n",
              "      <th>35</th>\n",
              "      <td>NM</td>\n",
              "      <td>876</td>\n",
              "    </tr>\n",
              "    <tr>\n",
              "      <th>36</th>\n",
              "      <td>WV</td>\n",
              "      <td>719</td>\n",
              "    </tr>\n",
              "    <tr>\n",
              "      <th>37</th>\n",
              "      <td>ID</td>\n",
              "      <td>674</td>\n",
              "    </tr>\n",
              "    <tr>\n",
              "      <th>38</th>\n",
              "      <td>NE</td>\n",
              "      <td>651</td>\n",
              "    </tr>\n",
              "    <tr>\n",
              "      <th>39</th>\n",
              "      <td>HI</td>\n",
              "      <td>520</td>\n",
              "    </tr>\n",
              "    <tr>\n",
              "      <th>40</th>\n",
              "      <td>RI</td>\n",
              "      <td>422</td>\n",
              "    </tr>\n",
              "    <tr>\n",
              "      <th>41</th>\n",
              "      <td>DE</td>\n",
              "      <td>421</td>\n",
              "    </tr>\n",
              "    <tr>\n",
              "      <th>42</th>\n",
              "      <td>ME</td>\n",
              "      <td>405</td>\n",
              "    </tr>\n",
              "    <tr>\n",
              "      <th>43</th>\n",
              "      <td>NH</td>\n",
              "      <td>379</td>\n",
              "    </tr>\n",
              "    <tr>\n",
              "      <th>44</th>\n",
              "      <td>MT</td>\n",
              "      <td>373</td>\n",
              "    </tr>\n",
              "    <tr>\n",
              "      <th>45</th>\n",
              "      <td>AK</td>\n",
              "      <td>337</td>\n",
              "    </tr>\n",
              "    <tr>\n",
              "      <th>46</th>\n",
              "      <td>DC</td>\n",
              "      <td>307</td>\n",
              "    </tr>\n",
              "    <tr>\n",
              "      <th>47</th>\n",
              "      <td>SD</td>\n",
              "      <td>291</td>\n",
              "    </tr>\n",
              "    <tr>\n",
              "      <th>48</th>\n",
              "      <td>ND</td>\n",
              "      <td>289</td>\n",
              "    </tr>\n",
              "    <tr>\n",
              "      <th>49</th>\n",
              "      <td>DEL</td>\n",
              "      <td>267</td>\n",
              "    </tr>\n",
              "    <tr>\n",
              "      <th>50</th>\n",
              "      <td>WY</td>\n",
              "      <td>225</td>\n",
              "    </tr>\n",
              "    <tr>\n",
              "      <th>51</th>\n",
              "      <td>VT</td>\n",
              "      <td>138</td>\n",
              "    </tr>\n",
              "    <tr>\n",
              "      <th>52</th>\n",
              "      <td>PR</td>\n",
              "      <td>77</td>\n",
              "    </tr>\n",
              "    <tr>\n",
              "      <th>53</th>\n",
              "      <td>VI</td>\n",
              "      <td>15</td>\n",
              "    </tr>\n",
              "    <tr>\n",
              "      <th>54</th>\n",
              "      <td>AP</td>\n",
              "      <td>3</td>\n",
              "    </tr>\n",
              "    <tr>\n",
              "      <th>55</th>\n",
              "      <td>AE</td>\n",
              "      <td>2</td>\n",
              "    </tr>\n",
              "    <tr>\n",
              "      <th>56</th>\n",
              "      <td>GU</td>\n",
              "      <td>1</td>\n",
              "    </tr>\n",
              "    <tr>\n",
              "      <th>57</th>\n",
              "      <td>AS</td>\n",
              "      <td>1</td>\n",
              "    </tr>\n",
              "  </tbody>\n",
              "</table>\n",
              "</div>"
            ],
            "text/plain": [
              "   index  shipping_region\n",
              "0     CA            13778\n",
              "1     TX            13514\n",
              "2     FL             9586\n",
              "3     NY             7878\n",
              "4     GA             5694\n",
              "5     OH             4713\n",
              "6     NC             4600\n",
              "7     PA             4597\n",
              "8     IL             4506\n",
              "9     MI             3675\n",
              "10    VA             3264\n",
              "11    AZ             3208\n",
              "12    NJ             3015\n",
              "13    TN             2917\n",
              "14    IN             2793\n",
              "15    MO             2679\n",
              "16    LA             2647\n",
              "17    MD             2567\n",
              "18    AL             2558\n",
              "19    SC             2496\n",
              "20    WA             2473\n",
              "21    MA             2207\n",
              "22    CO             2099\n",
              "23    KY             1958\n",
              "24    OK             1888\n",
              "25    WI             1819\n",
              "26    MN             1692\n",
              "27    AR             1620\n",
              "28    OR             1592\n",
              "29    NV             1585\n",
              "30    MS             1577\n",
              "31    KS             1213\n",
              "32    CT             1151\n",
              "33    UT             1114\n",
              "34    IA             1087\n",
              "35    NM              876\n",
              "36    WV              719\n",
              "37    ID              674\n",
              "38    NE              651\n",
              "39    HI              520\n",
              "40    RI              422\n",
              "41    DE              421\n",
              "42    ME              405\n",
              "43    NH              379\n",
              "44    MT              373\n",
              "45    AK              337\n",
              "46    DC              307\n",
              "47    SD              291\n",
              "48    ND              289\n",
              "49   DEL              267\n",
              "50    WY              225\n",
              "51    VT              138\n",
              "52    PR               77\n",
              "53    VI               15\n",
              "54    AP                3\n",
              "55    AE                2\n",
              "56    GU                1\n",
              "57    AS                1"
            ]
          },
          "metadata": {
            "tags": []
          },
          "execution_count": 201
        }
      ]
    },
    {
      "cell_type": "code",
      "metadata": {
        "colab": {
          "base_uri": "https://localhost:8080/"
        },
        "id": "fZR5S-6yti1d",
        "outputId": "a2ab2109-f7a5-457e-f1ce-e91720307d8c"
      },
      "source": [
        "good_users.info()"
      ],
      "execution_count": null,
      "outputs": [
        {
          "output_type": "stream",
          "text": [
            "<class 'pandas.core.frame.DataFrame'>\n",
            "RangeIndex: 134177 entries, 0 to 134176\n",
            "Data columns (total 18 columns):\n",
            " #   Column                        Non-Null Count   Dtype  \n",
            "---  ------                        --------------   -----  \n",
            " 0   subscription_hash             134177 non-null  object \n",
            " 1   channel                       134177 non-null  object \n",
            " 2   first_month_price             134177 non-null  float64\n",
            " 3   email_domain                  134177 non-null  object \n",
            " 4   first_payment_type            67889 non-null   object \n",
            " 5   subscription_platform         134177 non-null  object \n",
            " 6   signup_platform               124801 non-null  object \n",
            " 7   fragrance_family              17952 non-null   object \n",
            " 8   scent_profile_title           17952 non-null   object \n",
            " 9   shipping_region               134177 non-null  object \n",
            " 10  shipping_city                 134177 non-null  object \n",
            " 11  is_upgraded_in_first_2_days   134177 non-null  bool   \n",
            " 12  is_upcharged_in_first_2_days  134177 non-null  bool   \n",
            " 13  minutes_from_registration     134177 non-null  int64  \n",
            " 14  subscription_lifetime         134177 non-null  int64  \n",
            " 15  age_tier                      134177 non-null  object \n",
            " 16  sex                           134177 non-null  object \n",
            " 17  income_tier                   134177 non-null  object \n",
            "dtypes: bool(2), float64(1), int64(2), object(13)\n",
            "memory usage: 16.6+ MB\n"
          ],
          "name": "stdout"
        }
      ]
    },
    {
      "cell_type": "code",
      "metadata": {
        "colab": {
          "base_uri": "https://localhost:8080/"
        },
        "id": "b1i5RNGrTZTb",
        "outputId": "222c32ae-5c90-4343-b51a-75c746e9fac8"
      },
      "source": [
        "good_users['subscription_hash'].value_counts()                      #checking for duplicates in subscription hash"
      ],
      "execution_count": null,
      "outputs": [
        {
          "output_type": "execute_result",
          "data": {
            "text/plain": [
              "0e651d1e26378116bf5ae716b1cad848d77c07dc0f6d6fc0cc47e68e5622d647    4\n",
              "52f2321c8f6a4a1aadc9fd1c483e7a805f9da08569b352616cc34c8d84c7711f    4\n",
              "53095d2ead74945eb1279f9727e161f1d1b61c4fab4d0ee2d7784926e3b5ff9d    4\n",
              "cacd7e6739e9e2a58e7a10976829e31a2d349deac6a42d028cd9a4787b397b8a    4\n",
              "9c92b64b3261579e3c97ed14eb10d0f4f006c721e0e434804c393d6e920ec2bc    4\n",
              "                                                                   ..\n",
              "bd21b67bd233e1e0770c0f0d16716ef446ff72f062e237ebcb3a85d3ac23d454    1\n",
              "ebbb8840a118a23f6a408c5f33a4575d1b9b4e5e6944b9bb6e041abbb5e392c5    1\n",
              "102f4e5cc91ede104b5074f678df1b614976693397d5ec21bbf2b00daa139476    1\n",
              "65c82b88cae8bf52a4689a27d6bc533df66afea31ce45f72667016669919deb8    1\n",
              "d4f0957f5593dda661239d2fd45260eedb4632c68686777a0e9cac09f5048c40    1\n",
              "Name: subscription_hash, Length: 131115, dtype: int64"
            ]
          },
          "metadata": {
            "tags": []
          },
          "execution_count": 203
        }
      ]
    },
    {
      "cell_type": "code",
      "metadata": {
        "colab": {
          "base_uri": "https://localhost:8080/",
          "height": 193
        },
        "id": "S8rULu-vTh9B",
        "outputId": "ccf89cc4-a922-4ec5-949c-70335fc3e167"
      },
      "source": [
        "good_users[good_users['subscription_hash']=='0e651d1e26378116bf5ae716b1cad848d77c07dc0f6d6fc0cc47e68e5622d647']"
      ],
      "execution_count": null,
      "outputs": [
        {
          "output_type": "execute_result",
          "data": {
            "text/html": [
              "<div>\n",
              "<style scoped>\n",
              "    .dataframe tbody tr th:only-of-type {\n",
              "        vertical-align: middle;\n",
              "    }\n",
              "\n",
              "    .dataframe tbody tr th {\n",
              "        vertical-align: top;\n",
              "    }\n",
              "\n",
              "    .dataframe thead th {\n",
              "        text-align: right;\n",
              "    }\n",
              "</style>\n",
              "<table border=\"1\" class=\"dataframe\">\n",
              "  <thead>\n",
              "    <tr style=\"text-align: right;\">\n",
              "      <th></th>\n",
              "      <th>subscription_hash</th>\n",
              "      <th>channel</th>\n",
              "      <th>first_month_price</th>\n",
              "      <th>email_domain</th>\n",
              "      <th>first_payment_type</th>\n",
              "      <th>subscription_platform</th>\n",
              "      <th>signup_platform</th>\n",
              "      <th>fragrance_family</th>\n",
              "      <th>scent_profile_title</th>\n",
              "      <th>shipping_region</th>\n",
              "      <th>shipping_city</th>\n",
              "      <th>is_upgraded_in_first_2_days</th>\n",
              "      <th>is_upcharged_in_first_2_days</th>\n",
              "      <th>minutes_from_registration</th>\n",
              "      <th>subscription_lifetime</th>\n",
              "      <th>age_tier</th>\n",
              "      <th>sex</th>\n",
              "      <th>income_tier</th>\n",
              "    </tr>\n",
              "  </thead>\n",
              "  <tbody>\n",
              "    <tr>\n",
              "      <th>43135</th>\n",
              "      <td>0e651d1e26378116bf5ae716b1cad848d77c07dc0f6d6f...</td>\n",
              "      <td>Channel_3</td>\n",
              "      <td>3.0</td>\n",
              "      <td>b18226564f0740bc4e0785d34af8d56c85e278d32e321d...</td>\n",
              "      <td>Card</td>\n",
              "      <td>web</td>\n",
              "      <td>NaN</td>\n",
              "      <td>NaN</td>\n",
              "      <td>NaN</td>\n",
              "      <td>OR</td>\n",
              "      <td>PORTLAND</td>\n",
              "      <td>True</td>\n",
              "      <td>True</td>\n",
              "      <td>2364095</td>\n",
              "      <td>5</td>\n",
              "      <td>Below 18</td>\n",
              "      <td>female</td>\n",
              "      <td>25 to 49</td>\n",
              "    </tr>\n",
              "    <tr>\n",
              "      <th>54633</th>\n",
              "      <td>0e651d1e26378116bf5ae716b1cad848d77c07dc0f6d6f...</td>\n",
              "      <td>Channel_3</td>\n",
              "      <td>3.0</td>\n",
              "      <td>b18226564f0740bc4e0785d34af8d56c85e278d32e321d...</td>\n",
              "      <td>Card</td>\n",
              "      <td>web</td>\n",
              "      <td>NaN</td>\n",
              "      <td>NaN</td>\n",
              "      <td>NaN</td>\n",
              "      <td>OR</td>\n",
              "      <td>PORTLAND</td>\n",
              "      <td>False</td>\n",
              "      <td>True</td>\n",
              "      <td>2364095</td>\n",
              "      <td>5</td>\n",
              "      <td>Below 18</td>\n",
              "      <td>female</td>\n",
              "      <td>25 to 49</td>\n",
              "    </tr>\n",
              "    <tr>\n",
              "      <th>55259</th>\n",
              "      <td>0e651d1e26378116bf5ae716b1cad848d77c07dc0f6d6f...</td>\n",
              "      <td>Channel_3</td>\n",
              "      <td>3.0</td>\n",
              "      <td>b18226564f0740bc4e0785d34af8d56c85e278d32e321d...</td>\n",
              "      <td>Card</td>\n",
              "      <td>web</td>\n",
              "      <td>NaN</td>\n",
              "      <td>NaN</td>\n",
              "      <td>NaN</td>\n",
              "      <td>OR</td>\n",
              "      <td>PORTLAND</td>\n",
              "      <td>True</td>\n",
              "      <td>False</td>\n",
              "      <td>2364095</td>\n",
              "      <td>5</td>\n",
              "      <td>Below 18</td>\n",
              "      <td>female</td>\n",
              "      <td>25 to 49</td>\n",
              "    </tr>\n",
              "    <tr>\n",
              "      <th>118438</th>\n",
              "      <td>0e651d1e26378116bf5ae716b1cad848d77c07dc0f6d6f...</td>\n",
              "      <td>Channel_3</td>\n",
              "      <td>3.0</td>\n",
              "      <td>b18226564f0740bc4e0785d34af8d56c85e278d32e321d...</td>\n",
              "      <td>Card</td>\n",
              "      <td>web</td>\n",
              "      <td>NaN</td>\n",
              "      <td>NaN</td>\n",
              "      <td>NaN</td>\n",
              "      <td>OR</td>\n",
              "      <td>PORTLAND</td>\n",
              "      <td>False</td>\n",
              "      <td>False</td>\n",
              "      <td>2364095</td>\n",
              "      <td>5</td>\n",
              "      <td>Below 18</td>\n",
              "      <td>female</td>\n",
              "      <td>25 to 49</td>\n",
              "    </tr>\n",
              "  </tbody>\n",
              "</table>\n",
              "</div>"
            ],
            "text/plain": [
              "                                        subscription_hash  ... income_tier\n",
              "43135   0e651d1e26378116bf5ae716b1cad848d77c07dc0f6d6f...  ...    25 to 49\n",
              "54633   0e651d1e26378116bf5ae716b1cad848d77c07dc0f6d6f...  ...    25 to 49\n",
              "55259   0e651d1e26378116bf5ae716b1cad848d77c07dc0f6d6f...  ...    25 to 49\n",
              "118438  0e651d1e26378116bf5ae716b1cad848d77c07dc0f6d6f...  ...    25 to 49\n",
              "\n",
              "[4 rows x 18 columns]"
            ]
          },
          "metadata": {
            "tags": []
          },
          "execution_count": 204
        }
      ]
    },
    {
      "cell_type": "code",
      "metadata": {
        "id": "DAR6yF0DVU9o"
      },
      "source": [
        "good_users.drop_duplicates(subset='subscription_hash',ignore_index=True,inplace=True)\n",
        "#good_users.info()"
      ],
      "execution_count": null,
      "outputs": []
    },
    {
      "cell_type": "code",
      "metadata": {
        "colab": {
          "base_uri": "https://localhost:8080/"
        },
        "id": "e97KpVQ5kfcN",
        "outputId": "910c8ee3-f3c7-4737-fdb0-facff3875584"
      },
      "source": [
        "good_users['fragrance_family'].fillna(0,inplace=True)\n",
        "good_users.loc[good_users['fragrance_family']!=0,'fragrance_family']=1\n",
        "good_users['fragrance_family'].value_counts()"
      ],
      "execution_count": null,
      "outputs": [
        {
          "output_type": "execute_result",
          "data": {
            "text/plain": [
              "0    114522\n",
              "1     16593\n",
              "Name: fragrance_family, dtype: int64"
            ]
          },
          "metadata": {
            "tags": []
          },
          "execution_count": 206
        }
      ]
    },
    {
      "cell_type": "code",
      "metadata": {
        "colab": {
          "base_uri": "https://localhost:8080/"
        },
        "id": "g6lYYYJzvA94",
        "outputId": "a72a6de9-0e1c-453d-ed25-69089c2d2edb"
      },
      "source": [
        "good_users['first_payment_type'].value_counts()/len(good_users)"
      ],
      "execution_count": null,
      "outputs": [
        {
          "output_type": "execute_result",
          "data": {
            "text/plain": [
              "Card            0.405728\n",
              "PayPal          0.090035\n",
              "Prepaid Card    0.014705\n",
              "Name: first_payment_type, dtype: float64"
            ]
          },
          "metadata": {
            "tags": []
          },
          "execution_count": 207
        }
      ]
    },
    {
      "cell_type": "code",
      "metadata": {
        "colab": {
          "base_uri": "https://localhost:8080/"
        },
        "id": "0lG5QZdFvRPq",
        "outputId": "b0789676-1cd4-41f9-af07-63f948c1ca77"
      },
      "source": [
        "good_users['signup_platform'].value_counts()/len(good_users)"
      ],
      "execution_count": null,
      "outputs": [
        {
          "output_type": "execute_result",
          "data": {
            "text/plain": [
              "web        0.929650\n",
              "Android    0.000236\n",
              "iOS        0.000206\n",
              "Name: signup_platform, dtype: float64"
            ]
          },
          "metadata": {
            "tags": []
          },
          "execution_count": 208
        }
      ]
    },
    {
      "cell_type": "markdown",
      "metadata": {
        "id": "nN4K8TPQvl1F"
      },
      "source": [
        "For good users also the signup platform is highly dominated by web only "
      ]
    },
    {
      "cell_type": "code",
      "metadata": {
        "colab": {
          "base_uri": "https://localhost:8080/"
        },
        "id": "7vuoT-RGwRJa",
        "outputId": "1d289390-9d6f-40ea-9639-005cad2c9589"
      },
      "source": [
        "good_users['channel'].value_counts()/len(good_users)"
      ],
      "execution_count": null,
      "outputs": [
        {
          "output_type": "execute_result",
          "data": {
            "text/plain": [
              "Channel_3    0.723441\n",
              "Channel_1    0.219372\n",
              "Channel_2    0.057186\n",
              "Name: channel, dtype: float64"
            ]
          },
          "metadata": {
            "tags": []
          },
          "execution_count": 209
        }
      ]
    },
    {
      "cell_type": "code",
      "metadata": {
        "colab": {
          "base_uri": "https://localhost:8080/"
        },
        "id": "Qxs7Yzr4vjiF",
        "outputId": "ca171622-fbe2-4b5f-c36f-bac1ad992f7b"
      },
      "source": [
        "good_users.groupby(['first_month_price','channel'])['channel'].count()"
      ],
      "execution_count": null,
      "outputs": [
        {
          "output_type": "execute_result",
          "data": {
            "text/plain": [
              "first_month_price  channel  \n",
              "3.00               Channel_3    94854\n",
              "11.21              Channel_1    28763\n",
              "                   Channel_2     7498\n",
              "Name: channel, dtype: int64"
            ]
          },
          "metadata": {
            "tags": []
          },
          "execution_count": 210
        }
      ]
    },
    {
      "cell_type": "markdown",
      "metadata": {
        "id": "7iA4iShOlHRY"
      },
      "source": [
        "Exactly what we obsersved for bad_users. Users coming through channel_3 only pay 3.00 and none from channel_1 and channel_2 pay 3 dollars. Channels are probably marketing channels where channel_3 is the cheaper channel."
      ]
    },
    {
      "cell_type": "markdown",
      "metadata": {
        "id": "QLZ6OY3is2fB"
      },
      "source": [
        "\n",
        "<font color='green'> \n",
        "**FM comments:**\n",
        "\n",
        "Nice!\n",
        "</font>"
      ]
    },
    {
      "cell_type": "markdown",
      "metadata": {
        "id": "p2k1ACni44l-"
      },
      "source": [
        "Exploratory Data Analysis"
      ]
    },
    {
      "cell_type": "code",
      "metadata": {
        "colab": {
          "base_uri": "https://localhost:8080/",
          "height": 590
        },
        "id": "WEwzvdDmZCaV",
        "outputId": "2fb06574-b3a0-4b75-da1d-20ae6f8597ca"
      },
      "source": [
        "bad=bad_users['income_tier'].value_counts()/len(bad_users)\n",
        "good=good_users['income_tier'].value_counts()/len(good_users)\n",
        "df=pd.concat([bad,good],axis=1).reset_index()\n",
        "df.columns=['index','bad_users','good_users']\n",
        "df.plot.bar(x='index',figsize=(10,8))\n",
        "#plt.legend(['bad users','good_users'])\n",
        "plt.xlabel('Income tier',fontsize=12)\n",
        "plt.title('Income tier distribution for bad and good users', fontsize=14)\n",
        "#sns.barplot(bad_income,x=bad_income.index,y='income_tier')"
      ],
      "execution_count": null,
      "outputs": [
        {
          "output_type": "execute_result",
          "data": {
            "text/plain": [
              "Text(0.5, 1.0, 'Income tier distribution for bad and good users')"
            ]
          },
          "metadata": {
            "tags": []
          },
          "execution_count": 211
        },
        {
          "output_type": "display_data",
          "data": {
            "image/png": "[encoded data removed]",
            "text/plain": [
              "<Figure size 720x576 with 1 Axes>"
            ]
          },
          "metadata": {
            "tags": [],
            "needs_background": "light"
          }
        }
      ]
    },
    {
      "cell_type": "markdown",
      "metadata": {
        "id": "_Rg3lFneZZM0"
      },
      "source": [
        "Income tier distribution for bad and good users is quite similar"
      ]
    },
    {
      "cell_type": "code",
      "metadata": {
        "colab": {
          "base_uri": "https://localhost:8080/",
          "height": 584
        },
        "id": "aZgOxv2wbfOh",
        "outputId": "31b9b0bf-d591-4aa3-f28c-c7c601986bc8"
      },
      "source": [
        "bad=bad_users['age_tier'].value_counts()/len(bad_users)\n",
        "good=good_users['age_tier'].value_counts()/len(good_users)\n",
        "df=pd.concat([bad,good],axis=1).reset_index()\n",
        "df.columns=['index','bad_users','good_users']\n",
        "df.plot.bar(x='index',figsize=(10,8))\n",
        "#plt.legend(['bad users','good_users'])\n",
        "plt.xlabel('Age tier',fontsize=12)\n",
        "plt.title('Age tier distribution for bad and good users', fontsize=14)\n",
        "#sns.barplot(bad_income,x=bad_income.index,y='income_tier')"
      ],
      "execution_count": null,
      "outputs": [
        {
          "output_type": "execute_result",
          "data": {
            "text/plain": [
              "Text(0.5, 1.0, 'Age tier distribution for bad and good users')"
            ]
          },
          "metadata": {
            "tags": []
          },
          "execution_count": 212
        },
        {
          "output_type": "display_data",
          "data": {
            "image/png": "[encoded data removed]",
            "text/plain": [
              "<Figure size 720x576 with 1 Axes>"
            ]
          },
          "metadata": {
            "tags": [],
            "needs_background": "light"
          }
        }
      ]
    },
    {
      "cell_type": "markdown",
      "metadata": {
        "id": "OwGNaop-mB99"
      },
      "source": [
        "Age distribution for bad and good users is also very similar."
      ]
    },
    {
      "cell_type": "code",
      "metadata": {
        "colab": {
          "base_uri": "https://localhost:8080/"
        },
        "id": "enGoI1mYckpu",
        "outputId": "b8d3abba-e7e5-4435-c9b5-0694b0db4ba8"
      },
      "source": [
        "bad_users['sex'].value_counts()/len(bad_users)"
      ],
      "execution_count": null,
      "outputs": [
        {
          "output_type": "execute_result",
          "data": {
            "text/plain": [
              "female    0.792517\n",
              "male      0.207483\n",
              "Name: sex, dtype: float64"
            ]
          },
          "metadata": {
            "tags": []
          },
          "execution_count": 34
        }
      ]
    },
    {
      "cell_type": "code",
      "metadata": {
        "colab": {
          "base_uri": "https://localhost:8080/"
        },
        "id": "bYP7n3WYckcE",
        "outputId": "ac4b070e-60e5-4997-db04-0c5238b8f6d5"
      },
      "source": [
        "good_users['sex'].value_counts()/len(good_users)"
      ],
      "execution_count": null,
      "outputs": [
        {
          "output_type": "execute_result",
          "data": {
            "text/plain": [
              "female    0.766838\n",
              "male      0.233162\n",
              "Name: sex, dtype: float64"
            ]
          },
          "metadata": {
            "tags": []
          },
          "execution_count": 35
        }
      ]
    },
    {
      "cell_type": "code",
      "metadata": {
        "colab": {
          "base_uri": "https://localhost:8080/",
          "height": 539
        },
        "id": "4U5oYZHvdA0p",
        "outputId": "318eb127-f348-41fc-f5d6-6998ebbd749b"
      },
      "source": [
        "bad=bad_users['shipping_region'].value_counts().head(10)\n",
        "good=good_users['shipping_region'].value_counts().head(10)\n",
        "df=pd.concat([bad,good],axis=1).reset_index()\n",
        "df.plot.bar(x='index',figsize=(10,8))\n",
        "plt.legend(['bad users','good_users'])\n",
        "plt.xlabel('Shipping region',fontsize=12)\n",
        "plt.title('Top 10 shipping regions for both bad and good users', fontsize=14)"
      ],
      "execution_count": null,
      "outputs": [
        {
          "output_type": "execute_result",
          "data": {
            "text/plain": [
              "Text(0.5, 1.0, 'Top 10 shipping regions for both bad and good users')"
            ]
          },
          "metadata": {
            "tags": []
          },
          "execution_count": 36
        },
        {
          "output_type": "display_data",
          "data": {
            "image/png": "[encoded data removed]",
            "text/plain": [
              "<Figure size 720x576 with 1 Axes>"
            ]
          },
          "metadata": {
            "tags": [],
            "needs_background": "light"
          }
        }
      ]
    },
    {
      "cell_type": "code",
      "metadata": {
        "id": "5VBh1c1QgeXk"
      },
      "source": [
        "region=list(good_users['shipping_region'].value_counts().index[0:5])"
      ],
      "execution_count": null,
      "outputs": []
    },
    {
      "cell_type": "code",
      "metadata": {
        "colab": {
          "base_uri": "https://localhost:8080/",
          "height": 1000
        },
        "id": "veIrUxZqgBrv",
        "outputId": "69f32c0b-35b4-4f05-e7cc-98591addc4ea"
      },
      "source": [
        "f,ax=plt.subplots(nrows=5,ncols=2,figsize=(25,25))\n",
        "\n",
        "for i,reg in enumerate(region):\n",
        "  bad_reg=bad_users[bad_users.loc[:,'shipping_region']==reg].groupby('shipping_city')['shipping_city'].count().sort_values(ascending=False).head(5)\n",
        "  good_reg=good_users[good_users.loc[:,'shipping_region']==reg].groupby('shipping_city')['shipping_city'].count().sort_values(ascending=False).head(5)\n",
        "  #print(bad_reg.values)\n",
        "  sns.barplot(x=list(bad_reg.index),y=bad_reg.values,ax=ax[i,0])\n",
        "  sns.barplot(x=list(good_reg.index),y=good_reg.values,ax=ax[i,1])\n",
        "  ax[i,0].set_title('Top 5 cities in {} for bad users'.format(reg),fontsize=14)\n",
        "  ax[i,1].set_title('Top 5 cities in {} for good users'.format(reg),fontsize=14)"
      ],
      "execution_count": null,
      "outputs": [
        {
          "output_type": "display_data",
          "data": {
            "image/png": "[encoded data removed]",
            "text/plain": [
              "<Figure size 1800x1800 with 10 Axes>"
            ]
          },
          "metadata": {
            "tags": [],
            "needs_background": "light"
          }
        }
      ]
    },
    {
      "cell_type": "markdown",
      "metadata": {
        "id": "ZCHwME2ucXze"
      },
      "source": [
        "We can see a difference between good users and bad users at city level meaning all features we have seen so fas have very similar distribution for both users but cities in top 5 regions shows some degree of difference although it is not very significant "
      ]
    },
    {
      "cell_type": "code",
      "metadata": {
        "colab": {
          "base_uri": "https://localhost:8080/",
          "height": 1000
        },
        "id": "Glyz109_ugXK",
        "outputId": "ff187b1d-482c-43ba-bcc6-a73046f52239"
      },
      "source": [
        "f,ax=plt.subplots(nrows=5,ncols=2,figsize=(25,25))\n",
        "\n",
        "for i,reg in enumerate(region):\n",
        "   bad_reg=bad_users[bad_users.loc[:,'shipping_region']==reg].groupby('income_tier')['income_tier'].count().sort_values(ascending=False)\n",
        "   good_reg=good_users[good_users.loc[:,'shipping_region']==reg].groupby('income_tier')['income_tier'].count().sort_values(ascending=False)\n",
        "   sns.barplot(x=list(bad_reg.index),y=np.log(bad_reg.values),ax=ax[i,0])\n",
        "   sns.barplot(x=list(good_reg.index),y=np.log(good_reg.values),ax=ax[i,1])\n",
        "   ax[i,0].set_title('Income tier for bad users in {}'.format(reg),fontsize=14)\n",
        "   ax[i,1].set_title('Income tier for good users in {}'.format(reg),fontsize=14)\n",
        "   #print(bad_income_reg)"
      ],
      "execution_count": null,
      "outputs": [
        {
          "output_type": "display_data",
          "data": {
            "image/png": "[encoded data removed]",
            "text/plain": [
              "<Figure size 1800x1800 with 10 Axes>"
            ]
          },
          "metadata": {
            "tags": [],
            "needs_background": "light"
          }
        }
      ]
    },
    {
      "cell_type": "markdown",
      "metadata": {
        "id": "C3i1gHl356cR"
      },
      "source": [
        "Most users in CA and NY belong to 50 to 74 income tier whereas in TX,FL and GA most users belong to the 25 to 49 income tier"
      ]
    },
    {
      "cell_type": "code",
      "metadata": {
        "colab": {
          "base_uri": "https://localhost:8080/",
          "height": 596
        },
        "id": "sso8HoCsef2A",
        "outputId": "4ca12869-2105-4c0f-bdca-d34bf7c2e4d8"
      },
      "source": [
        "bad=bad_users['shipping_city'].value_counts().head(10)/len(bad_users)\n",
        "good=good_users['shipping_city'].value_counts().head(10)/len(good_users)\n",
        "df=pd.concat([bad,good],axis=1).reset_index()\n",
        "df.plot.bar(x='index',figsize=(10,8))\n",
        "plt.legend(['bad users','good_users'])\n",
        "plt.xlabel('Shipping city',fontsize=12)\n",
        "plt.title('Top 10 shipping cities for bad and good users', fontsize=14)"
      ],
      "execution_count": null,
      "outputs": [
        {
          "output_type": "execute_result",
          "data": {
            "text/plain": [
              "Text(0.5, 1.0, 'Top 10 shipping cities for bad and good users')"
            ]
          },
          "metadata": {
            "tags": []
          },
          "execution_count": 40
        },
        {
          "output_type": "display_data",
          "data": {
            "image/png": "[encoded data removed]",
            "text/plain": [
              "<Figure size 720x576 with 1 Axes>"
            ]
          },
          "metadata": {
            "tags": [],
            "needs_background": "light"
          }
        }
      ]
    },
    {
      "cell_type": "code",
      "metadata": {
        "id": "3NNOrVNmwKoq"
      },
      "source": [
        "bad_users['target']=0                               #encoding good users and bad users with 0,1\n",
        "good_users['target']=1"
      ],
      "execution_count": null,
      "outputs": []
    },
    {
      "cell_type": "code",
      "metadata": {
        "id": "gotoiHTjwwGs"
      },
      "source": [
        "users=pd.concat([bad_users,good_users],ignore_index=True)               #combining data for bad and good users"
      ],
      "execution_count": null,
      "outputs": []
    },
    {
      "cell_type": "code",
      "metadata": {
        "colab": {
          "base_uri": "https://localhost:8080/"
        },
        "id": "eem2bDeMxkh6",
        "outputId": "5511ee98-2b50-4dae-aeaa-a12ba6b8de3d"
      },
      "source": [
        "users.info()"
      ],
      "execution_count": null,
      "outputs": [
        {
          "output_type": "stream",
          "text": [
            "<class 'pandas.core.frame.DataFrame'>\n",
            "RangeIndex: 264268 entries, 0 to 264267\n",
            "Data columns (total 19 columns):\n",
            " #   Column                        Non-Null Count   Dtype  \n",
            "---  ------                        --------------   -----  \n",
            " 0   subscription_hash             264268 non-null  object \n",
            " 1   channel                       264268 non-null  object \n",
            " 2   first_month_price             264268 non-null  float64\n",
            " 3   email_domain                  264268 non-null  object \n",
            " 4   first_payment_type            172634 non-null  object \n",
            " 5   subscription_platform         264268 non-null  object \n",
            " 6   signup_platform               237650 non-null  object \n",
            " 7   fragrance_family              264268 non-null  object \n",
            " 8   scent_profile_title           21088 non-null   object \n",
            " 9   shipping_region               264268 non-null  object \n",
            " 10  shipping_city                 264268 non-null  object \n",
            " 11  is_upgraded_in_first_2_days   264268 non-null  bool   \n",
            " 12  is_upcharged_in_first_2_days  264268 non-null  bool   \n",
            " 13  minutes_from_registration     264268 non-null  int64  \n",
            " 14  subscription_lifetime         264268 non-null  int64  \n",
            " 15  age_tier                      264268 non-null  object \n",
            " 16  sex                           264268 non-null  object \n",
            " 17  income_tier                   264268 non-null  object \n",
            " 18  target                        264268 non-null  int64  \n",
            "dtypes: bool(2), float64(1), int64(3), object(13)\n",
            "memory usage: 34.8+ MB\n"
          ],
          "name": "stdout"
        }
      ]
    },
    {
      "cell_type": "code",
      "metadata": {
        "id": "NC6OI9DNG3cZ",
        "colab": {
          "base_uri": "https://localhost:8080/"
        },
        "outputId": "6e0d006a-1d4f-4fe3-b7fe-940a7a3a7a23"
      },
      "source": [
        "users['subscription_platform'].value_counts()"
      ],
      "execution_count": null,
      "outputs": [
        {
          "output_type": "execute_result",
          "data": {
            "text/plain": [
              "web        264184\n",
              "iOS            44\n",
              "Android        40\n",
              "Name: subscription_platform, dtype: int64"
            ]
          },
          "metadata": {
            "tags": []
          },
          "execution_count": 216
        }
      ]
    },
    {
      "cell_type": "markdown",
      "metadata": {
        "id": "1EX33krjBtB7"
      },
      "source": [
        "most of the data is concentrated in 'web' in subscription_platform. Other categories are highly insignificant. "
      ]
    },
    {
      "cell_type": "code",
      "metadata": {
        "id": "Sk9UHVpgeAQW"
      },
      "source": [
        "#dropping unuseful columns \n",
        "users=users.drop(['email_domain','signup_platform','subscription_platform','subscription_lifetime','scent_profile_title','shipping_city'],axis=1)"
      ],
      "execution_count": null,
      "outputs": []
    },
    {
      "cell_type": "code",
      "metadata": {
        "colab": {
          "base_uri": "https://localhost:8080/"
        },
        "id": "X48znwO8yQ05",
        "outputId": "01d4a7d0-7b16-41df-bc06-730313fb5aa1"
      },
      "source": [
        "users['minutes_from_registration'].value_counts()/len(users)"
      ],
      "execution_count": null,
      "outputs": [
        {
          "output_type": "execute_result",
          "data": {
            "text/plain": [
              "2          0.229256\n",
              "3          0.203203\n",
              "4          0.125475\n",
              "5          0.075946\n",
              "1          0.068226\n",
              "             ...   \n",
              "1222642    0.000004\n",
              "868367     0.000004\n",
              "280622     0.000004\n",
              "294967     0.000004\n",
              "2945       0.000004\n",
              "Name: minutes_from_registration, Length: 21208, dtype: float64"
            ]
          },
          "metadata": {
            "tags": []
          },
          "execution_count": 218
        }
      ]
    },
    {
      "cell_type": "code",
      "metadata": {
        "colab": {
          "base_uri": "https://localhost:8080/"
        },
        "id": "tpqmv8Cozx4U",
        "outputId": "5e83ee07-1315-4e8d-b05a-b704edfe3c28"
      },
      "source": [
        "#binning minutes from registration\n",
        "users['minutes_bucket']=pd.qcut(users['minutes_from_registration'],5,labels=['less than 2','2 to 3','3 to 4','4 to 8','8 above'])\n",
        "users['minutes_bucket'].value_counts()/len(users)"
      ],
      "execution_count": null,
      "outputs": [
        {
          "output_type": "execute_result",
          "data": {
            "text/plain": [
              "less than 2    0.298269\n",
              "2 to 3         0.203203\n",
              "8 above        0.193247\n",
              "4 to 8         0.179806\n",
              "3 to 4         0.125475\n",
              "Name: minutes_bucket, dtype: float64"
            ]
          },
          "metadata": {
            "tags": []
          },
          "execution_count": 219
        }
      ]
    },
    {
      "cell_type": "code",
      "metadata": {
        "id": "OGOseUeDfRZz",
        "colab": {
          "base_uri": "https://localhost:8080/"
        },
        "outputId": "ca33fbaf-4e29-4f42-cd72-8843a343d9df"
      },
      "source": [
        "users=users[users.loc[:,'income_tier']!='Undefined']\n",
        "users['income_tier'].where(users['income_tier'].isin(['25 to 49',\n",
        " '50 to 74',\n",
        " 'Below 25']),'75 or above',inplace=True)\n",
        "users['income_tier'].where(users['income_tier'].isin(['50 to 74','75 or above']),'below 49',inplace=True)\n",
        "users['income_tier'].value_counts()/len(users)"
      ],
      "execution_count": null,
      "outputs": [
        {
          "output_type": "execute_result",
          "data": {
            "text/plain": [
              "below 49       0.564101\n",
              "50 to 74       0.372404\n",
              "75 or above    0.063494\n",
              "Name: income_tier, dtype: float64"
            ]
          },
          "metadata": {
            "tags": []
          },
          "execution_count": 220
        }
      ]
    },
    {
      "cell_type": "code",
      "metadata": {
        "colab": {
          "base_uri": "https://localhost:8080/"
        },
        "id": "Y2RQsjDo0pPN",
        "outputId": "7d5b6599-bc13-4660-d2ec-2dc8f0d5a12a"
      },
      "source": [
        "users.groupby(['first_month_price','income_tier'])['income_tier'].count()/len(users)"
      ],
      "execution_count": null,
      "outputs": [
        {
          "output_type": "execute_result",
          "data": {
            "text/plain": [
              "first_month_price  income_tier\n",
              "3.00               50 to 74       0.265675\n",
              "                   75 or above    0.045586\n",
              "                   below 49       0.409701\n",
              "11.21              50 to 74       0.106729\n",
              "                   75 or above    0.017909\n",
              "                   below 49       0.154400\n",
              "Name: income_tier, dtype: float64"
            ]
          },
          "metadata": {
            "tags": []
          },
          "execution_count": 221
        }
      ]
    },
    {
      "cell_type": "markdown",
      "metadata": {
        "id": "dPYp4tT2aufz"
      },
      "source": [
        "There is no clear relation in customer's income and the subscription they purchase. For example people in below 25 tier also purchase 11.21 dollar subscription and people in 150 or Above tier also purchase 3 dollar subsccription"
      ]
    },
    {
      "cell_type": "code",
      "metadata": {
        "colab": {
          "base_uri": "https://localhost:8080/"
        },
        "id": "jjSYDeUT5Gc3",
        "outputId": "f4560a5a-bddd-4ae8-8c17-c9c50d990983"
      },
      "source": [
        "users['first_payment_type'].fillna('NaN',inplace=True) #fillna('Card',inplace=True)\n",
        "users['first_payment_type'].value_counts()/len(users)"
      ],
      "execution_count": null,
      "outputs": [
        {
          "output_type": "execute_result",
          "data": {
            "text/plain": [
              "Card            0.495871\n",
              "NaN             0.346942\n",
              "PayPal          0.146320\n",
              "Prepaid Card    0.010867\n",
              "Name: first_payment_type, dtype: float64"
            ]
          },
          "metadata": {
            "tags": []
          },
          "execution_count": 222
        }
      ]
    },
    {
      "cell_type": "markdown",
      "metadata": {
        "id": "R8-ZQzxgJqJh"
      },
      "source": [
        "The missing values have been filled with Nan because their is no way of knowing what method the customers used for paying.Also, after feature importance and building 3 different models it has been found that the target is highly dependent on this feature. Hence we will not take the risk of messing with this feature "
      ]
    },
    {
      "cell_type": "code",
      "metadata": {
        "id": "-3ggb8UmkzEO",
        "colab": {
          "base_uri": "https://localhost:8080/"
        },
        "outputId": "3a5ef06f-8def-44b9-f0a1-5f149e9c6b36"
      },
      "source": [
        "users['age_tier'].where(users['age_tier'].isin(['Below 18', '25 to 34', '35 to 44', '18 to 24']),'45 or above',inplace=True)\n",
        "users['age_tier'].value_counts()/len(users)"
      ],
      "execution_count": null,
      "outputs": [
        {
          "output_type": "execute_result",
          "data": {
            "text/plain": [
              "Below 18       0.958699\n",
              "25 to 34       0.013931\n",
              "35 to 44       0.013370\n",
              "45 or above    0.009347\n",
              "18 to 24       0.004653\n",
              "Name: age_tier, dtype: float64"
            ]
          },
          "metadata": {
            "tags": []
          },
          "execution_count": 223
        }
      ]
    },
    {
      "cell_type": "code",
      "metadata": {
        "id": "PFn1R7I4qXZh"
      },
      "source": [
        "users['first_month_price']=users['first_month_price'].astype(str)\n",
        "users['is_upcharged_in_first_2_days']=users['is_upcharged_in_first_2_days']*1\n",
        "users['is_upgraded_in_first_2_days']=users['is_upgraded_in_first_2_days']*1"
      ],
      "execution_count": null,
      "outputs": []
    },
    {
      "cell_type": "code",
      "metadata": {
        "colab": {
          "base_uri": "https://localhost:8080/"
        },
        "id": "GmnkWgvZdALw",
        "outputId": "3e66db26-d44d-4515-cdd3-bbc5de376fe9"
      },
      "source": [
        "users.columns"
      ],
      "execution_count": null,
      "outputs": [
        {
          "output_type": "execute_result",
          "data": {
            "text/plain": [
              "Index(['subscription_hash', 'channel', 'first_month_price',\n",
              "       'first_payment_type', 'fragrance_family', 'shipping_region',\n",
              "       'is_upgraded_in_first_2_days', 'is_upcharged_in_first_2_days',\n",
              "       'minutes_from_registration', 'age_tier', 'sex', 'income_tier', 'target',\n",
              "       'minutes_bucket'],\n",
              "      dtype='object')"
            ]
          },
          "metadata": {
            "tags": []
          },
          "execution_count": 225
        }
      ]
    },
    {
      "cell_type": "code",
      "metadata": {
        "id": "rqR_beYgqQtt"
      },
      "source": [
        "y=users.set_index('subscription_hash')['target']"
      ],
      "execution_count": null,
      "outputs": []
    },
    {
      "cell_type": "markdown",
      "metadata": {
        "id": "APjfsVn0nC0N"
      },
      "source": [
        "OHE Encoding"
      ]
    },
    {
      "cell_type": "code",
      "metadata": {
        "id": "i-7pY6OhfCkU"
      },
      "source": [
        "xcol=['channel', 'first_month_price','first_payment_type','is_upgraded_in_first_2_days',\n",
        "       'is_upcharged_in_first_2_days','age_tier', 'sex', 'income_tier', 'shipping_region'\n",
        "       'minutes_bucket','fragrance_family']\n"
      ],
      "execution_count": null,
      "outputs": []
    },
    {
      "cell_type": "code",
      "metadata": {
        "colab": {
          "base_uri": "https://localhost:8080/"
        },
        "id": "ASbYDOo1dAW2",
        "outputId": "69120414-f7f8-4e09-b72d-c7c4427d64af"
      },
      "source": [
        "data_ohe=users.drop(['minutes_from_registration','target'],axis=1).copy()\n",
        "data_ohe.set_index('subscription_hash',inplace=True)\n",
        "l=list(data_ohe['shipping_region'].value_counts().index[0:10])\n",
        "l\n",
        "data_ohe['shipping_region'].where(data_ohe['shipping_region'].isin(l),'Other',inplace=True)\n",
        "data_ohe['shipping_region'].value_counts()/len(users)"
      ],
      "execution_count": null,
      "outputs": [
        {
          "output_type": "execute_result",
          "data": {
            "text/plain": [
              "Other    0.458567\n",
              "CA       0.105827\n",
              "TX       0.101041\n",
              "FL       0.069379\n",
              "NY       0.054470\n",
              "GA       0.044031\n",
              "OH       0.035969\n",
              "NC       0.034726\n",
              "PA       0.034570\n",
              "IL       0.033205\n",
              "MI       0.028215\n",
              "Name: shipping_region, dtype: float64"
            ]
          },
          "metadata": {
            "tags": []
          },
          "execution_count": 56
        }
      ]
    },
    {
      "cell_type": "code",
      "metadata": {
        "id": "UOiH_ed1lypP",
        "colab": {
          "base_uri": "https://localhost:8080/",
          "height": 272
        },
        "outputId": "d90d0989-eb4b-4015-80b8-2cc52c8e2fab"
      },
      "source": [
        "data_ohe=pd.get_dummies(data_ohe,drop_first=True)\n",
        "#data_ohe=data_ohe.reset_index().drop('subscription_hash',axis=1)\n",
        "data_ohe['is_upgraded_in_first_2_days']=data_ohe['is_upgraded_in_first_2_days']*1\n",
        "data_ohe['is_upcharged_in_first_2_days']=data_ohe['is_upcharged_in_first_2_days']*1\n",
        "data_ohe.head()"
      ],
      "execution_count": null,
      "outputs": [
        {
          "output_type": "execute_result",
          "data": {
            "text/html": [
              "<div>\n",
              "<style scoped>\n",
              "    .dataframe tbody tr th:only-of-type {\n",
              "        vertical-align: middle;\n",
              "    }\n",
              "\n",
              "    .dataframe tbody tr th {\n",
              "        vertical-align: top;\n",
              "    }\n",
              "\n",
              "    .dataframe thead th {\n",
              "        text-align: right;\n",
              "    }\n",
              "</style>\n",
              "<table border=\"1\" class=\"dataframe\">\n",
              "  <thead>\n",
              "    <tr style=\"text-align: right;\">\n",
              "      <th></th>\n",
              "      <th>is_upgraded_in_first_2_days</th>\n",
              "      <th>is_upcharged_in_first_2_days</th>\n",
              "      <th>channel_Channel_2</th>\n",
              "      <th>channel_Channel_3</th>\n",
              "      <th>first_month_price_3.0</th>\n",
              "      <th>first_payment_type_NaN</th>\n",
              "      <th>first_payment_type_PayPal</th>\n",
              "      <th>first_payment_type_Prepaid Card</th>\n",
              "      <th>fragrance_family_1</th>\n",
              "      <th>shipping_region_FL</th>\n",
              "      <th>shipping_region_GA</th>\n",
              "      <th>shipping_region_IL</th>\n",
              "      <th>shipping_region_MI</th>\n",
              "      <th>shipping_region_NC</th>\n",
              "      <th>shipping_region_NY</th>\n",
              "      <th>shipping_region_OH</th>\n",
              "      <th>shipping_region_Other</th>\n",
              "      <th>shipping_region_PA</th>\n",
              "      <th>shipping_region_TX</th>\n",
              "      <th>age_tier_25 to 34</th>\n",
              "      <th>age_tier_35 to 44</th>\n",
              "      <th>age_tier_45 or above</th>\n",
              "      <th>age_tier_Below 18</th>\n",
              "      <th>sex_male</th>\n",
              "      <th>income_tier_75 or above</th>\n",
              "      <th>income_tier_below 49</th>\n",
              "      <th>minutes_bucket_2 to 3</th>\n",
              "      <th>minutes_bucket_3 to 4</th>\n",
              "      <th>minutes_bucket_4 to 8</th>\n",
              "      <th>minutes_bucket_8 above</th>\n",
              "    </tr>\n",
              "    <tr>\n",
              "      <th>subscription_hash</th>\n",
              "      <th></th>\n",
              "      <th></th>\n",
              "      <th></th>\n",
              "      <th></th>\n",
              "      <th></th>\n",
              "      <th></th>\n",
              "      <th></th>\n",
              "      <th></th>\n",
              "      <th></th>\n",
              "      <th></th>\n",
              "      <th></th>\n",
              "      <th></th>\n",
              "      <th></th>\n",
              "      <th></th>\n",
              "      <th></th>\n",
              "      <th></th>\n",
              "      <th></th>\n",
              "      <th></th>\n",
              "      <th></th>\n",
              "      <th></th>\n",
              "      <th></th>\n",
              "      <th></th>\n",
              "      <th></th>\n",
              "      <th></th>\n",
              "      <th></th>\n",
              "      <th></th>\n",
              "      <th></th>\n",
              "      <th></th>\n",
              "      <th></th>\n",
              "      <th></th>\n",
              "    </tr>\n",
              "  </thead>\n",
              "  <tbody>\n",
              "    <tr>\n",
              "      <th>6c6f36cd8eb42ef1d905578a6b0947f534d6132ae1c02517a04c2f141c197671</th>\n",
              "      <td>0</td>\n",
              "      <td>0</td>\n",
              "      <td>0</td>\n",
              "      <td>1</td>\n",
              "      <td>1</td>\n",
              "      <td>0</td>\n",
              "      <td>0</td>\n",
              "      <td>0</td>\n",
              "      <td>0</td>\n",
              "      <td>1</td>\n",
              "      <td>0</td>\n",
              "      <td>0</td>\n",
              "      <td>0</td>\n",
              "      <td>0</td>\n",
              "      <td>0</td>\n",
              "      <td>0</td>\n",
              "      <td>0</td>\n",
              "      <td>0</td>\n",
              "      <td>0</td>\n",
              "      <td>0</td>\n",
              "      <td>0</td>\n",
              "      <td>1</td>\n",
              "      <td>0</td>\n",
              "      <td>0</td>\n",
              "      <td>0</td>\n",
              "      <td>1</td>\n",
              "      <td>1</td>\n",
              "      <td>0</td>\n",
              "      <td>0</td>\n",
              "      <td>0</td>\n",
              "    </tr>\n",
              "    <tr>\n",
              "      <th>73831634ef6d3639546fbb58f7ea4288220d907600fc9b2e6a71cef6f1d570ba</th>\n",
              "      <td>0</td>\n",
              "      <td>1</td>\n",
              "      <td>0</td>\n",
              "      <td>0</td>\n",
              "      <td>0</td>\n",
              "      <td>0</td>\n",
              "      <td>0</td>\n",
              "      <td>0</td>\n",
              "      <td>0</td>\n",
              "      <td>0</td>\n",
              "      <td>0</td>\n",
              "      <td>0</td>\n",
              "      <td>0</td>\n",
              "      <td>0</td>\n",
              "      <td>0</td>\n",
              "      <td>0</td>\n",
              "      <td>0</td>\n",
              "      <td>1</td>\n",
              "      <td>0</td>\n",
              "      <td>0</td>\n",
              "      <td>0</td>\n",
              "      <td>0</td>\n",
              "      <td>1</td>\n",
              "      <td>1</td>\n",
              "      <td>0</td>\n",
              "      <td>0</td>\n",
              "      <td>1</td>\n",
              "      <td>0</td>\n",
              "      <td>0</td>\n",
              "      <td>0</td>\n",
              "    </tr>\n",
              "    <tr>\n",
              "      <th>75c705c4e9d81bb6037d2383118983f1f8009b6ae203d46868e930f356bc87b4</th>\n",
              "      <td>0</td>\n",
              "      <td>1</td>\n",
              "      <td>0</td>\n",
              "      <td>0</td>\n",
              "      <td>0</td>\n",
              "      <td>1</td>\n",
              "      <td>0</td>\n",
              "      <td>0</td>\n",
              "      <td>0</td>\n",
              "      <td>0</td>\n",
              "      <td>0</td>\n",
              "      <td>0</td>\n",
              "      <td>0</td>\n",
              "      <td>0</td>\n",
              "      <td>0</td>\n",
              "      <td>0</td>\n",
              "      <td>1</td>\n",
              "      <td>0</td>\n",
              "      <td>0</td>\n",
              "      <td>0</td>\n",
              "      <td>0</td>\n",
              "      <td>0</td>\n",
              "      <td>1</td>\n",
              "      <td>0</td>\n",
              "      <td>0</td>\n",
              "      <td>1</td>\n",
              "      <td>0</td>\n",
              "      <td>0</td>\n",
              "      <td>0</td>\n",
              "      <td>0</td>\n",
              "    </tr>\n",
              "    <tr>\n",
              "      <th>20bb89aa63a1bc2a2f0c6e435a1da9057e52b6eec113fbb4e5f55fec76ef87ef</th>\n",
              "      <td>0</td>\n",
              "      <td>0</td>\n",
              "      <td>0</td>\n",
              "      <td>1</td>\n",
              "      <td>1</td>\n",
              "      <td>0</td>\n",
              "      <td>0</td>\n",
              "      <td>0</td>\n",
              "      <td>0</td>\n",
              "      <td>0</td>\n",
              "      <td>0</td>\n",
              "      <td>0</td>\n",
              "      <td>0</td>\n",
              "      <td>0</td>\n",
              "      <td>0</td>\n",
              "      <td>0</td>\n",
              "      <td>0</td>\n",
              "      <td>0</td>\n",
              "      <td>1</td>\n",
              "      <td>0</td>\n",
              "      <td>0</td>\n",
              "      <td>0</td>\n",
              "      <td>1</td>\n",
              "      <td>0</td>\n",
              "      <td>0</td>\n",
              "      <td>1</td>\n",
              "      <td>1</td>\n",
              "      <td>0</td>\n",
              "      <td>0</td>\n",
              "      <td>0</td>\n",
              "    </tr>\n",
              "    <tr>\n",
              "      <th>160647d08b5d29ad4039b58f0c8f6515c29cdc7aae517e431ff46da3ed645dda</th>\n",
              "      <td>1</td>\n",
              "      <td>0</td>\n",
              "      <td>0</td>\n",
              "      <td>0</td>\n",
              "      <td>0</td>\n",
              "      <td>1</td>\n",
              "      <td>0</td>\n",
              "      <td>0</td>\n",
              "      <td>0</td>\n",
              "      <td>0</td>\n",
              "      <td>0</td>\n",
              "      <td>0</td>\n",
              "      <td>0</td>\n",
              "      <td>0</td>\n",
              "      <td>0</td>\n",
              "      <td>0</td>\n",
              "      <td>0</td>\n",
              "      <td>0</td>\n",
              "      <td>1</td>\n",
              "      <td>0</td>\n",
              "      <td>0</td>\n",
              "      <td>0</td>\n",
              "      <td>1</td>\n",
              "      <td>0</td>\n",
              "      <td>0</td>\n",
              "      <td>1</td>\n",
              "      <td>0</td>\n",
              "      <td>0</td>\n",
              "      <td>0</td>\n",
              "      <td>0</td>\n",
              "    </tr>\n",
              "  </tbody>\n",
              "</table>\n",
              "</div>"
            ],
            "text/plain": [
              "                                                    is_upgraded_in_first_2_days  ...  minutes_bucket_8 above\n",
              "subscription_hash                                                                ...                        \n",
              "6c6f36cd8eb42ef1d905578a6b0947f534d6132ae1c0251...                            0  ...                       0\n",
              "73831634ef6d3639546fbb58f7ea4288220d907600fc9b2...                            0  ...                       0\n",
              "75c705c4e9d81bb6037d2383118983f1f8009b6ae203d46...                            0  ...                       0\n",
              "20bb89aa63a1bc2a2f0c6e435a1da9057e52b6eec113fbb...                            0  ...                       0\n",
              "160647d08b5d29ad4039b58f0c8f6515c29cdc7aae517e4...                            1  ...                       0\n",
              "\n",
              "[5 rows x 30 columns]"
            ]
          },
          "metadata": {
            "tags": []
          },
          "execution_count": 57
        }
      ]
    },
    {
      "cell_type": "code",
      "metadata": {
        "id": "SNbjiLj32Hur"
      },
      "source": [
        "data_ohe=data_ohe.astype('int64')"
      ],
      "execution_count": null,
      "outputs": []
    },
    {
      "cell_type": "code",
      "metadata": {
        "colab": {
          "base_uri": "https://localhost:8080/",
          "height": 459
        },
        "id": "XJG3EfJ11WVr",
        "outputId": "52863c49-ceb6-4be3-c257-8d54f21802ee"
      },
      "source": [
        "#Mutual information score for feature selection\n",
        "\n",
        "discrete_features = data_ohe.dtypes == int\n",
        "#print(discrete_features)\n",
        "mi = mutual_info_classif(data_ohe,y, discrete_features=discrete_features)\n",
        "mi_scores = pd.DataFrame(mi, index=data_ohe.columns)\n",
        "mi_scores.columns=['score']\n",
        "mi_scores=mi_scores.sort_values(by='score', ascending=False)\n",
        "mi_scores1=mi_scores.query('score>0.001')\n",
        "\n",
        "mi_scores1.plot.bar(figsize = (16,5))\n",
        "plt.title('Mutual information score with respect to features')\n",
        "plt.show()"
      ],
      "execution_count": null,
      "outputs": [
        {
          "output_type": "display_data",
          "data": {
            "image/png": "[encoded data removed]",
            "text/plain": [
              "<Figure size 1152x360 with 1 Axes>"
            ]
          },
          "metadata": {
            "tags": [],
            "needs_background": "light"
          }
        }
      ]
    },
    {
      "cell_type": "markdown",
      "metadata": {
        "id": "0RafKoQ1Kho7"
      },
      "source": [
        "The missing values are more predictive than values!"
      ]
    },
    {
      "cell_type": "markdown",
      "metadata": {
        "id": "0CSDp6kTAfF7"
      },
      "source": [
        "I tried removing some of the columns which according to Mutual information score are not predictive but the metrics fell so no columns have been removed on the basis of this score"
      ]
    },
    {
      "cell_type": "code",
      "metadata": {
        "id": "1dO88z6gm9wl"
      },
      "source": [
        "features_train,features_test,target_train,target_test=train_test_split(data_ohe,y,test_size=0.20,random_state=4)"
      ],
      "execution_count": null,
      "outputs": []
    },
    {
      "cell_type": "code",
      "metadata": {
        "id": "Gy33uNG80siw"
      },
      "source": [
        "features_train,features_val,target_train,target_val=train_test_split(features_train,target_train,test_size=0.25,random_state=4)"
      ],
      "execution_count": null,
      "outputs": []
    },
    {
      "cell_type": "code",
      "metadata": {
        "colab": {
          "base_uri": "https://localhost:8080/"
        },
        "id": "OkYrq53porbc",
        "outputId": "02bc12f6-dbe8-4d84-bc92-c19acdb3a561"
      },
      "source": [
        "print(features_train.shape,target_train.shape)"
      ],
      "execution_count": null,
      "outputs": [
        {
          "output_type": "stream",
          "text": [
            "(158234, 30) (158234,)\n"
          ],
          "name": "stdout"
        }
      ]
    },
    {
      "cell_type": "code",
      "metadata": {
        "colab": {
          "base_uri": "https://localhost:8080/"
        },
        "id": "34llRAFgGxoX",
        "outputId": "5d793fa1-7742-4898-f2bb-517746b3b25b"
      },
      "source": [
        "target_train.value_counts()/len(target_train)"
      ],
      "execution_count": null,
      "outputs": [
        {
          "output_type": "execute_result",
          "data": {
            "text/plain": [
              "0    0.503482\n",
              "1    0.496518\n",
              "Name: target, dtype: float64"
            ]
          },
          "metadata": {
            "tags": []
          },
          "execution_count": 63
        }
      ]
    },
    {
      "cell_type": "code",
      "metadata": {
        "colab": {
          "base_uri": "https://localhost:8080/"
        },
        "id": "DpOZy8B4oskl",
        "outputId": "47655810-ef8f-484f-e6e2-fbfc4d1591fa"
      },
      "source": [
        "target_val.value_counts()/len(target_val)"
      ],
      "execution_count": null,
      "outputs": [
        {
          "output_type": "execute_result",
          "data": {
            "text/plain": [
              "0    0.50054\n",
              "1    0.49946\n",
              "Name: target, dtype: float64"
            ]
          },
          "metadata": {
            "tags": []
          },
          "execution_count": 64
        }
      ]
    },
    {
      "cell_type": "code",
      "metadata": {
        "colab": {
          "base_uri": "https://localhost:8080/"
        },
        "id": "gti8sw3JXmZG",
        "outputId": "200f30bc-0855-4cf3-9097-732decd2f1c9"
      },
      "source": [
        "target_test.value_counts()/len(target_test)"
      ],
      "execution_count": null,
      "outputs": [
        {
          "output_type": "execute_result",
          "data": {
            "text/plain": [
              "0    0.50655\n",
              "1    0.49345\n",
              "Name: target, dtype: float64"
            ]
          },
          "metadata": {
            "tags": []
          },
          "execution_count": 65
        }
      ]
    },
    {
      "cell_type": "markdown",
      "metadata": {
        "id": "tymNKIqs5q34"
      },
      "source": [
        "Train,validation and test datasets have similar distribution of target"
      ]
    },
    {
      "cell_type": "code",
      "metadata": {
        "id": "IN83W4D_iPcU"
      },
      "source": [
        "#function for evaluating models\n",
        "def evaluate(model,x,y,data):\n",
        "  a=metrics.accuracy_score(y,model.predict(x))\n",
        "  #p=metrics.precision_score(y,yhat)\n",
        "  print(\"Accuracy\",a)\n",
        "  f1=metrics.f1_score(y,model.predict(x))\n",
        "  print(\"F1 score\",f1)\n",
        "  auc_roc=metrics.roc_auc_score(y, model.predict_proba(x)[:,1])\n",
        "  print(\"AUC ROC\",auc_roc)\n",
        "  metrics.plot_roc_curve(model,x,y)\n",
        "  plt.title(\"ROC Curve for \"+ data)\n",
        "  disp = plot_confusion_matrix(model, x, y,\n",
        "                                 display_labels=[0,1],\n",
        "                                 cmap=plt.cm.Blues,\n",
        "                                 normalize='true')\n",
        "  disp.ax_.set_title('Confusion Matrix')\n",
        "\n",
        "  \n",
        "  print(disp.confusion_matrix)\n",
        "\n",
        "  #return a,f1,disp"
      ],
      "execution_count": null,
      "outputs": []
    },
    {
      "cell_type": "markdown",
      "metadata": {
        "id": "8c4eUlZL8lZM"
      },
      "source": [
        "Base Model"
      ]
    },
    {
      "cell_type": "code",
      "metadata": {
        "id": "PnIbwWtryXhf"
      },
      "source": [
        "features_train,features_test,target_train,target_test=train_test_split(data_ohe,y,test_size=0.25,random_state=4)"
      ],
      "execution_count": null,
      "outputs": []
    },
    {
      "cell_type": "code",
      "metadata": {
        "id": "Gyl4aPimgwce"
      },
      "source": [
        "logit=LogisticRegression(solver='saga',max_iter=200,penalty='elasticnet',class_weight='balanced',random_state=42)"
      ],
      "execution_count": null,
      "outputs": []
    },
    {
      "cell_type": "code",
      "metadata": {
        "id": "ZThJjaeGpJd6"
      },
      "source": [
        "#using gaussian process minimize, a bayesian optimization technique for tuning l1_ratio\n",
        "space=[Real(0,1,name='l1_ratio')]\n",
        "\n",
        "@use_named_args(space)\n",
        "def evaluate_model(**params):\n",
        "\t\n",
        "\tlogit.set_params(**params)\n",
        "\t# calculate 5-fold cross validation\n",
        "\tresult = cross_val_score(logit, features_train, target_train, cv=5, n_jobs=-1, scoring='roc_auc')\n",
        "\t# calculate the mean of the scores\n",
        "\testimate = np.mean(result)\n",
        "\treturn 1.0 - estimate"
      ],
      "execution_count": null,
      "outputs": []
    },
    {
      "cell_type": "code",
      "metadata": {
        "colab": {
          "base_uri": "https://localhost:8080/"
        },
        "id": "0-nkQjaYpNxD",
        "outputId": "51823234-a61d-404f-db0d-5759d9789078"
      },
      "source": [
        "res_gp = gp_minimize(evaluate_model, space, n_calls=50, random_state=0)\n",
        "\n",
        "print(\"Best score=%.4f\" % res_gp.fun)\n",
        "print(\"Best parameters:\")\n",
        "print(\"l1_ratio:\",res_gp.x[0])"
      ],
      "execution_count": null,
      "outputs": [
        {
          "output_type": "stream",
          "text": [
            "Best score=0.2927\n",
            "Best parameters:\n",
            "l1_ratio: 0.47766511732135\n"
          ],
          "name": "stdout"
        }
      ]
    },
    {
      "cell_type": "code",
      "metadata": {
        "colab": {
          "base_uri": "https://localhost:8080/",
          "height": 1000
        },
        "id": "kEbRvycfxw85",
        "outputId": "97106192-4b91-43b3-b24b-665aefe14764"
      },
      "source": [
        "logit=LogisticRegression(solver='saga',class_weight='balanced',max_iter=500,penalty='elasticnet',l1_ratio=0.477665,random_state=42)\n",
        "logit.fit(features_train,target_train)\n",
        "\n",
        "print(\"Evaluation metrics for train set\")\n",
        "evaluate(logit,features_train,target_train,'train set')\n",
        "\n",
        "print(\"Evaluation metrics for test set\")\n",
        "evaluate(logit,features_test,target_test,'test set')\n"
      ],
      "execution_count": null,
      "outputs": [
        {
          "output_type": "stream",
          "text": [
            "Evaluation metrics for train set\n",
            "Accuracy 0.6479046275651817\n",
            "F1 score 0.5961143652496665\n",
            "AUC ROC 0.7074805252568659\n",
            "[[0.77211777 0.22788223]\n",
            " [0.47760769 0.52239231]]\n",
            "Evaluation metrics for test set\n",
            "Accuracy 0.6473737695469506\n",
            "F1 score 0.5927586750512358\n",
            "AUC ROC 0.7072918057913057\n",
            "[[0.771872   0.228128  ]\n",
            " [0.48026417 0.51973583]]\n"
          ],
          "name": "stdout"
        },
        {
          "output_type": "display_data",
          "data": {
            "image/png": "[encoded data removed]",
            "text/plain": [
              "<Figure size 432x288 with 1 Axes>"
            ]
          },
          "metadata": {
            "tags": [],
            "needs_background": "light"
          }
        },
        {
          "output_type": "display_data",
          "data": {
            "image/png": "[encoded data removed]",
            "text/plain": [
              "<Figure size 432x288 with 2 Axes>"
            ]
          },
          "metadata": {
            "tags": [],
            "needs_background": "light"
          }
        },
        {
          "output_type": "display_data",
          "data": {
            "image/png": "[encoded data removed]",
            "text/plain": [
              "<Figure size 432x288 with 1 Axes>"
            ]
          },
          "metadata": {
            "tags": [],
            "needs_background": "light"
          }
        },
        {
          "output_type": "display_data",
          "data": {
            "image/png": "[encoded data removed]",
            "text/plain": [
              "<Figure size 432x288 with 2 Axes>"
            ]
          },
          "metadata": {
            "tags": [],
            "needs_background": "light"
          }
        }
      ]
    },
    {
      "cell_type": "markdown",
      "metadata": {
        "id": "9P5PVHKU1M2_"
      },
      "source": [
        "All the metrics have very similar values for train and test set which means our model is not overfitting. "
      ]
    },
    {
      "cell_type": "markdown",
      "metadata": {
        "id": "mfRH8uXmxklf"
      },
      "source": [
        "---\n",
        "\n",
        "<font color='green'> \n",
        "**FM comments:**\n",
        "\n",
        "I like your work - well done!\n",
        "\n",
        "Several suggestions:\n",
        "\n",
        "* Current form of confusion matrix does not show where is false negative and \n",
        "where is false positive values. I recomment to show it like that https://scikit-learn.org/stable/auto_examples/model_selection/plot_confusion_matrix.html#sphx-glr-auto-examples-model-selection-plot-confusion-matrix-py \n",
        "\n",
        "* Probably, you can improve quality if change scoring function in *evaluate_model()* function.  \n",
        "\n",
        "* Dataset is well balanced, therefore I suggest to show ROC AUC curve instead PR curve.\n",
        "\n",
        "\n",
        "I believe that events data can improve results. Please ponder features you can construct from event logs. \n",
        "\n",
        "---\n",
        "\n"
      ]
    },
    {
      "cell_type": "markdown",
      "metadata": {
        "id": "fPDgaEfnA-la"
      },
      "source": [
        "The base model ends here. Ahead we have other models which are still incomplete"
      ]
    },
    {
      "cell_type": "code",
      "metadata": {
        "colab": {
          "base_uri": "https://localhost:8080/",
          "height": 241
        },
        "id": "Uu0djX1boBTn",
        "outputId": "1132d233-036f-4369-cbdf-cefb79d54c8f"
      },
      "source": [
        "users.head()"
      ],
      "execution_count": null,
      "outputs": [
        {
          "output_type": "execute_result",
          "data": {
            "text/html": [
              "<div>\n",
              "<style scoped>\n",
              "    .dataframe tbody tr th:only-of-type {\n",
              "        vertical-align: middle;\n",
              "    }\n",
              "\n",
              "    .dataframe tbody tr th {\n",
              "        vertical-align: top;\n",
              "    }\n",
              "\n",
              "    .dataframe thead th {\n",
              "        text-align: right;\n",
              "    }\n",
              "</style>\n",
              "<table border=\"1\" class=\"dataframe\">\n",
              "  <thead>\n",
              "    <tr style=\"text-align: right;\">\n",
              "      <th></th>\n",
              "      <th>subscription_hash</th>\n",
              "      <th>channel</th>\n",
              "      <th>first_month_price</th>\n",
              "      <th>first_payment_type</th>\n",
              "      <th>fragrance_family</th>\n",
              "      <th>shipping_region</th>\n",
              "      <th>is_upgraded_in_first_2_days</th>\n",
              "      <th>is_upcharged_in_first_2_days</th>\n",
              "      <th>minutes_from_registration</th>\n",
              "      <th>age_tier</th>\n",
              "      <th>sex</th>\n",
              "      <th>income_tier</th>\n",
              "      <th>target</th>\n",
              "      <th>minutes_bucket</th>\n",
              "    </tr>\n",
              "  </thead>\n",
              "  <tbody>\n",
              "    <tr>\n",
              "      <th>0</th>\n",
              "      <td>6c6f36cd8eb42ef1d905578a6b0947f534d6132ae1c025...</td>\n",
              "      <td>Channel_3</td>\n",
              "      <td>3.0</td>\n",
              "      <td>Card</td>\n",
              "      <td>0</td>\n",
              "      <td>FL</td>\n",
              "      <td>0</td>\n",
              "      <td>0</td>\n",
              "      <td>3</td>\n",
              "      <td>45 or above</td>\n",
              "      <td>female</td>\n",
              "      <td>below 49</td>\n",
              "      <td>0</td>\n",
              "      <td>2 to 3</td>\n",
              "    </tr>\n",
              "    <tr>\n",
              "      <th>1</th>\n",
              "      <td>73831634ef6d3639546fbb58f7ea4288220d907600fc9b...</td>\n",
              "      <td>Channel_1</td>\n",
              "      <td>11.21</td>\n",
              "      <td>Card</td>\n",
              "      <td>0</td>\n",
              "      <td>PA</td>\n",
              "      <td>0</td>\n",
              "      <td>1</td>\n",
              "      <td>3</td>\n",
              "      <td>Below 18</td>\n",
              "      <td>male</td>\n",
              "      <td>50 to 74</td>\n",
              "      <td>0</td>\n",
              "      <td>2 to 3</td>\n",
              "    </tr>\n",
              "    <tr>\n",
              "      <th>2</th>\n",
              "      <td>75c705c4e9d81bb6037d2383118983f1f8009b6ae203d4...</td>\n",
              "      <td>Channel_1</td>\n",
              "      <td>11.21</td>\n",
              "      <td>NaN</td>\n",
              "      <td>0</td>\n",
              "      <td>IN</td>\n",
              "      <td>0</td>\n",
              "      <td>1</td>\n",
              "      <td>2</td>\n",
              "      <td>Below 18</td>\n",
              "      <td>female</td>\n",
              "      <td>below 49</td>\n",
              "      <td>0</td>\n",
              "      <td>less than 2</td>\n",
              "    </tr>\n",
              "    <tr>\n",
              "      <th>3</th>\n",
              "      <td>20bb89aa63a1bc2a2f0c6e435a1da9057e52b6eec113fb...</td>\n",
              "      <td>Channel_3</td>\n",
              "      <td>3.0</td>\n",
              "      <td>Card</td>\n",
              "      <td>0</td>\n",
              "      <td>TX</td>\n",
              "      <td>0</td>\n",
              "      <td>0</td>\n",
              "      <td>3</td>\n",
              "      <td>Below 18</td>\n",
              "      <td>female</td>\n",
              "      <td>below 49</td>\n",
              "      <td>0</td>\n",
              "      <td>2 to 3</td>\n",
              "    </tr>\n",
              "    <tr>\n",
              "      <th>4</th>\n",
              "      <td>160647d08b5d29ad4039b58f0c8f6515c29cdc7aae517e...</td>\n",
              "      <td>Channel_1</td>\n",
              "      <td>11.21</td>\n",
              "      <td>NaN</td>\n",
              "      <td>0</td>\n",
              "      <td>TX</td>\n",
              "      <td>1</td>\n",
              "      <td>0</td>\n",
              "      <td>2</td>\n",
              "      <td>Below 18</td>\n",
              "      <td>female</td>\n",
              "      <td>below 49</td>\n",
              "      <td>0</td>\n",
              "      <td>less than 2</td>\n",
              "    </tr>\n",
              "  </tbody>\n",
              "</table>\n",
              "</div>"
            ],
            "text/plain": [
              "                                   subscription_hash  ... minutes_bucket\n",
              "0  6c6f36cd8eb42ef1d905578a6b0947f534d6132ae1c025...  ...         2 to 3\n",
              "1  73831634ef6d3639546fbb58f7ea4288220d907600fc9b...  ...         2 to 3\n",
              "2  75c705c4e9d81bb6037d2383118983f1f8009b6ae203d4...  ...    less than 2\n",
              "3  20bb89aa63a1bc2a2f0c6e435a1da9057e52b6eec113fb...  ...         2 to 3\n",
              "4  160647d08b5d29ad4039b58f0c8f6515c29cdc7aae517e...  ...    less than 2\n",
              "\n",
              "[5 rows x 14 columns]"
            ]
          },
          "metadata": {
            "tags": []
          },
          "execution_count": 228
        }
      ]
    },
    {
      "cell_type": "code",
      "metadata": {
        "id": "_qkYrKv0ssJ9"
      },
      "source": [
        "users_cat=users.drop(['minutes_from_registration','target'],axis=1).set_index('subscription_hash')\n",
        "x_train,x_test,y_train,y_test=train_test_split(users_cat,y,test_size=0.2,random_state=4)\n",
        "x_train,x_val,y_train,y_val=train_test_split(x_train,y_train,test_size=0.25,random_state=4)"
      ],
      "execution_count": null,
      "outputs": []
    },
    {
      "cell_type": "code",
      "metadata": {
        "colab": {
          "base_uri": "https://localhost:8080/"
        },
        "id": "rCnXOGXA3He7",
        "outputId": "295bdbe3-3c03-4e26-8a9a-a7a022220173"
      },
      "source": [
        "y_train.value_counts()"
      ],
      "execution_count": null,
      "outputs": [
        {
          "output_type": "execute_result",
          "data": {
            "text/plain": [
              "0    79668\n",
              "1    78566\n",
              "Name: target, dtype: int64"
            ]
          },
          "metadata": {
            "tags": []
          },
          "execution_count": 230
        }
      ]
    },
    {
      "cell_type": "code",
      "metadata": {
        "colab": {
          "base_uri": "https://localhost:8080/"
        },
        "id": "ZsuvUzhelr-s",
        "outputId": "922bb48d-cb90-4f12-93cc-841e6b092409"
      },
      "source": [
        "from catboost import CatBoostClassifier\n",
        "cat_features=['channel','first_month_price','first_payment_type','fragrance_family','shipping_region',\n",
        "              'minutes_bucket','is_upgraded_in_first_2_days','is_upcharged_in_first_2_days','age_tier','sex','income_tier']\n",
        "model = CatBoostClassifier(learning_rate=0.03,cat_features=cat_features,depth=6,class_weights=[1,1.014],\n",
        "                           eval_metric='AUC',verbose=100,early_stopping_rounds=200)\n",
        "# Fit model\n",
        "model.fit(x_train, y_train,eval_set=(x_val,y_val))\n",
        "# Get predicted classes\n",
        "#preds_class = model.predict(eval_data)\n",
        "# Get predicted probabilities for each class\n",
        "#preds_proba = model.predict_proba(eval_data)\n",
        "# Get predicted RawFormulaVal\n",
        "#preds_raw = model.predict(eval_data, prediction_type='RawFormulaVal')"
      ],
      "execution_count": null,
      "outputs": [
        {
          "output_type": "stream",
          "text": [
            "0:\ttest: 0.7120602\tbest: 0.7120602 (0)\ttotal: 352ms\tremaining: 5m 51s\n",
            "100:\ttest: 0.7209166\tbest: 0.7209166 (100)\ttotal: 19.5s\tremaining: 2m 53s\n",
            "200:\ttest: 0.7220413\tbest: 0.7220413 (200)\ttotal: 39.7s\tremaining: 2m 37s\n",
            "300:\ttest: 0.7222345\tbest: 0.7222345 (300)\ttotal: 58s\tremaining: 2m 14s\n",
            "400:\ttest: 0.7222973\tbest: 0.7222999 (399)\ttotal: 1m 16s\tremaining: 1m 54s\n",
            "500:\ttest: 0.7223495\tbest: 0.7223537 (497)\ttotal: 1m 36s\tremaining: 1m 36s\n",
            "600:\ttest: 0.7224210\tbest: 0.7224210 (600)\ttotal: 1m 56s\tremaining: 1m 17s\n",
            "700:\ttest: 0.7224265\tbest: 0.7224265 (700)\ttotal: 2m 16s\tremaining: 58s\n",
            "800:\ttest: 0.7224398\tbest: 0.7224506 (794)\ttotal: 2m 35s\tremaining: 38.5s\n",
            "900:\ttest: 0.7224127\tbest: 0.7224506 (794)\ttotal: 2m 54s\tremaining: 19.2s\n",
            "999:\ttest: 0.7224530\tbest: 0.7224573 (972)\ttotal: 3m 13s\tremaining: 0us\n",
            "\n",
            "bestTest = 0.7224572973\n",
            "bestIteration = 972\n",
            "\n",
            "Shrink model to first 973 iterations.\n"
          ],
          "name": "stdout"
        },
        {
          "output_type": "execute_result",
          "data": {
            "text/plain": [
              "<catboost.core.CatBoostClassifier at 0x7f050960cd10>"
            ]
          },
          "metadata": {
            "tags": []
          },
          "execution_count": 231
        }
      ]
    },
    {
      "cell_type": "code",
      "metadata": {
        "colab": {
          "base_uri": "https://localhost:8080/",
          "height": 1000
        },
        "id": "nGkAB6uSc58k",
        "outputId": "9e2a2866-a6e6-4dc7-8813-133fb3599741"
      },
      "source": [
        "print(\"Evaluation metrics for train set\")\n",
        "evaluate(model,x_train,y_train,'train set')\n",
        "\n",
        "print(\"Evaluation metrics for test set\")\n",
        "evaluate(model,x_test,y_test,'test set')"
      ],
      "execution_count": null,
      "outputs": [
        {
          "output_type": "stream",
          "text": [
            "Evaluation metrics for train set\n",
            "Accuracy 0.6569763767584716\n",
            "F1 score 0.6472843533524817\n",
            "AUC ROC 0.7217867408182724\n",
            "[[0.67972084 0.32027916]\n",
            " [0.36608711 0.63391289]]\n",
            "Evaluation metrics for test set\n",
            "Accuracy 0.6530476822447625\n",
            "F1 score 0.6412749441329831\n",
            "AUC ROC 0.7172885717585571\n",
            "[[0.67699678 0.32300322]\n",
            " [0.37153725 0.62846275]]\n"
          ],
          "name": "stdout"
        },
        {
          "output_type": "display_data",
          "data": {
            "image/png": "[encoded data removed]",
            "text/plain": [
              "<Figure size 432x288 with 1 Axes>"
            ]
          },
          "metadata": {
            "tags": [],
            "needs_background": "light"
          }
        },
        {
          "output_type": "display_data",
          "data": {
            "image/png": "[encoded data removed]",
            "text/plain": [
              "<Figure size 432x288 with 2 Axes>"
            ]
          },
          "metadata": {
            "tags": [],
            "needs_background": "light"
          }
        },
        {
          "output_type": "display_data",
          "data": {
            "image/png": "[encoded data removed]",
            "text/plain": [
              "<Figure size 432x288 with 1 Axes>"
            ]
          },
          "metadata": {
            "tags": [],
            "needs_background": "light"
          }
        },
        {
          "output_type": "display_data",
          "data": {
            "image/png": "[encoded data removed]",
            "text/plain": [
              "<Figure size 432x288 with 2 Axes>"
            ]
          },
          "metadata": {
            "tags": [],
            "needs_background": "light"
          }
        }
      ]
    },
    {
      "cell_type": "code",
      "metadata": {
        "colab": {
          "base_uri": "https://localhost:8080/"
        },
        "id": "mFk0t-YHOF0N",
        "outputId": "a7ab6337-5a23-44a6-fb56-d14ba6cfbcb7"
      },
      "source": [
        "preds = model.predict(x_val)\n",
        "print(confusion_matrix(y_val,preds)/(np.sum(confusion_matrix(y_val,preds),axis=1)).T)"
      ],
      "execution_count": null,
      "outputs": [
        {
          "output_type": "stream",
          "text": [
            "[[0.68478467 0.31589736]\n",
            " [0.36684217 0.63236411]]\n"
          ],
          "name": "stdout"
        }
      ]
    },
    {
      "cell_type": "code",
      "metadata": {
        "id": "5HIiFZOqc601"
      },
      "source": [
        "disp = plot_confusion_matrix(catboost, x_test, y_test,\n",
        "                                 display_labels=[0,1],\n",
        "                                 cmap=plt.cm.Blues,\n",
        "                                 normalize=normalize)\n",
        "    disp.ax_.set_title('Confusion Matrix')\n",
        "\n",
        "    print(title)\n",
        "    print(disp.confusion_matrix)\n",
        "\n",
        "plt.show()"
      ],
      "execution_count": null,
      "outputs": []
    },
    {
      "cell_type": "code",
      "metadata": {
        "colab": {
          "base_uri": "https://localhost:8080/"
        },
        "id": "soTB7bMBlrzt",
        "outputId": "6522d1be-3591-4cb9-92ea-c1037ccfd396"
      },
      "source": [
        "pd.Series(model.feature_importances_,index=users_cat.columns).sort_values(ascending=False)"
      ],
      "execution_count": null,
      "outputs": [
        {
          "output_type": "execute_result",
          "data": {
            "text/plain": [
              "first_payment_type              29.259379\n",
              "fragrance_family                26.684997\n",
              "channel                         20.567316\n",
              "minutes_bucket                   5.995032\n",
              "shipping_region                  4.644552\n",
              "first_month_price                3.677304\n",
              "sex                              3.064044\n",
              "income_tier                      2.443370\n",
              "age_tier                         2.102206\n",
              "is_upgraded_in_first_2_days      1.397170\n",
              "is_upcharged_in_first_2_days     0.164631\n",
              "dtype: float64"
            ]
          },
          "metadata": {
            "tags": []
          },
          "execution_count": 86
        }
      ]
    },
    {
      "cell_type": "code",
      "metadata": {
        "colab": {
          "base_uri": "https://localhost:8080/",
          "height": 272
        },
        "id": "7IBBkBuBVaDM",
        "outputId": "9317f2a1-1bef-4678-de8c-0a119cba9bfe"
      },
      "source": [
        "#users['shipping_region'].head()\n",
        "# data_ohe=data_ohe.join(users[['shipping_region','fragrance_family']])\n",
        "# data_ohe.head()"
      ],
      "execution_count": null,
      "outputs": [
        {
          "output_type": "execute_result",
          "data": {
            "text/html": [
              "<div>\n",
              "<style scoped>\n",
              "    .dataframe tbody tr th:only-of-type {\n",
              "        vertical-align: middle;\n",
              "    }\n",
              "\n",
              "    .dataframe tbody tr th {\n",
              "        vertical-align: top;\n",
              "    }\n",
              "\n",
              "    .dataframe thead th {\n",
              "        text-align: right;\n",
              "    }\n",
              "</style>\n",
              "<table border=\"1\" class=\"dataframe\">\n",
              "  <thead>\n",
              "    <tr style=\"text-align: right;\">\n",
              "      <th></th>\n",
              "      <th>is_upgraded_in_first_2_days</th>\n",
              "      <th>is_upcharged_in_first_2_days</th>\n",
              "      <th>channel_Channel_2</th>\n",
              "      <th>channel_Channel_3</th>\n",
              "      <th>first_month_price_3.0</th>\n",
              "      <th>first_payment_type_PayPal</th>\n",
              "      <th>first_payment_type_Prepaid Card</th>\n",
              "      <th>age_tier_25 to 34</th>\n",
              "      <th>age_tier_35 to 44</th>\n",
              "      <th>age_tier_45 or above</th>\n",
              "      <th>age_tier_Below 18</th>\n",
              "      <th>sex_male</th>\n",
              "      <th>income_tier_75 or above</th>\n",
              "      <th>income_tier_below 49</th>\n",
              "      <th>minutes_bucket_2 to 3</th>\n",
              "      <th>minutes_bucket_3 to 4</th>\n",
              "      <th>minutes_bucket_4 to 8</th>\n",
              "      <th>minutes_bucket_8 above</th>\n",
              "      <th>shipping_region</th>\n",
              "      <th>fragrance_family</th>\n",
              "    </tr>\n",
              "    <tr>\n",
              "      <th>subscription_hash</th>\n",
              "      <th></th>\n",
              "      <th></th>\n",
              "      <th></th>\n",
              "      <th></th>\n",
              "      <th></th>\n",
              "      <th></th>\n",
              "      <th></th>\n",
              "      <th></th>\n",
              "      <th></th>\n",
              "      <th></th>\n",
              "      <th></th>\n",
              "      <th></th>\n",
              "      <th></th>\n",
              "      <th></th>\n",
              "      <th></th>\n",
              "      <th></th>\n",
              "      <th></th>\n",
              "      <th></th>\n",
              "      <th></th>\n",
              "      <th></th>\n",
              "    </tr>\n",
              "  </thead>\n",
              "  <tbody>\n",
              "    <tr>\n",
              "      <th>6c6f36cd8eb42ef1d905578a6b0947f534d6132ae1c02517a04c2f141c197671</th>\n",
              "      <td>0</td>\n",
              "      <td>0</td>\n",
              "      <td>0</td>\n",
              "      <td>1</td>\n",
              "      <td>1</td>\n",
              "      <td>0</td>\n",
              "      <td>0</td>\n",
              "      <td>0</td>\n",
              "      <td>0</td>\n",
              "      <td>1</td>\n",
              "      <td>0</td>\n",
              "      <td>0</td>\n",
              "      <td>0</td>\n",
              "      <td>1</td>\n",
              "      <td>1</td>\n",
              "      <td>0</td>\n",
              "      <td>0</td>\n",
              "      <td>0</td>\n",
              "      <td>FL</td>\n",
              "      <td>0</td>\n",
              "    </tr>\n",
              "    <tr>\n",
              "      <th>73831634ef6d3639546fbb58f7ea4288220d907600fc9b2e6a71cef6f1d570ba</th>\n",
              "      <td>0</td>\n",
              "      <td>1</td>\n",
              "      <td>0</td>\n",
              "      <td>0</td>\n",
              "      <td>0</td>\n",
              "      <td>0</td>\n",
              "      <td>0</td>\n",
              "      <td>0</td>\n",
              "      <td>0</td>\n",
              "      <td>0</td>\n",
              "      <td>1</td>\n",
              "      <td>1</td>\n",
              "      <td>0</td>\n",
              "      <td>0</td>\n",
              "      <td>1</td>\n",
              "      <td>0</td>\n",
              "      <td>0</td>\n",
              "      <td>0</td>\n",
              "      <td>PA</td>\n",
              "      <td>0</td>\n",
              "    </tr>\n",
              "    <tr>\n",
              "      <th>75c705c4e9d81bb6037d2383118983f1f8009b6ae203d46868e930f356bc87b4</th>\n",
              "      <td>0</td>\n",
              "      <td>1</td>\n",
              "      <td>0</td>\n",
              "      <td>0</td>\n",
              "      <td>0</td>\n",
              "      <td>0</td>\n",
              "      <td>0</td>\n",
              "      <td>0</td>\n",
              "      <td>0</td>\n",
              "      <td>0</td>\n",
              "      <td>1</td>\n",
              "      <td>0</td>\n",
              "      <td>0</td>\n",
              "      <td>1</td>\n",
              "      <td>0</td>\n",
              "      <td>0</td>\n",
              "      <td>0</td>\n",
              "      <td>0</td>\n",
              "      <td>IN</td>\n",
              "      <td>0</td>\n",
              "    </tr>\n",
              "    <tr>\n",
              "      <th>20bb89aa63a1bc2a2f0c6e435a1da9057e52b6eec113fbb4e5f55fec76ef87ef</th>\n",
              "      <td>0</td>\n",
              "      <td>0</td>\n",
              "      <td>0</td>\n",
              "      <td>1</td>\n",
              "      <td>1</td>\n",
              "      <td>0</td>\n",
              "      <td>0</td>\n",
              "      <td>0</td>\n",
              "      <td>0</td>\n",
              "      <td>0</td>\n",
              "      <td>1</td>\n",
              "      <td>0</td>\n",
              "      <td>0</td>\n",
              "      <td>1</td>\n",
              "      <td>1</td>\n",
              "      <td>0</td>\n",
              "      <td>0</td>\n",
              "      <td>0</td>\n",
              "      <td>TX</td>\n",
              "      <td>0</td>\n",
              "    </tr>\n",
              "    <tr>\n",
              "      <th>160647d08b5d29ad4039b58f0c8f6515c29cdc7aae517e431ff46da3ed645dda</th>\n",
              "      <td>1</td>\n",
              "      <td>0</td>\n",
              "      <td>0</td>\n",
              "      <td>0</td>\n",
              "      <td>0</td>\n",
              "      <td>0</td>\n",
              "      <td>0</td>\n",
              "      <td>0</td>\n",
              "      <td>0</td>\n",
              "      <td>0</td>\n",
              "      <td>1</td>\n",
              "      <td>0</td>\n",
              "      <td>0</td>\n",
              "      <td>1</td>\n",
              "      <td>0</td>\n",
              "      <td>0</td>\n",
              "      <td>0</td>\n",
              "      <td>0</td>\n",
              "      <td>TX</td>\n",
              "      <td>0</td>\n",
              "    </tr>\n",
              "  </tbody>\n",
              "</table>\n",
              "</div>"
            ],
            "text/plain": [
              "                                                    is_upgraded_in_first_2_days  ...  fragrance_family\n",
              "subscription_hash                                                                ...                  \n",
              "6c6f36cd8eb42ef1d905578a6b0947f534d6132ae1c0251...                            0  ...                 0\n",
              "73831634ef6d3639546fbb58f7ea4288220d907600fc9b2...                            0  ...                 0\n",
              "75c705c4e9d81bb6037d2383118983f1f8009b6ae203d46...                            0  ...                 0\n",
              "20bb89aa63a1bc2a2f0c6e435a1da9057e52b6eec113fbb...                            0  ...                 0\n",
              "160647d08b5d29ad4039b58f0c8f6515c29cdc7aae517e4...                            1  ...                 0\n",
              "\n",
              "[5 rows x 20 columns]"
            ]
          },
          "metadata": {
            "tags": []
          },
          "execution_count": 201
        }
      ]
    },
    {
      "cell_type": "code",
      "metadata": {
        "colab": {
          "base_uri": "https://localhost:8080/",
          "height": 748
        },
        "id": "XHNTH_bPXw2D",
        "outputId": "dc917f5b-7bd9-456b-896e-ce2f8d97fd56"
      },
      "source": [
        "train_shipping=features_train.join(target_train)\n",
        "train_1_count=train_shipping[train_shipping['target']==1].groupby('shipping_region')['target'].count()/len(features_train)\n",
        "train_1_count\n",
        "test_shipping=features_test.join(target_test)\n",
        "test_1_count=test_shipping[test_shipping['target']==1].groupby('shipping_region')['target'].count()/len(features_test)\n",
        "df=pd.concat([train_1_count,test_1_count],axis=1)\n",
        "df.columns=['train','test']\n",
        "df=df.reset_index()\n",
        "#print(df.head())\n",
        "df.plot.bar(x='shipping_region',figsize=(15,10))\n",
        "plt.legend(['train','test'])\n",
        "plt.xlabel('Shipping region')\n",
        "plt.title('Distribution of good users shipping region wise in train and test set', fontsize=14)"
      ],
      "execution_count": null,
      "outputs": [
        {
          "output_type": "stream",
          "text": [
            "  shipping_region     train      test\n",
            "0              AK  0.001839  0.002010\n",
            "1              AL  0.010750  0.009802\n",
            "2              AR  0.006876  0.006958\n",
            "3              AZ  0.011824  0.011774\n",
            "4              CA  0.054009  0.052289\n"
          ],
          "name": "stdout"
        },
        {
          "output_type": "execute_result",
          "data": {
            "text/plain": [
              "Text(0.5, 1.0, 'Distribution of good and bad users shipping region wise')"
            ]
          },
          "metadata": {
            "tags": []
          },
          "execution_count": 222
        },
        {
          "output_type": "display_data",
          "data": {
            "image/png": "[encoded data removed]",
            "text/plain": [
              "<Figure size 1080x720 with 1 Axes>"
            ]
          },
          "metadata": {
            "tags": [],
            "needs_background": "light"
          }
        }
      ]
    },
    {
      "cell_type": "code",
      "metadata": {
        "colab": {
          "base_uri": "https://localhost:8080/",
          "height": 646
        },
        "id": "PxwMmL7eXwoz",
        "outputId": "7a1586a5-0193-4345-82fe-efc27fb38ba4"
      },
      "source": [
        "train_shipping=features_train.join(target_train)\n",
        "train_0_count=train_shipping[train_shipping['target']==0].groupby('shipping_region')['target'].count()/len(features_train)\n",
        "train_0_count\n",
        "test_shipping=features_test.join(target_test)\n",
        "test_0_count=test_shipping[test_shipping['target']==0].groupby('shipping_region')['target'].count()/len(features_test)\n",
        "df=pd.concat([train_0_count,test_0_count],axis=1)\n",
        "df.columns=['train','test']\n",
        "df=df.reset_index()\n",
        "#print(df.head())\n",
        "df.plot.bar(x='shipping_region',figsize=(15,10))\n",
        "plt.legend(['train','test'])\n",
        "plt.xlabel('Shipping region')\n",
        "plt.title('Distribution of bad users shipping region wise in train and test set', fontsize=14)"
      ],
      "execution_count": null,
      "outputs": [
        {
          "output_type": "execute_result",
          "data": {
            "text/plain": [
              "Text(0.5, 1.0, 'Distribution of bad users shipping region wise in train and test set')"
            ]
          },
          "metadata": {
            "tags": []
          },
          "execution_count": 223
        },
        {
          "output_type": "display_data",
          "data": {
            "image/png": "[encoded data removed]",
            "text/plain": [
              "<Figure size 1080x720 with 1 Axes>"
            ]
          },
          "metadata": {
            "tags": [],
            "needs_background": "light"
          }
        }
      ]
    },
    {
      "cell_type": "code",
      "metadata": {
        "id": "uCwGi7f86bL-"
      },
      "source": [
        "bad_log=pd.read_csv('/content/drive/MyDrive/scentbird data/ya_practicum_ltv_bad_users_events_dataset.csv')\n",
        "good_log=pd.read_csv('/content/drive/MyDrive/scentbird data/ya_practicum_ltv_good_users_events_dataset.csv')"
      ],
      "execution_count": null,
      "outputs": []
    },
    {
      "cell_type": "code",
      "metadata": {
        "id": "tIUy6EkJBpfp"
      },
      "source": [
        "bad_log.head()"
      ],
      "execution_count": null,
      "outputs": []
    },
    {
      "cell_type": "code",
      "metadata": {
        "id": "Aal-RM8tBpbb"
      },
      "source": [
        "bad_log.info()"
      ],
      "execution_count": null,
      "outputs": []
    },
    {
      "cell_type": "code",
      "metadata": {
        "id": "BiARYbHsG5g-"
      },
      "source": [
        "bad_minutes=bad_log.groupby('subscription_hash').agg({'minutes_from_registration':['min','max','count'],'amount_of_events':['mean']})\n",
        "bad_minutes.columns = ['_'.join(col) for col in bad_minutes.columns]\n",
        "\n",
        "good_minutes=good_log.groupby('subscription_hash').agg({'minutes_from_registration':['min','max','count'],'amount_of_events':['mean']})\n",
        "good_minutes.columns=['_'.join(col) for col in good_minutes.columns]"
      ],
      "execution_count": null,
      "outputs": []
    },
    {
      "cell_type": "code",
      "metadata": {
        "id": "ZD_W8e1iYC9N"
      },
      "source": [
        "bad_minutes['avg_time_btwn_visits']=((bad_minutes['minutes_from_registration_max']-bad_minutes['minutes_from_registration_min'])/\n",
        "                                    bad_minutes['minutes_from_registration_count'])\n",
        "bad_minutes"
      ],
      "execution_count": null,
      "outputs": []
    },
    {
      "cell_type": "code",
      "metadata": {
        "id": "EErbsW6WWj72"
      },
      "source": [
        "good_minutes['avg_time_btwn_visits']=((good_minutes['minutes_from_registration_max']-good_minutes['minutes_from_registration_min'])/\n",
        "                                    good_minutes['minutes_from_registration_count'])\n",
        "good_minutes"
      ],
      "execution_count": null,
      "outputs": []
    },
    {
      "cell_type": "code",
      "metadata": {
        "id": "6MtlQTHEcAGC"
      },
      "source": [
        "bad_log.pivot_table(index='browser_type',columns='event_name',values='subscription_hash',aggfunc='count')"
      ],
      "execution_count": null,
      "outputs": []
    },
    {
      "cell_type": "markdown",
      "metadata": {
        "id": "lf2zIRNRexmE"
      },
      "source": [
        "Bad Users show no activity other than page views on browser and browser(mobile)."
      ]
    },
    {
      "cell_type": "code",
      "metadata": {
        "id": "79CLB6FMmTFQ"
      },
      "source": [
        "good_log.pivot_table(index='browser_type',columns='event_name',values='subscription_hash',aggfunc='count')"
      ],
      "execution_count": null,
      "outputs": []
    },
    {
      "cell_type": "markdown",
      "metadata": {
        "id": "Rp12XtFunO-p"
      },
      "source": [
        "How can a good user unsubscribe in the first  48 hours? This looks like an anomaly. We will drop this column for both good and bad users since a bad user will unsubscribe(maybe not in the first 48 hours), it does not matter what browser they use for it."
      ]
    },
    {
      "cell_type": "code",
      "metadata": {
        "id": "Q2bafsZPa11O"
      },
      "source": [
        "bad_events=bad_log.pivot_table(index='subscription_hash',columns=['browser_type','event_name'],values='amount_of_events',aggfunc='mean')\n",
        "bad_events.columns=['_'.join(col) for col in bad_events.columns]\n",
        "\n",
        "good_events=good_log.pivot_table(index='subscription_hash',columns=['browser_type','event_name'],values='amount_of_events',aggfunc='mean')\n",
        "good_events.columns=['_'.join(col) for col in good_events.columns]\n",
        "\n",
        "bad_events.head()\n"
      ],
      "execution_count": null,
      "outputs": []
    },
    {
      "cell_type": "code",
      "metadata": {
        "id": "614U3TsuhTK9"
      },
      "source": [
        "bad_events.columns"
      ],
      "execution_count": null,
      "outputs": []
    },
    {
      "cell_type": "code",
      "metadata": {
        "id": "1q-YYdeBtb3T"
      },
      "source": [
        "bad_events=bad_events[['Browser_page_view', 'Browser (mobile)_page_view', 'Robot_AddToQueue','Robot_SubscriptionUpgrade', 'unknown_AddToQueue',\n",
        "       'unknown_SubscriptionUpgrade','Robot_RemoveFromQueue']]\n",
        "\n",
        "good_events=good_events[['Browser_page_view', 'Browser (mobile)_page_view', 'Robot_AddToQueue','Robot_SubscriptionUpgrade', 'unknown_AddToQueue',\n",
        "       'unknown_SubscriptionUpgrade','Robot_RemoveFromQueue']]\n"
      ],
      "execution_count": null,
      "outputs": []
    },
    {
      "cell_type": "code",
      "metadata": {
        "id": "36KG1K3NRwsj"
      },
      "source": [
        "bad_events['target']=0\n",
        "good_events['target']=1"
      ],
      "execution_count": null,
      "outputs": []
    },
    {
      "cell_type": "code",
      "metadata": {
        "colab": {
          "base_uri": "https://localhost:8080/",
          "height": 359
        },
        "id": "i6o-5r9eHLY0",
        "outputId": "a74859d1-46d3-4c62-96c1-73f161655282"
      },
      "source": [
        "user_browser_family=bad_log['browser_family'].value_counts().reset_index().join(\n",
        "    good_log['browser_family'].value_counts(),on='index',lsuffix='_bad',rsuffix='_good')\n",
        "user_browser_family['total']=user_browser_family['browser_family_bad']+user_browser_family['browser_family_good']\n",
        "user_browser_family['bad_rate']=user_browser_family['browser_family_bad']/user_browser_family['total']\n",
        "user_browser_family['% population']=user_browser_family['total']/sum(user_browser_family['total'])\n",
        "user_browser_family"
      ],
      "execution_count": null,
      "outputs": [
        {
          "output_type": "execute_result",
          "data": {
            "text/html": [
              "<div>\n",
              "<style scoped>\n",
              "    .dataframe tbody tr th:only-of-type {\n",
              "        vertical-align: middle;\n",
              "    }\n",
              "\n",
              "    .dataframe tbody tr th {\n",
              "        vertical-align: top;\n",
              "    }\n",
              "\n",
              "    .dataframe thead th {\n",
              "        text-align: right;\n",
              "    }\n",
              "</style>\n",
              "<table border=\"1\" class=\"dataframe\">\n",
              "  <thead>\n",
              "    <tr style=\"text-align: right;\">\n",
              "      <th></th>\n",
              "      <th>index</th>\n",
              "      <th>browser_family_bad</th>\n",
              "      <th>browser_family_good</th>\n",
              "      <th>total</th>\n",
              "      <th>bad_rate</th>\n",
              "      <th>% population</th>\n",
              "    </tr>\n",
              "  </thead>\n",
              "  <tbody>\n",
              "    <tr>\n",
              "      <th>0</th>\n",
              "      <td>Chrome</td>\n",
              "      <td>320062</td>\n",
              "      <td>350116</td>\n",
              "      <td>670178</td>\n",
              "      <td>0.477578</td>\n",
              "      <td>0.374010</td>\n",
              "    </tr>\n",
              "    <tr>\n",
              "      <th>1</th>\n",
              "      <td>Safari</td>\n",
              "      <td>205024</td>\n",
              "      <td>139302</td>\n",
              "      <td>344326</td>\n",
              "      <td>0.595436</td>\n",
              "      <td>0.192160</td>\n",
              "    </tr>\n",
              "    <tr>\n",
              "      <th>2</th>\n",
              "      <td>Robot/Spider</td>\n",
              "      <td>168360</td>\n",
              "      <td>216492</td>\n",
              "      <td>384852</td>\n",
              "      <td>0.437467</td>\n",
              "      <td>0.214776</td>\n",
              "    </tr>\n",
              "    <tr>\n",
              "      <th>3</th>\n",
              "      <td>Unknown</td>\n",
              "      <td>135730</td>\n",
              "      <td>55036</td>\n",
              "      <td>190766</td>\n",
              "      <td>0.711500</td>\n",
              "      <td>0.106462</td>\n",
              "    </tr>\n",
              "    <tr>\n",
              "      <th>4</th>\n",
              "      <td>Apple WebKit</td>\n",
              "      <td>102932</td>\n",
              "      <td>87784</td>\n",
              "      <td>190716</td>\n",
              "      <td>0.539714</td>\n",
              "      <td>0.106434</td>\n",
              "    </tr>\n",
              "    <tr>\n",
              "      <th>5</th>\n",
              "      <td>Firefox</td>\n",
              "      <td>3300</td>\n",
              "      <td>2865</td>\n",
              "      <td>6165</td>\n",
              "      <td>0.535280</td>\n",
              "      <td>0.003441</td>\n",
              "    </tr>\n",
              "    <tr>\n",
              "      <th>6</th>\n",
              "      <td>Microsoft Edge</td>\n",
              "      <td>1951</td>\n",
              "      <td>1290</td>\n",
              "      <td>3241</td>\n",
              "      <td>0.601975</td>\n",
              "      <td>0.001809</td>\n",
              "    </tr>\n",
              "    <tr>\n",
              "      <th>7</th>\n",
              "      <td>Internet Explorer</td>\n",
              "      <td>512</td>\n",
              "      <td>321</td>\n",
              "      <td>833</td>\n",
              "      <td>0.614646</td>\n",
              "      <td>0.000465</td>\n",
              "    </tr>\n",
              "    <tr>\n",
              "      <th>8</th>\n",
              "      <td>Mozilla</td>\n",
              "      <td>163</td>\n",
              "      <td>503</td>\n",
              "      <td>666</td>\n",
              "      <td>0.244745</td>\n",
              "      <td>0.000372</td>\n",
              "    </tr>\n",
              "    <tr>\n",
              "      <th>9</th>\n",
              "      <td>Opera</td>\n",
              "      <td>95</td>\n",
              "      <td>35</td>\n",
              "      <td>130</td>\n",
              "      <td>0.730769</td>\n",
              "      <td>0.000073</td>\n",
              "    </tr>\n",
              "  </tbody>\n",
              "</table>\n",
              "</div>"
            ],
            "text/plain": [
              "               index  browser_family_bad  ...  bad_rate  % population\n",
              "0             Chrome              320062  ...  0.477578      0.374010\n",
              "1             Safari              205024  ...  0.595436      0.192160\n",
              "2       Robot/Spider              168360  ...  0.437467      0.214776\n",
              "3            Unknown              135730  ...  0.711500      0.106462\n",
              "4       Apple WebKit              102932  ...  0.539714      0.106434\n",
              "5            Firefox                3300  ...  0.535280      0.003441\n",
              "6     Microsoft Edge                1951  ...  0.601975      0.001809\n",
              "7  Internet Explorer                 512  ...  0.614646      0.000465\n",
              "8            Mozilla                 163  ...  0.244745      0.000372\n",
              "9              Opera                  95  ...  0.730769      0.000073\n",
              "\n",
              "[10 rows x 6 columns]"
            ]
          },
          "metadata": {
            "tags": []
          },
          "execution_count": 137
        }
      ]
    },
    {
      "cell_type": "code",
      "metadata": {
        "id": "68z2SgcKMjdQ"
      },
      "source": [
        "bad_features=bad_minutes.join(bad_events)\n",
        "good_features=good_minutes.join(good_events)\n",
        "user_features=pd.concat([bad_features,good_features])\n",
        "user_features.shape,bad_features.shape+good_features.shape"
      ],
      "execution_count": null,
      "outputs": []
    },
    {
      "cell_type": "markdown",
      "metadata": {
        "id": "SO59c7UNBv1X"
      },
      "source": [
        "Weight Of Evidence Encoding "
      ]
    },
    {
      "cell_type": "code",
      "metadata": {
        "colab": {
          "base_uri": "https://localhost:8080/",
          "height": 241
        },
        "id": "1LkzTmVvOqLg",
        "outputId": "4173676b-62b4-4de1-92f1-267b6213047d"
      },
      "source": [
        "users.head()"
      ],
      "execution_count": null,
      "outputs": [
        {
          "output_type": "execute_result",
          "data": {
            "text/html": [
              "<div>\n",
              "<style scoped>\n",
              "    .dataframe tbody tr th:only-of-type {\n",
              "        vertical-align: middle;\n",
              "    }\n",
              "\n",
              "    .dataframe tbody tr th {\n",
              "        vertical-align: top;\n",
              "    }\n",
              "\n",
              "    .dataframe thead th {\n",
              "        text-align: right;\n",
              "    }\n",
              "</style>\n",
              "<table border=\"1\" class=\"dataframe\">\n",
              "  <thead>\n",
              "    <tr style=\"text-align: right;\">\n",
              "      <th></th>\n",
              "      <th>subscription_hash</th>\n",
              "      <th>channel</th>\n",
              "      <th>first_month_price</th>\n",
              "      <th>first_payment_type</th>\n",
              "      <th>fragrance_family</th>\n",
              "      <th>shipping_region</th>\n",
              "      <th>is_upgraded_in_first_2_days</th>\n",
              "      <th>is_upcharged_in_first_2_days</th>\n",
              "      <th>minutes_from_registration</th>\n",
              "      <th>age_tier</th>\n",
              "      <th>sex</th>\n",
              "      <th>income_tier</th>\n",
              "      <th>target</th>\n",
              "      <th>minutes_bucket</th>\n",
              "    </tr>\n",
              "  </thead>\n",
              "  <tbody>\n",
              "    <tr>\n",
              "      <th>0</th>\n",
              "      <td>6c6f36cd8eb42ef1d905578a6b0947f534d6132ae1c025...</td>\n",
              "      <td>Channel_3</td>\n",
              "      <td>3.0</td>\n",
              "      <td>Card</td>\n",
              "      <td>0</td>\n",
              "      <td>FL</td>\n",
              "      <td>0</td>\n",
              "      <td>0</td>\n",
              "      <td>3</td>\n",
              "      <td>45 or above</td>\n",
              "      <td>female</td>\n",
              "      <td>below 49</td>\n",
              "      <td>0</td>\n",
              "      <td>2 to 3</td>\n",
              "    </tr>\n",
              "    <tr>\n",
              "      <th>1</th>\n",
              "      <td>73831634ef6d3639546fbb58f7ea4288220d907600fc9b...</td>\n",
              "      <td>Channel_1</td>\n",
              "      <td>11.21</td>\n",
              "      <td>Card</td>\n",
              "      <td>0</td>\n",
              "      <td>PA</td>\n",
              "      <td>0</td>\n",
              "      <td>1</td>\n",
              "      <td>3</td>\n",
              "      <td>Below 18</td>\n",
              "      <td>male</td>\n",
              "      <td>50 to 74</td>\n",
              "      <td>0</td>\n",
              "      <td>2 to 3</td>\n",
              "    </tr>\n",
              "    <tr>\n",
              "      <th>2</th>\n",
              "      <td>75c705c4e9d81bb6037d2383118983f1f8009b6ae203d4...</td>\n",
              "      <td>Channel_1</td>\n",
              "      <td>11.21</td>\n",
              "      <td>NaN</td>\n",
              "      <td>0</td>\n",
              "      <td>IN</td>\n",
              "      <td>0</td>\n",
              "      <td>1</td>\n",
              "      <td>2</td>\n",
              "      <td>Below 18</td>\n",
              "      <td>female</td>\n",
              "      <td>below 49</td>\n",
              "      <td>0</td>\n",
              "      <td>less than 2</td>\n",
              "    </tr>\n",
              "    <tr>\n",
              "      <th>3</th>\n",
              "      <td>20bb89aa63a1bc2a2f0c6e435a1da9057e52b6eec113fb...</td>\n",
              "      <td>Channel_3</td>\n",
              "      <td>3.0</td>\n",
              "      <td>Card</td>\n",
              "      <td>0</td>\n",
              "      <td>TX</td>\n",
              "      <td>0</td>\n",
              "      <td>0</td>\n",
              "      <td>3</td>\n",
              "      <td>Below 18</td>\n",
              "      <td>female</td>\n",
              "      <td>below 49</td>\n",
              "      <td>0</td>\n",
              "      <td>2 to 3</td>\n",
              "    </tr>\n",
              "    <tr>\n",
              "      <th>4</th>\n",
              "      <td>160647d08b5d29ad4039b58f0c8f6515c29cdc7aae517e...</td>\n",
              "      <td>Channel_1</td>\n",
              "      <td>11.21</td>\n",
              "      <td>NaN</td>\n",
              "      <td>0</td>\n",
              "      <td>TX</td>\n",
              "      <td>1</td>\n",
              "      <td>0</td>\n",
              "      <td>2</td>\n",
              "      <td>Below 18</td>\n",
              "      <td>female</td>\n",
              "      <td>below 49</td>\n",
              "      <td>0</td>\n",
              "      <td>less than 2</td>\n",
              "    </tr>\n",
              "  </tbody>\n",
              "</table>\n",
              "</div>"
            ],
            "text/plain": [
              "                                   subscription_hash  ... minutes_bucket\n",
              "0  6c6f36cd8eb42ef1d905578a6b0947f534d6132ae1c025...  ...         2 to 3\n",
              "1  73831634ef6d3639546fbb58f7ea4288220d907600fc9b...  ...         2 to 3\n",
              "2  75c705c4e9d81bb6037d2383118983f1f8009b6ae203d4...  ...    less than 2\n",
              "3  20bb89aa63a1bc2a2f0c6e435a1da9057e52b6eec113fb...  ...         2 to 3\n",
              "4  160647d08b5d29ad4039b58f0c8f6515c29cdc7aae517e...  ...    less than 2\n",
              "\n",
              "[5 rows x 14 columns]"
            ]
          },
          "metadata": {
            "tags": []
          },
          "execution_count": 282
        }
      ]
    },
    {
      "cell_type": "code",
      "metadata": {
        "colab": {
          "base_uri": "https://localhost:8080/",
          "height": 1000
        },
        "id": "QgXPiKJ6Attx",
        "outputId": "d1745cea-dab2-4fe0-d478-a9bddb551f7e"
      },
      "source": [
        "d = users[['shipping_region','target']].groupby(\"shipping_region\",as_index=False).agg([\"count\", \"sum\"])\n",
        "#print(d)\n",
        "d.columns = ['N', 'Events']\n",
        "d['% of Events'] = np.maximum(d['Events'], 0.5) / d['Events'].sum()\n",
        "d['Non-Events'] = d['N'] - d['Events']\n",
        "d['% of Non-Events'] = np.maximum(d['Non-Events'], 0.5) / d['Non-Events'].sum()\n",
        "d['WoE'] = np.log(d['% of Events']/d['% of Non-Events'])\n",
        "d['IV'] = d['WoE'] * (d['% of Events'] - d['% of Non-Events'])\n",
        "d=d.reset_index().sort_values('WoE',ascending=False)\n",
        "d"
      ],
      "execution_count": null,
      "outputs": [
        {
          "output_type": "execute_result",
          "data": {
            "text/html": [
              "<div>\n",
              "<style scoped>\n",
              "    .dataframe tbody tr th:only-of-type {\n",
              "        vertical-align: middle;\n",
              "    }\n",
              "\n",
              "    .dataframe tbody tr th {\n",
              "        vertical-align: top;\n",
              "    }\n",
              "\n",
              "    .dataframe thead th {\n",
              "        text-align: right;\n",
              "    }\n",
              "</style>\n",
              "<table border=\"1\" class=\"dataframe\">\n",
              "  <thead>\n",
              "    <tr style=\"text-align: right;\">\n",
              "      <th></th>\n",
              "      <th>shipping_region</th>\n",
              "      <th>N</th>\n",
              "      <th>Events</th>\n",
              "      <th>% of Events</th>\n",
              "      <th>Non-Events</th>\n",
              "      <th>% of Non-Events</th>\n",
              "      <th>WoE</th>\n",
              "      <th>IV</th>\n",
              "    </tr>\n",
              "  </thead>\n",
              "  <tbody>\n",
              "    <tr>\n",
              "      <th>0</th>\n",
              "      <td>AK</td>\n",
              "      <td>817</td>\n",
              "      <td>480</td>\n",
              "      <td>0.003666</td>\n",
              "      <td>337</td>\n",
              "      <td>0.002538</td>\n",
              "      <td>0.367733</td>\n",
              "      <td>4.147980e-04</td>\n",
              "    </tr>\n",
              "    <tr>\n",
              "      <th>25</th>\n",
              "      <td>MS</td>\n",
              "      <td>3509</td>\n",
              "      <td>1932</td>\n",
              "      <td>0.014755</td>\n",
              "      <td>1577</td>\n",
              "      <td>0.011876</td>\n",
              "      <td>0.217061</td>\n",
              "      <td>6.249254e-04</td>\n",
              "    </tr>\n",
              "    <tr>\n",
              "      <th>36</th>\n",
              "      <td>OK</td>\n",
              "      <td>4164</td>\n",
              "      <td>2276</td>\n",
              "      <td>0.017382</td>\n",
              "      <td>1888</td>\n",
              "      <td>0.014218</td>\n",
              "      <td>0.200931</td>\n",
              "      <td>6.357766e-04</td>\n",
              "    </tr>\n",
              "    <tr>\n",
              "      <th>24</th>\n",
              "      <td>MO</td>\n",
              "      <td>5767</td>\n",
              "      <td>3088</td>\n",
              "      <td>0.023584</td>\n",
              "      <td>2679</td>\n",
              "      <td>0.020175</td>\n",
              "      <td>0.156110</td>\n",
              "      <td>5.321314e-04</td>\n",
              "    </tr>\n",
              "    <tr>\n",
              "      <th>18</th>\n",
              "      <td>LA</td>\n",
              "      <td>5624</td>\n",
              "      <td>2977</td>\n",
              "      <td>0.022736</td>\n",
              "      <td>2647</td>\n",
              "      <td>0.019934</td>\n",
              "      <td>0.131519</td>\n",
              "      <td>3.685095e-04</td>\n",
              "    </tr>\n",
              "    <tr>\n",
              "      <th>2</th>\n",
              "      <td>AR</td>\n",
              "      <td>3439</td>\n",
              "      <td>1819</td>\n",
              "      <td>0.013892</td>\n",
              "      <td>1620</td>\n",
              "      <td>0.012200</td>\n",
              "      <td>0.129891</td>\n",
              "      <td>2.197996e-04</td>\n",
              "    </tr>\n",
              "    <tr>\n",
              "      <th>32</th>\n",
              "      <td>NM</td>\n",
              "      <td>1859</td>\n",
              "      <td>983</td>\n",
              "      <td>0.007507</td>\n",
              "      <td>876</td>\n",
              "      <td>0.006597</td>\n",
              "      <td>0.129273</td>\n",
              "      <td>1.176897e-04</td>\n",
              "    </tr>\n",
              "    <tr>\n",
              "      <th>1</th>\n",
              "      <td>AL</td>\n",
              "      <td>5385</td>\n",
              "      <td>2827</td>\n",
              "      <td>0.021591</td>\n",
              "      <td>2558</td>\n",
              "      <td>0.019264</td>\n",
              "      <td>0.114020</td>\n",
              "      <td>2.652801e-04</td>\n",
              "    </tr>\n",
              "    <tr>\n",
              "      <th>28</th>\n",
              "      <td>ND</td>\n",
              "      <td>601</td>\n",
              "      <td>312</td>\n",
              "      <td>0.002383</td>\n",
              "      <td>289</td>\n",
              "      <td>0.002176</td>\n",
              "      <td>0.090607</td>\n",
              "      <td>1.870187e-05</td>\n",
              "    </tr>\n",
              "    <tr>\n",
              "      <th>7</th>\n",
              "      <td>DC</td>\n",
              "      <td>637</td>\n",
              "      <td>330</td>\n",
              "      <td>0.002520</td>\n",
              "      <td>307</td>\n",
              "      <td>0.002312</td>\n",
              "      <td>0.086275</td>\n",
              "      <td>1.797303e-05</td>\n",
              "    </tr>\n",
              "    <tr>\n",
              "      <th>5</th>\n",
              "      <td>CO</td>\n",
              "      <td>4346</td>\n",
              "      <td>2247</td>\n",
              "      <td>0.017161</td>\n",
              "      <td>2099</td>\n",
              "      <td>0.015807</td>\n",
              "      <td>0.082165</td>\n",
              "      <td>1.112230e-04</td>\n",
              "    </tr>\n",
              "    <tr>\n",
              "      <th>17</th>\n",
              "      <td>KY</td>\n",
              "      <td>4052</td>\n",
              "      <td>2094</td>\n",
              "      <td>0.015992</td>\n",
              "      <td>1958</td>\n",
              "      <td>0.014745</td>\n",
              "      <td>0.081183</td>\n",
              "      <td>1.012351e-04</td>\n",
              "    </tr>\n",
              "    <tr>\n",
              "      <th>49</th>\n",
              "      <td>WV</td>\n",
              "      <td>1479</td>\n",
              "      <td>760</td>\n",
              "      <td>0.005804</td>\n",
              "      <td>719</td>\n",
              "      <td>0.005415</td>\n",
              "      <td>0.069487</td>\n",
              "      <td>2.707437e-05</td>\n",
              "    </tr>\n",
              "    <tr>\n",
              "      <th>42</th>\n",
              "      <td>TN</td>\n",
              "      <td>5993</td>\n",
              "      <td>3076</td>\n",
              "      <td>0.023492</td>\n",
              "      <td>2917</td>\n",
              "      <td>0.021968</td>\n",
              "      <td>0.067104</td>\n",
              "      <td>1.023142e-04</td>\n",
              "    </tr>\n",
              "    <tr>\n",
              "      <th>10</th>\n",
              "      <td>GA</td>\n",
              "      <td>11612</td>\n",
              "      <td>5918</td>\n",
              "      <td>0.045197</td>\n",
              "      <td>5694</td>\n",
              "      <td>0.042881</td>\n",
              "      <td>0.052616</td>\n",
              "      <td>1.218896e-04</td>\n",
              "    </tr>\n",
              "    <tr>\n",
              "      <th>33</th>\n",
              "      <td>NV</td>\n",
              "      <td>3231</td>\n",
              "      <td>1646</td>\n",
              "      <td>0.012571</td>\n",
              "      <td>1585</td>\n",
              "      <td>0.011936</td>\n",
              "      <td>0.051794</td>\n",
              "      <td>3.286425e-05</td>\n",
              "    </tr>\n",
              "    <tr>\n",
              "      <th>46</th>\n",
              "      <td>VT</td>\n",
              "      <td>281</td>\n",
              "      <td>143</td>\n",
              "      <td>0.001092</td>\n",
              "      <td>138</td>\n",
              "      <td>0.001039</td>\n",
              "      <td>0.049621</td>\n",
              "      <td>2.623458e-06</td>\n",
              "    </tr>\n",
              "    <tr>\n",
              "      <th>40</th>\n",
              "      <td>SC</td>\n",
              "      <td>5078</td>\n",
              "      <td>2582</td>\n",
              "      <td>0.019719</td>\n",
              "      <td>2496</td>\n",
              "      <td>0.018797</td>\n",
              "      <td>0.047905</td>\n",
              "      <td>4.418681e-05</td>\n",
              "    </tr>\n",
              "    <tr>\n",
              "      <th>4</th>\n",
              "      <td>CA</td>\n",
              "      <td>27909</td>\n",
              "      <td>14131</td>\n",
              "      <td>0.107922</td>\n",
              "      <td>13778</td>\n",
              "      <td>0.103760</td>\n",
              "      <td>0.039328</td>\n",
              "      <td>1.636817e-04</td>\n",
              "    </tr>\n",
              "    <tr>\n",
              "      <th>22</th>\n",
              "      <td>MI</td>\n",
              "      <td>7441</td>\n",
              "      <td>3766</td>\n",
              "      <td>0.028762</td>\n",
              "      <td>3675</td>\n",
              "      <td>0.027676</td>\n",
              "      <td>0.038490</td>\n",
              "      <td>4.180135e-05</td>\n",
              "    </tr>\n",
              "    <tr>\n",
              "      <th>16</th>\n",
              "      <td>KS</td>\n",
              "      <td>2451</td>\n",
              "      <td>1238</td>\n",
              "      <td>0.009455</td>\n",
              "      <td>1213</td>\n",
              "      <td>0.009135</td>\n",
              "      <td>0.034431</td>\n",
              "      <td>1.101773e-05</td>\n",
              "    </tr>\n",
              "    <tr>\n",
              "      <th>35</th>\n",
              "      <td>OH</td>\n",
              "      <td>9486</td>\n",
              "      <td>4773</td>\n",
              "      <td>0.036453</td>\n",
              "      <td>4713</td>\n",
              "      <td>0.035493</td>\n",
              "      <td>0.026680</td>\n",
              "      <td>2.560556e-05</td>\n",
              "    </tr>\n",
              "    <tr>\n",
              "      <th>21</th>\n",
              "      <td>ME</td>\n",
              "      <td>814</td>\n",
              "      <td>409</td>\n",
              "      <td>0.003124</td>\n",
              "      <td>405</td>\n",
              "      <td>0.003050</td>\n",
              "      <td>0.023858</td>\n",
              "      <td>1.756967e-06</td>\n",
              "    </tr>\n",
              "    <tr>\n",
              "      <th>12</th>\n",
              "      <td>IA</td>\n",
              "      <td>2183</td>\n",
              "      <td>1096</td>\n",
              "      <td>0.008370</td>\n",
              "      <td>1087</td>\n",
              "      <td>0.008186</td>\n",
              "      <td>0.022276</td>\n",
              "      <td>4.107523e-06</td>\n",
              "    </tr>\n",
              "    <tr>\n",
              "      <th>29</th>\n",
              "      <td>NE</td>\n",
              "      <td>1298</td>\n",
              "      <td>647</td>\n",
              "      <td>0.004941</td>\n",
              "      <td>651</td>\n",
              "      <td>0.004903</td>\n",
              "      <td>0.007867</td>\n",
              "      <td>3.045931e-07</td>\n",
              "    </tr>\n",
              "    <tr>\n",
              "      <th>15</th>\n",
              "      <td>IN</td>\n",
              "      <td>5563</td>\n",
              "      <td>2770</td>\n",
              "      <td>0.021155</td>\n",
              "      <td>2793</td>\n",
              "      <td>0.021034</td>\n",
              "      <td>0.005761</td>\n",
              "      <td>7.001243e-07</td>\n",
              "    </tr>\n",
              "    <tr>\n",
              "      <th>27</th>\n",
              "      <td>NC</td>\n",
              "      <td>9158</td>\n",
              "      <td>4558</td>\n",
              "      <td>0.034811</td>\n",
              "      <td>4600</td>\n",
              "      <td>0.034642</td>\n",
              "      <td>0.004858</td>\n",
              "      <td>8.194354e-07</td>\n",
              "    </tr>\n",
              "    <tr>\n",
              "      <th>26</th>\n",
              "      <td>MT</td>\n",
              "      <td>742</td>\n",
              "      <td>369</td>\n",
              "      <td>0.002818</td>\n",
              "      <td>373</td>\n",
              "      <td>0.002809</td>\n",
              "      <td>0.003248</td>\n",
              "      <td>2.968684e-08</td>\n",
              "    </tr>\n",
              "    <tr>\n",
              "      <th>38</th>\n",
              "      <td>PA</td>\n",
              "      <td>9117</td>\n",
              "      <td>4520</td>\n",
              "      <td>0.034520</td>\n",
              "      <td>4597</td>\n",
              "      <td>0.034619</td>\n",
              "      <td>-0.002862</td>\n",
              "      <td>2.831383e-07</td>\n",
              "    </tr>\n",
              "    <tr>\n",
              "      <th>3</th>\n",
              "      <td>AZ</td>\n",
              "      <td>6362</td>\n",
              "      <td>3154</td>\n",
              "      <td>0.024088</td>\n",
              "      <td>3208</td>\n",
              "      <td>0.024159</td>\n",
              "      <td>-0.002946</td>\n",
              "      <td>2.093869e-07</td>\n",
              "    </tr>\n",
              "    <tr>\n",
              "      <th>47</th>\n",
              "      <td>WA</td>\n",
              "      <td>4886</td>\n",
              "      <td>2413</td>\n",
              "      <td>0.018429</td>\n",
              "      <td>2473</td>\n",
              "      <td>0.018624</td>\n",
              "      <td>-0.010531</td>\n",
              "      <td>2.054639e-06</td>\n",
              "    </tr>\n",
              "    <tr>\n",
              "      <th>50</th>\n",
              "      <td>WY</td>\n",
              "      <td>444</td>\n",
              "      <td>219</td>\n",
              "      <td>0.001673</td>\n",
              "      <td>225</td>\n",
              "      <td>0.001694</td>\n",
              "      <td>-0.012999</td>\n",
              "      <td>2.844475e-07</td>\n",
              "    </tr>\n",
              "    <tr>\n",
              "      <th>43</th>\n",
              "      <td>TX</td>\n",
              "      <td>26647</td>\n",
              "      <td>13133</td>\n",
              "      <td>0.100300</td>\n",
              "      <td>13514</td>\n",
              "      <td>0.101772</td>\n",
              "      <td>-0.014568</td>\n",
              "      <td>2.144214e-05</td>\n",
              "    </tr>\n",
              "    <tr>\n",
              "      <th>48</th>\n",
              "      <td>WI</td>\n",
              "      <td>3585</td>\n",
              "      <td>1766</td>\n",
              "      <td>0.013487</td>\n",
              "      <td>1819</td>\n",
              "      <td>0.013699</td>\n",
              "      <td>-0.015540</td>\n",
              "      <td>3.282427e-06</td>\n",
              "    </tr>\n",
              "    <tr>\n",
              "      <th>11</th>\n",
              "      <td>HI</td>\n",
              "      <td>1020</td>\n",
              "      <td>500</td>\n",
              "      <td>0.003819</td>\n",
              "      <td>520</td>\n",
              "      <td>0.003916</td>\n",
              "      <td>-0.025191</td>\n",
              "      <td>2.453965e-06</td>\n",
              "    </tr>\n",
              "    <tr>\n",
              "      <th>37</th>\n",
              "      <td>OR</td>\n",
              "      <td>3122</td>\n",
              "      <td>1530</td>\n",
              "      <td>0.011685</td>\n",
              "      <td>1592</td>\n",
              "      <td>0.011989</td>\n",
              "      <td>-0.025693</td>\n",
              "      <td>7.813760e-06</td>\n",
              "    </tr>\n",
              "    <tr>\n",
              "      <th>14</th>\n",
              "      <td>IL</td>\n",
              "      <td>8757</td>\n",
              "      <td>4251</td>\n",
              "      <td>0.032466</td>\n",
              "      <td>4506</td>\n",
              "      <td>0.033934</td>\n",
              "      <td>-0.044226</td>\n",
              "      <td>6.492529e-05</td>\n",
              "    </tr>\n",
              "    <tr>\n",
              "      <th>44</th>\n",
              "      <td>UT</td>\n",
              "      <td>2151</td>\n",
              "      <td>1037</td>\n",
              "      <td>0.007920</td>\n",
              "      <td>1114</td>\n",
              "      <td>0.008389</td>\n",
              "      <td>-0.057595</td>\n",
              "      <td>2.704301e-05</td>\n",
              "    </tr>\n",
              "    <tr>\n",
              "      <th>13</th>\n",
              "      <td>ID</td>\n",
              "      <td>1299</td>\n",
              "      <td>625</td>\n",
              "      <td>0.004773</td>\n",
              "      <td>674</td>\n",
              "      <td>0.005076</td>\n",
              "      <td>-0.061448</td>\n",
              "      <td>1.858877e-05</td>\n",
              "    </tr>\n",
              "    <tr>\n",
              "      <th>30</th>\n",
              "      <td>NH</td>\n",
              "      <td>726</td>\n",
              "      <td>347</td>\n",
              "      <td>0.002650</td>\n",
              "      <td>379</td>\n",
              "      <td>0.002854</td>\n",
              "      <td>-0.074181</td>\n",
              "      <td>1.513787e-05</td>\n",
              "    </tr>\n",
              "    <tr>\n",
              "      <th>23</th>\n",
              "      <td>MN</td>\n",
              "      <td>3231</td>\n",
              "      <td>1539</td>\n",
              "      <td>0.011754</td>\n",
              "      <td>1692</td>\n",
              "      <td>0.012742</td>\n",
              "      <td>-0.080748</td>\n",
              "      <td>7.981709e-05</td>\n",
              "    </tr>\n",
              "    <tr>\n",
              "      <th>9</th>\n",
              "      <td>FL</td>\n",
              "      <td>18297</td>\n",
              "      <td>8711</td>\n",
              "      <td>0.066528</td>\n",
              "      <td>9586</td>\n",
              "      <td>0.072191</td>\n",
              "      <td>-0.081687</td>\n",
              "      <td>4.625631e-04</td>\n",
              "    </tr>\n",
              "    <tr>\n",
              "      <th>45</th>\n",
              "      <td>VA</td>\n",
              "      <td>6195</td>\n",
              "      <td>2931</td>\n",
              "      <td>0.022385</td>\n",
              "      <td>3264</td>\n",
              "      <td>0.024581</td>\n",
              "      <td>-0.093580</td>\n",
              "      <td>2.054925e-04</td>\n",
              "    </tr>\n",
              "    <tr>\n",
              "      <th>39</th>\n",
              "      <td>RI</td>\n",
              "      <td>799</td>\n",
              "      <td>377</td>\n",
              "      <td>0.002879</td>\n",
              "      <td>422</td>\n",
              "      <td>0.003178</td>\n",
              "      <td>-0.098730</td>\n",
              "      <td>2.949805e-05</td>\n",
              "    </tr>\n",
              "    <tr>\n",
              "      <th>8</th>\n",
              "      <td>DE</td>\n",
              "      <td>795</td>\n",
              "      <td>374</td>\n",
              "      <td>0.002856</td>\n",
              "      <td>421</td>\n",
              "      <td>0.003170</td>\n",
              "      <td>-0.104347</td>\n",
              "      <td>3.278119e-05</td>\n",
              "    </tr>\n",
              "    <tr>\n",
              "      <th>6</th>\n",
              "      <td>CT</td>\n",
              "      <td>2138</td>\n",
              "      <td>987</td>\n",
              "      <td>0.007538</td>\n",
              "      <td>1151</td>\n",
              "      <td>0.008668</td>\n",
              "      <td>-0.139686</td>\n",
              "      <td>1.578513e-04</td>\n",
              "    </tr>\n",
              "    <tr>\n",
              "      <th>20</th>\n",
              "      <td>MD</td>\n",
              "      <td>4754</td>\n",
              "      <td>2187</td>\n",
              "      <td>0.016703</td>\n",
              "      <td>2567</td>\n",
              "      <td>0.019332</td>\n",
              "      <td>-0.146177</td>\n",
              "      <td>3.843029e-04</td>\n",
              "    </tr>\n",
              "    <tr>\n",
              "      <th>31</th>\n",
              "      <td>NJ</td>\n",
              "      <td>5541</td>\n",
              "      <td>2526</td>\n",
              "      <td>0.019292</td>\n",
              "      <td>3015</td>\n",
              "      <td>0.022706</td>\n",
              "      <td>-0.162933</td>\n",
              "      <td>5.562224e-04</td>\n",
              "    </tr>\n",
              "    <tr>\n",
              "      <th>19</th>\n",
              "      <td>MA</td>\n",
              "      <td>4048</td>\n",
              "      <td>1841</td>\n",
              "      <td>0.014060</td>\n",
              "      <td>2207</td>\n",
              "      <td>0.016621</td>\n",
              "      <td>-0.167295</td>\n",
              "      <td>4.283436e-04</td>\n",
              "    </tr>\n",
              "    <tr>\n",
              "      <th>34</th>\n",
              "      <td>NY</td>\n",
              "      <td>14365</td>\n",
              "      <td>6487</td>\n",
              "      <td>0.049543</td>\n",
              "      <td>7878</td>\n",
              "      <td>0.059328</td>\n",
              "      <td>-0.180244</td>\n",
              "      <td>1.763720e-03</td>\n",
              "    </tr>\n",
              "    <tr>\n",
              "      <th>41</th>\n",
              "      <td>SD</td>\n",
              "      <td>526</td>\n",
              "      <td>235</td>\n",
              "      <td>0.001795</td>\n",
              "      <td>291</td>\n",
              "      <td>0.002191</td>\n",
              "      <td>-0.199708</td>\n",
              "      <td>7.922871e-05</td>\n",
              "    </tr>\n",
              "  </tbody>\n",
              "</table>\n",
              "</div>"
            ],
            "text/plain": [
              "   shipping_region      N  Events  ...  % of Non-Events       WoE            IV\n",
              "0               AK    817     480  ...         0.002538  0.367733  4.147980e-04\n",
              "25              MS   3509    1932  ...         0.011876  0.217061  6.249254e-04\n",
              "36              OK   4164    2276  ...         0.014218  0.200931  6.357766e-04\n",
              "24              MO   5767    3088  ...         0.020175  0.156110  5.321314e-04\n",
              "18              LA   5624    2977  ...         0.019934  0.131519  3.685095e-04\n",
              "2               AR   3439    1819  ...         0.012200  0.129891  2.197996e-04\n",
              "32              NM   1859     983  ...         0.006597  0.129273  1.176897e-04\n",
              "1               AL   5385    2827  ...         0.019264  0.114020  2.652801e-04\n",
              "28              ND    601     312  ...         0.002176  0.090607  1.870187e-05\n",
              "7               DC    637     330  ...         0.002312  0.086275  1.797303e-05\n",
              "5               CO   4346    2247  ...         0.015807  0.082165  1.112230e-04\n",
              "17              KY   4052    2094  ...         0.014745  0.081183  1.012351e-04\n",
              "49              WV   1479     760  ...         0.005415  0.069487  2.707437e-05\n",
              "42              TN   5993    3076  ...         0.021968  0.067104  1.023142e-04\n",
              "10              GA  11612    5918  ...         0.042881  0.052616  1.218896e-04\n",
              "33              NV   3231    1646  ...         0.011936  0.051794  3.286425e-05\n",
              "46              VT    281     143  ...         0.001039  0.049621  2.623458e-06\n",
              "40              SC   5078    2582  ...         0.018797  0.047905  4.418681e-05\n",
              "4               CA  27909   14131  ...         0.103760  0.039328  1.636817e-04\n",
              "22              MI   7441    3766  ...         0.027676  0.038490  4.180135e-05\n",
              "16              KS   2451    1238  ...         0.009135  0.034431  1.101773e-05\n",
              "35              OH   9486    4773  ...         0.035493  0.026680  2.560556e-05\n",
              "21              ME    814     409  ...         0.003050  0.023858  1.756967e-06\n",
              "12              IA   2183    1096  ...         0.008186  0.022276  4.107523e-06\n",
              "29              NE   1298     647  ...         0.004903  0.007867  3.045931e-07\n",
              "15              IN   5563    2770  ...         0.021034  0.005761  7.001243e-07\n",
              "27              NC   9158    4558  ...         0.034642  0.004858  8.194354e-07\n",
              "26              MT    742     369  ...         0.002809  0.003248  2.968684e-08\n",
              "38              PA   9117    4520  ...         0.034619 -0.002862  2.831383e-07\n",
              "3               AZ   6362    3154  ...         0.024159 -0.002946  2.093869e-07\n",
              "47              WA   4886    2413  ...         0.018624 -0.010531  2.054639e-06\n",
              "50              WY    444     219  ...         0.001694 -0.012999  2.844475e-07\n",
              "43              TX  26647   13133  ...         0.101772 -0.014568  2.144214e-05\n",
              "48              WI   3585    1766  ...         0.013699 -0.015540  3.282427e-06\n",
              "11              HI   1020     500  ...         0.003916 -0.025191  2.453965e-06\n",
              "37              OR   3122    1530  ...         0.011989 -0.025693  7.813760e-06\n",
              "14              IL   8757    4251  ...         0.033934 -0.044226  6.492529e-05\n",
              "44              UT   2151    1037  ...         0.008389 -0.057595  2.704301e-05\n",
              "13              ID   1299     625  ...         0.005076 -0.061448  1.858877e-05\n",
              "30              NH    726     347  ...         0.002854 -0.074181  1.513787e-05\n",
              "23              MN   3231    1539  ...         0.012742 -0.080748  7.981709e-05\n",
              "9               FL  18297    8711  ...         0.072191 -0.081687  4.625631e-04\n",
              "45              VA   6195    2931  ...         0.024581 -0.093580  2.054925e-04\n",
              "39              RI    799     377  ...         0.003178 -0.098730  2.949805e-05\n",
              "8               DE    795     374  ...         0.003170 -0.104347  3.278119e-05\n",
              "6               CT   2138     987  ...         0.008668 -0.139686  1.578513e-04\n",
              "20              MD   4754    2187  ...         0.019332 -0.146177  3.843029e-04\n",
              "31              NJ   5541    2526  ...         0.022706 -0.162933  5.562224e-04\n",
              "19              MA   4048    1841  ...         0.016621 -0.167295  4.283436e-04\n",
              "34              NY  14365    6487  ...         0.059328 -0.180244  1.763720e-03\n",
              "41              SD    526     235  ...         0.002191 -0.199708  7.922871e-05\n",
              "\n",
              "[51 rows x 8 columns]"
            ]
          },
          "metadata": {
            "tags": []
          },
          "execution_count": 283
        }
      ]
    },
    {
      "cell_type": "code",
      "metadata": {
        "id": "Zm_p-B3EpIrc"
      },
      "source": [
        "user_features.fillna(0,inplace=True)"
      ],
      "execution_count": null,
      "outputs": []
    },
    {
      "cell_type": "code",
      "metadata": {
        "colab": {
          "base_uri": "https://localhost:8080/",
          "height": 272
        },
        "id": "dMLiDYRH_uXG",
        "outputId": "9d5d10c9-7319-46a2-8939-be0fe0898a88"
      },
      "source": [
        "df_woe=users.set_index('subscription_hash').drop(['minutes_from_registration','target'],axis=1)\n",
        "df_woe.head()"
      ],
      "execution_count": null,
      "outputs": [
        {
          "output_type": "execute_result",
          "data": {
            "text/html": [
              "<div>\n",
              "<style scoped>\n",
              "    .dataframe tbody tr th:only-of-type {\n",
              "        vertical-align: middle;\n",
              "    }\n",
              "\n",
              "    .dataframe tbody tr th {\n",
              "        vertical-align: top;\n",
              "    }\n",
              "\n",
              "    .dataframe thead th {\n",
              "        text-align: right;\n",
              "    }\n",
              "</style>\n",
              "<table border=\"1\" class=\"dataframe\">\n",
              "  <thead>\n",
              "    <tr style=\"text-align: right;\">\n",
              "      <th></th>\n",
              "      <th>channel</th>\n",
              "      <th>first_month_price</th>\n",
              "      <th>first_payment_type</th>\n",
              "      <th>fragrance_family</th>\n",
              "      <th>shipping_region</th>\n",
              "      <th>is_upgraded_in_first_2_days</th>\n",
              "      <th>is_upcharged_in_first_2_days</th>\n",
              "      <th>age_tier</th>\n",
              "      <th>sex</th>\n",
              "      <th>income_tier</th>\n",
              "      <th>minutes_bucket</th>\n",
              "    </tr>\n",
              "    <tr>\n",
              "      <th>subscription_hash</th>\n",
              "      <th></th>\n",
              "      <th></th>\n",
              "      <th></th>\n",
              "      <th></th>\n",
              "      <th></th>\n",
              "      <th></th>\n",
              "      <th></th>\n",
              "      <th></th>\n",
              "      <th></th>\n",
              "      <th></th>\n",
              "      <th></th>\n",
              "    </tr>\n",
              "  </thead>\n",
              "  <tbody>\n",
              "    <tr>\n",
              "      <th>6c6f36cd8eb42ef1d905578a6b0947f534d6132ae1c02517a04c2f141c197671</th>\n",
              "      <td>Channel_3</td>\n",
              "      <td>3.0</td>\n",
              "      <td>Card</td>\n",
              "      <td>0</td>\n",
              "      <td>FL</td>\n",
              "      <td>0</td>\n",
              "      <td>0</td>\n",
              "      <td>45 or above</td>\n",
              "      <td>female</td>\n",
              "      <td>below 49</td>\n",
              "      <td>2 to 3</td>\n",
              "    </tr>\n",
              "    <tr>\n",
              "      <th>73831634ef6d3639546fbb58f7ea4288220d907600fc9b2e6a71cef6f1d570ba</th>\n",
              "      <td>Channel_1</td>\n",
              "      <td>11.21</td>\n",
              "      <td>Card</td>\n",
              "      <td>0</td>\n",
              "      <td>PA</td>\n",
              "      <td>0</td>\n",
              "      <td>1</td>\n",
              "      <td>Below 18</td>\n",
              "      <td>male</td>\n",
              "      <td>50 to 74</td>\n",
              "      <td>2 to 3</td>\n",
              "    </tr>\n",
              "    <tr>\n",
              "      <th>75c705c4e9d81bb6037d2383118983f1f8009b6ae203d46868e930f356bc87b4</th>\n",
              "      <td>Channel_1</td>\n",
              "      <td>11.21</td>\n",
              "      <td>NaN</td>\n",
              "      <td>0</td>\n",
              "      <td>IN</td>\n",
              "      <td>0</td>\n",
              "      <td>1</td>\n",
              "      <td>Below 18</td>\n",
              "      <td>female</td>\n",
              "      <td>below 49</td>\n",
              "      <td>less than 2</td>\n",
              "    </tr>\n",
              "    <tr>\n",
              "      <th>20bb89aa63a1bc2a2f0c6e435a1da9057e52b6eec113fbb4e5f55fec76ef87ef</th>\n",
              "      <td>Channel_3</td>\n",
              "      <td>3.0</td>\n",
              "      <td>Card</td>\n",
              "      <td>0</td>\n",
              "      <td>TX</td>\n",
              "      <td>0</td>\n",
              "      <td>0</td>\n",
              "      <td>Below 18</td>\n",
              "      <td>female</td>\n",
              "      <td>below 49</td>\n",
              "      <td>2 to 3</td>\n",
              "    </tr>\n",
              "    <tr>\n",
              "      <th>160647d08b5d29ad4039b58f0c8f6515c29cdc7aae517e431ff46da3ed645dda</th>\n",
              "      <td>Channel_1</td>\n",
              "      <td>11.21</td>\n",
              "      <td>NaN</td>\n",
              "      <td>0</td>\n",
              "      <td>TX</td>\n",
              "      <td>1</td>\n",
              "      <td>0</td>\n",
              "      <td>Below 18</td>\n",
              "      <td>female</td>\n",
              "      <td>below 49</td>\n",
              "      <td>less than 2</td>\n",
              "    </tr>\n",
              "  </tbody>\n",
              "</table>\n",
              "</div>"
            ],
            "text/plain": [
              "                                                      channel  ... minutes_bucket\n",
              "subscription_hash                                              ...               \n",
              "6c6f36cd8eb42ef1d905578a6b0947f534d6132ae1c0251...  Channel_3  ...         2 to 3\n",
              "73831634ef6d3639546fbb58f7ea4288220d907600fc9b2...  Channel_1  ...         2 to 3\n",
              "75c705c4e9d81bb6037d2383118983f1f8009b6ae203d46...  Channel_1  ...    less than 2\n",
              "20bb89aa63a1bc2a2f0c6e435a1da9057e52b6eec113fbb...  Channel_3  ...         2 to 3\n",
              "160647d08b5d29ad4039b58f0c8f6515c29cdc7aae517e4...  Channel_1  ...    less than 2\n",
              "\n",
              "[5 rows x 11 columns]"
            ]
          },
          "metadata": {
            "tags": []
          },
          "execution_count": 285
        }
      ]
    },
    {
      "cell_type": "code",
      "metadata": {
        "colab": {
          "base_uri": "https://localhost:8080/"
        },
        "id": "16YaKqhdXnCD",
        "outputId": "12e0b54a-ed51-4bf9-b90b-abd2487df24a"
      },
      "source": [
        "df_woe.shape,users.shape"
      ],
      "execution_count": null,
      "outputs": [
        {
          "output_type": "execute_result",
          "data": {
            "text/plain": [
              "((263724, 11), (263724, 14))"
            ]
          },
          "metadata": {
            "tags": []
          },
          "execution_count": 286
        }
      ]
    },
    {
      "cell_type": "code",
      "metadata": {
        "colab": {
          "base_uri": "https://localhost:8080/"
        },
        "id": "9IfRSxdZ_uMl",
        "outputId": "d3074f0a-c204-4a6d-9889-66bf6a4ecc91"
      },
      "source": [
        "df_woe=df_woe.join(user_features,how='inner')\n",
        "df_woe.shape,user_features.shape"
      ],
      "execution_count": null,
      "outputs": [
        {
          "output_type": "execute_result",
          "data": {
            "text/plain": [
              "((232653, 24), (233119, 13))"
            ]
          },
          "metadata": {
            "tags": []
          },
          "execution_count": 287
        }
      ]
    },
    {
      "cell_type": "code",
      "metadata": {
        "colab": {
          "base_uri": "https://localhost:8080/"
        },
        "id": "a72J1d-aCt08",
        "outputId": "c5e86baa-2a41-414c-9269-2cc1bf35bb6e"
      },
      "source": [
        "#regions with similar WoE will be combined\n",
        "#d=users[['shipping_region','target']]\n",
        "r=[['NY','SD'],['CT','ND','MJ','MA'],['MN','FL'],['VA','RI','DE'],['WA','WY','TX','WI'],['HI','OR','IL','UT','ID','NH'],['PA','AZ'],\n",
        "['MT','NC','IN','NE'],['OH','ME','IA'],['CA','MI','KS'],['WV','TN','GA','NV','VT','SC'],['AL','ND','DC','KY','CO'],\n",
        "['MO','LA','AR','NM'],['OK','MS','AK']]\n",
        "for i in r:\n",
        "  #print(i)\n",
        "    df_woe[df_woe['shipping_region'].isin(i)]['shipping_region']=i[0]\n",
        "    #df_woe['shipping_region']=i[0]\n",
        "  #print(df_woe['shipping_region'])\n",
        "df_woe['shipping_region'].value_counts()"
      ],
      "execution_count": null,
      "outputs": [
        {
          "output_type": "execute_result",
          "data": {
            "text/plain": [
              "CA    24795\n",
              "TX    23418\n",
              "FL    16115\n",
              "NY    12728\n",
              "GA    10265\n",
              "OH     8321\n",
              "NC     8068\n",
              "PA     8050\n",
              "IL     7719\n",
              "MI     6589\n",
              "AZ     5634\n",
              "VA     5460\n",
              "TN     5275\n",
              "MO     5055\n",
              "LA     4976\n",
              "IN     4907\n",
              "NJ     4896\n",
              "AL     4709\n",
              "SC     4466\n",
              "WA     4301\n",
              "MD     4201\n",
              "CO     3877\n",
              "OK     3651\n",
              "MA     3593\n",
              "KY     3549\n",
              "WI     3187\n",
              "MS     3060\n",
              "AR     3044\n",
              "MN     2862\n",
              "NV     2842\n",
              "OR     2751\n",
              "KS     2136\n",
              "IA     1910\n",
              "UT     1909\n",
              "CT     1873\n",
              "NM     1625\n",
              "WV     1280\n",
              "ID     1134\n",
              "NE     1133\n",
              "HI      913\n",
              "AK      739\n",
              "ME      726\n",
              "RI      699\n",
              "DE      695\n",
              "MT      664\n",
              "NH      636\n",
              "DC      579\n",
              "ND      533\n",
              "SD      457\n",
              "WY      402\n",
              "VT      246\n",
              "Name: shipping_region, dtype: int64"
            ]
          },
          "metadata": {
            "tags": []
          },
          "execution_count": 288
        }
      ]
    },
    {
      "cell_type": "markdown",
      "metadata": {
        "id": "8_QyS_Vcy75A"
      },
      "source": [
        "Can you please tell why this code is not working?"
      ]
    },
    {
      "cell_type": "markdown",
      "metadata": {
        "id": "duMlrcdWtnlZ"
      },
      "source": [
        "---\n",
        "<font color='green'>FM comment </font>\n",
        "\n",
        "I suspect it does not work because you create new dataframe (df_woe[df_woe['shipping_region'].isin(i)]) and change value of 'shipping_region' in this new dataset. It does not impact original dataframe.\n",
        "\n",
        "First of all, never never never modify existing columns. If you want to create new feature, you had better add new column. For instance, call it *shipping_region_bucket_id*\n",
        "\n",
        "How I would do it?\n",
        "1. Create a dictionary {region_bucket_id: region_name}, i.e. {'NY': 1,'SD': 1,'CT': 2,'ND': 2,'MJ': 2,'MA': 2, ...}. Ponder a way to convert the list _r_ into thus dictionary - it's clever algorithmic exercise.\n",
        "2. Apply the dictionary to the column *shipping_region* (https://pandas.pydata.org/docs/reference/api/pandas.Series.map.html)  Write result into new column. Drop original columns if you wish.\n",
        "\n",
        "\n",
        "\n",
        "\n",
        "\n"
      ]
    },
    {
      "cell_type": "code",
      "metadata": {
        "id": "kHOdk7CxDnbH"
      },
      "source": [
        ""
      ],
      "execution_count": null,
      "outputs": []
    },
    {
      "cell_type": "code",
      "metadata": {
        "colab": {
          "base_uri": "https://localhost:8080/",
          "height": 289
        },
        "id": "5ux0S7aT_uBF",
        "outputId": "35de5aa6-af0b-4951-b6e3-b579aed4366e"
      },
      "source": [
        "df_woe.head()"
      ],
      "execution_count": null,
      "outputs": [
        {
          "output_type": "execute_result",
          "data": {
            "text/html": [
              "<div>\n",
              "<style scoped>\n",
              "    .dataframe tbody tr th:only-of-type {\n",
              "        vertical-align: middle;\n",
              "    }\n",
              "\n",
              "    .dataframe tbody tr th {\n",
              "        vertical-align: top;\n",
              "    }\n",
              "\n",
              "    .dataframe thead th {\n",
              "        text-align: right;\n",
              "    }\n",
              "</style>\n",
              "<table border=\"1\" class=\"dataframe\">\n",
              "  <thead>\n",
              "    <tr style=\"text-align: right;\">\n",
              "      <th></th>\n",
              "      <th>channel</th>\n",
              "      <th>first_month_price</th>\n",
              "      <th>first_payment_type</th>\n",
              "      <th>fragrance_family</th>\n",
              "      <th>shipping_region</th>\n",
              "      <th>is_upgraded_in_first_2_days</th>\n",
              "      <th>is_upcharged_in_first_2_days</th>\n",
              "      <th>age_tier</th>\n",
              "      <th>sex</th>\n",
              "      <th>income_tier</th>\n",
              "      <th>minutes_bucket</th>\n",
              "      <th>minutes_from_registration_min</th>\n",
              "      <th>minutes_from_registration_max</th>\n",
              "      <th>minutes_from_registration_count</th>\n",
              "      <th>amount_of_events_mean</th>\n",
              "      <th>avg_time_btwn_visits</th>\n",
              "      <th>Browser_page_view</th>\n",
              "      <th>Browser (mobile)_page_view</th>\n",
              "      <th>Robot_AddToQueue</th>\n",
              "      <th>Robot_SubscriptionUpgrade</th>\n",
              "      <th>unknown_AddToQueue</th>\n",
              "      <th>unknown_SubscriptionUpgrade</th>\n",
              "      <th>Robot_RemoveFromQueue</th>\n",
              "      <th>target</th>\n",
              "    </tr>\n",
              "    <tr>\n",
              "      <th>subscription_hash</th>\n",
              "      <th></th>\n",
              "      <th></th>\n",
              "      <th></th>\n",
              "      <th></th>\n",
              "      <th></th>\n",
              "      <th></th>\n",
              "      <th></th>\n",
              "      <th></th>\n",
              "      <th></th>\n",
              "      <th></th>\n",
              "      <th></th>\n",
              "      <th></th>\n",
              "      <th></th>\n",
              "      <th></th>\n",
              "      <th></th>\n",
              "      <th></th>\n",
              "      <th></th>\n",
              "      <th></th>\n",
              "      <th></th>\n",
              "      <th></th>\n",
              "      <th></th>\n",
              "      <th></th>\n",
              "      <th></th>\n",
              "      <th></th>\n",
              "    </tr>\n",
              "  </thead>\n",
              "  <tbody>\n",
              "    <tr>\n",
              "      <th>6c6f36cd8eb42ef1d905578a6b0947f534d6132ae1c02517a04c2f141c197671</th>\n",
              "      <td>Channel_3</td>\n",
              "      <td>3.0</td>\n",
              "      <td>Card</td>\n",
              "      <td>0</td>\n",
              "      <td>FL</td>\n",
              "      <td>0</td>\n",
              "      <td>0</td>\n",
              "      <td>45 or above</td>\n",
              "      <td>female</td>\n",
              "      <td>below 49</td>\n",
              "      <td>2 to 3</td>\n",
              "      <td>0</td>\n",
              "      <td>632</td>\n",
              "      <td>6</td>\n",
              "      <td>2.333333</td>\n",
              "      <td>105.333333</td>\n",
              "      <td>0.000000</td>\n",
              "      <td>1.4</td>\n",
              "      <td>0.000000</td>\n",
              "      <td>0.0</td>\n",
              "      <td>7.000000</td>\n",
              "      <td>0.0</td>\n",
              "      <td>0.00</td>\n",
              "      <td>0</td>\n",
              "    </tr>\n",
              "    <tr>\n",
              "      <th>73831634ef6d3639546fbb58f7ea4288220d907600fc9b2e6a71cef6f1d570ba</th>\n",
              "      <td>Channel_1</td>\n",
              "      <td>11.21</td>\n",
              "      <td>Card</td>\n",
              "      <td>0</td>\n",
              "      <td>PA</td>\n",
              "      <td>0</td>\n",
              "      <td>1</td>\n",
              "      <td>Below 18</td>\n",
              "      <td>male</td>\n",
              "      <td>50 to 74</td>\n",
              "      <td>2 to 3</td>\n",
              "      <td>0</td>\n",
              "      <td>980</td>\n",
              "      <td>17</td>\n",
              "      <td>1.529412</td>\n",
              "      <td>57.647059</td>\n",
              "      <td>0.000000</td>\n",
              "      <td>2.2</td>\n",
              "      <td>1.333333</td>\n",
              "      <td>1.0</td>\n",
              "      <td>0.000000</td>\n",
              "      <td>0.0</td>\n",
              "      <td>1.25</td>\n",
              "      <td>0</td>\n",
              "    </tr>\n",
              "    <tr>\n",
              "      <th>75c705c4e9d81bb6037d2383118983f1f8009b6ae203d46868e930f356bc87b4</th>\n",
              "      <td>Channel_1</td>\n",
              "      <td>11.21</td>\n",
              "      <td>NaN</td>\n",
              "      <td>0</td>\n",
              "      <td>IN</td>\n",
              "      <td>0</td>\n",
              "      <td>1</td>\n",
              "      <td>Below 18</td>\n",
              "      <td>female</td>\n",
              "      <td>below 49</td>\n",
              "      <td>less than 2</td>\n",
              "      <td>0</td>\n",
              "      <td>41</td>\n",
              "      <td>10</td>\n",
              "      <td>2.000000</td>\n",
              "      <td>4.100000</td>\n",
              "      <td>2.000000</td>\n",
              "      <td>1.0</td>\n",
              "      <td>2.166667</td>\n",
              "      <td>0.0</td>\n",
              "      <td>0.000000</td>\n",
              "      <td>0.0</td>\n",
              "      <td>0.00</td>\n",
              "      <td>0</td>\n",
              "    </tr>\n",
              "    <tr>\n",
              "      <th>20bb89aa63a1bc2a2f0c6e435a1da9057e52b6eec113fbb4e5f55fec76ef87ef</th>\n",
              "      <td>Channel_3</td>\n",
              "      <td>3.0</td>\n",
              "      <td>Card</td>\n",
              "      <td>0</td>\n",
              "      <td>TX</td>\n",
              "      <td>0</td>\n",
              "      <td>0</td>\n",
              "      <td>Below 18</td>\n",
              "      <td>female</td>\n",
              "      <td>below 49</td>\n",
              "      <td>2 to 3</td>\n",
              "      <td>3</td>\n",
              "      <td>444</td>\n",
              "      <td>18</td>\n",
              "      <td>2.000000</td>\n",
              "      <td>24.500000</td>\n",
              "      <td>0.000000</td>\n",
              "      <td>1.8</td>\n",
              "      <td>0.000000</td>\n",
              "      <td>0.0</td>\n",
              "      <td>2.428571</td>\n",
              "      <td>1.0</td>\n",
              "      <td>0.00</td>\n",
              "      <td>0</td>\n",
              "    </tr>\n",
              "    <tr>\n",
              "      <th>160647d08b5d29ad4039b58f0c8f6515c29cdc7aae517e431ff46da3ed645dda</th>\n",
              "      <td>Channel_1</td>\n",
              "      <td>11.21</td>\n",
              "      <td>NaN</td>\n",
              "      <td>0</td>\n",
              "      <td>TX</td>\n",
              "      <td>1</td>\n",
              "      <td>0</td>\n",
              "      <td>Below 18</td>\n",
              "      <td>female</td>\n",
              "      <td>below 49</td>\n",
              "      <td>less than 2</td>\n",
              "      <td>0</td>\n",
              "      <td>18</td>\n",
              "      <td>21</td>\n",
              "      <td>1.809524</td>\n",
              "      <td>0.857143</td>\n",
              "      <td>1.090909</td>\n",
              "      <td>0.0</td>\n",
              "      <td>3.285714</td>\n",
              "      <td>1.0</td>\n",
              "      <td>0.000000</td>\n",
              "      <td>0.0</td>\n",
              "      <td>1.00</td>\n",
              "      <td>0</td>\n",
              "    </tr>\n",
              "  </tbody>\n",
              "</table>\n",
              "</div>"
            ],
            "text/plain": [
              "                                                      channel  ... target\n",
              "subscription_hash                                              ...       \n",
              "6c6f36cd8eb42ef1d905578a6b0947f534d6132ae1c0251...  Channel_3  ...      0\n",
              "73831634ef6d3639546fbb58f7ea4288220d907600fc9b2...  Channel_1  ...      0\n",
              "75c705c4e9d81bb6037d2383118983f1f8009b6ae203d46...  Channel_1  ...      0\n",
              "20bb89aa63a1bc2a2f0c6e435a1da9057e52b6eec113fbb...  Channel_3  ...      0\n",
              "160647d08b5d29ad4039b58f0c8f6515c29cdc7aae517e4...  Channel_1  ...      0\n",
              "\n",
              "[5 rows x 24 columns]"
            ]
          },
          "metadata": {
            "tags": []
          },
          "execution_count": 289
        }
      ]
    },
    {
      "cell_type": "code",
      "metadata": {
        "id": "a03FKlp6o9Po"
      },
      "source": [
        ""
      ],
      "execution_count": null,
      "outputs": []
    },
    {
      "cell_type": "code",
      "metadata": {
        "id": "UFs35TnMO65J"
      },
      "source": [
        "def iv_woe(data, target, bins=10, show_woe=False):\n",
        "    \n",
        "    #Empty Dataframe\n",
        "    newDF,woeDF = pd.DataFrame(), pd.DataFrame()\n",
        "    \n",
        "    #Extract Column Names\n",
        "    cols = data.columns\n",
        "    \n",
        "    #Run WOE and IV on all the independent variables\n",
        "    for ivars in cols[~cols.isin([target])]:\n",
        "        if (data[ivars].dtype.kind in 'bifc') and (len(np.unique(data[ivars]))>10):\n",
        "            binned_x = pd.qcut(data[ivars], bins,  duplicates='drop')\n",
        "            data=data.join(binned_x,lsuffix='_unbinned')\n",
        "            d0 = pd.DataFrame({'x': binned_x, 'y': data[target]})\n",
        "        else:\n",
        "            d0 = pd.DataFrame({'x': data[ivars], 'y': data[target]})\n",
        "        d = d0.groupby(\"x\", as_index=False).agg({\"y\": [\"count\", \"sum\"]})\n",
        "        d.columns = ['Cutoff', 'N', 'Events']\n",
        "        d['% of Events'] = np.maximum(d['Events'], 0.5) / d['Events'].sum()\n",
        "        d['Non-Events'] = d['N'] - d['Events']\n",
        "        d['% of Non-Events'] = np.maximum(d['Non-Events'], 0.5) / d['Non-Events'].sum()\n",
        "        d['WoE'] = np.log(d['% of Events']/d['% of Non-Events'])\n",
        "        d['IV'] = d['WoE'] * (d['% of Events'] - d['% of Non-Events'])\n",
        "        d.insert(loc=0, column='Variable', value=ivars)\n",
        "        print(\"Information value of \" + ivars + \" is \" + str(round(d['IV'].sum(),6)))\n",
        "        temp =pd.DataFrame({\"Variable\" : [ivars], \"IV\" : [d['IV'].sum()]}, columns = [\"Variable\", \"IV\"])\n",
        "        newDF=pd.concat([newDF,temp], axis=0)\n",
        "        woeDF=pd.concat([woeDF,d], axis=0)\n",
        "\n",
        "        #Show WOE Table\n",
        "        if show_woe == True:\n",
        "            print(d)\n",
        "    return newDF, woeDF,data"
      ],
      "execution_count": null,
      "outputs": []
    },
    {
      "cell_type": "code",
      "metadata": {
        "colab": {
          "base_uri": "https://localhost:8080/"
        },
        "id": "oCOpnK8iQfLP",
        "outputId": "910e92cf-64ef-47b2-9360-c6f779bafb0a"
      },
      "source": [
        "newdf,woedf,data=iv_woe(df_woe,'target',bins=5,show_woe=True)   #users.drop(['subscription_hash','minutes_from_registration'],axis=1,'target')"
      ],
      "execution_count": null,
      "outputs": [
        {
          "output_type": "stream",
          "text": [
            "Information value of channel is 0.001391\n",
            "  Variable     Cutoff       N  ...  % of Non-Events       WoE        IV\n",
            "0  channel  Channel_1   53138  ...         0.220753  0.066606  0.001013\n",
            "1  channel  Channel_2   13655  ...         0.058234  0.015519  0.000014\n",
            "2  channel  Channel_3  165860  ...         0.721012 -0.022604  0.000364\n",
            "\n",
            "[3 rows x 9 columns]\n",
            "Information value of first_month_price is 0.001269\n",
            "            Variable Cutoff       N  ...  % of Non-Events       WoE        IV\n",
            "0  first_month_price  11.21   66793  ...         0.278988  0.056155  0.000905\n",
            "1  first_month_price    3.0  165860  ...         0.721012 -0.022604  0.000364\n",
            "\n",
            "[2 rows x 9 columns]\n",
            "Information value of first_payment_type is 0.424961\n",
            "             Variable        Cutoff  ...       WoE        IV\n",
            "0  first_payment_type          Card  ... -0.405905  0.077357\n",
            "1  first_payment_type           NaN  ...  0.840617  0.249034\n",
            "2  first_payment_type        PayPal  ... -0.839715  0.094160\n",
            "3  first_payment_type  Prepaid Card  ...  0.682585  0.004409\n",
            "\n",
            "[4 rows x 9 columns]\n",
            "Information value of fragrance_family is 0.138704\n",
            "           Variable  Cutoff       N  ...  % of Non-Events       WoE        IV\n",
            "0  fragrance_family       0  212864  ...         0.964068 -0.106821  0.010433\n",
            "1  fragrance_family       1   19789  ...         0.035932  1.313264  0.128270\n",
            "\n",
            "[2 rows x 9 columns]\n",
            "Information value of shipping_region is 0.008555\n",
            "           Variable Cutoff      N  ...  % of Non-Events       WoE            IV\n",
            "0   shipping_region     AK    739  ...         0.002612  0.357634  4.015720e-04\n",
            "1   shipping_region     AL   4709  ...         0.019017  0.120408  2.929898e-04\n",
            "2   shipping_region     AR   3044  ...         0.012358  0.110488  1.595085e-04\n",
            "3   shipping_region     AZ   5634  ...         0.024101  0.009428  2.152519e-06\n",
            "4   shipping_region     CA  24795  ...         0.104033  0.047432  2.396894e-04\n",
            "5   shipping_region     CO   3877  ...         0.016042  0.074331  9.200807e-05\n",
            "6   shipping_region     CT   1873  ...         0.008648 -0.147692  1.753648e-04\n",
            "7   shipping_region     DC    579  ...         0.002378  0.088385  1.942351e-05\n",
            "8   shipping_region     DE    695  ...         0.003208 -0.147330  6.475393e-05\n",
            "9   shipping_region     FL  16115  ...         0.072218 -0.084756  4.974014e-04\n",
            "10  shipping_region     GA  10265  ...         0.042781  0.060444  1.611193e-04\n",
            "11  shipping_region     HI    913  ...         0.004030 -0.053499  1.123098e-05\n",
            "12  shipping_region     IA   1910  ...         0.008207  0.000694  3.950790e-09\n",
            "13  shipping_region     ID   1134  ...         0.005024 -0.061265  1.829227e-05\n",
            "14  shipping_region     IL   7719  ...         0.033752 -0.034415  3.929526e-05\n",
            "15  shipping_region     IN   4907  ...         0.021075  0.001578  5.255123e-08\n",
            "16  shipping_region     KS   2136  ...         0.009037  0.031206  8.939047e-06\n",
            "17  shipping_region     KY   3549  ...         0.014528  0.094738  1.367721e-04\n",
            "18  shipping_region     LA   4976  ...         0.020011  0.128228  3.510583e-04\n",
            "19  shipping_region     MA   3593  ...         0.016725 -0.165247  4.209622e-04\n",
            "20  shipping_region     MD   4201  ...         0.019319 -0.139156  3.492427e-04\n",
            "21  shipping_region     ME    726  ...         0.003070  0.032212  3.237386e-06\n",
            "22  shipping_region     MI   6589  ...         0.027777  0.038222  4.136534e-05\n",
            "23  shipping_region     MN   2862  ...         0.012781 -0.077584  7.402629e-05\n",
            "24  shipping_region     MO   5055  ...         0.020149  0.144728  4.541255e-04\n",
            "25  shipping_region     MS   3060  ...         0.011873  0.194082  4.935973e-04\n",
            "26  shipping_region     MT    664  ...         0.002845  0.006201  1.097381e-07\n",
            "27  shipping_region     NC   8068  ...         0.034418  0.014902  7.700644e-06\n",
            "28  shipping_region     ND    533  ...         0.002240  0.044428  4.520706e-06\n",
            "29  shipping_region     NE   1133  ...         0.004860  0.004015  7.852116e-08\n",
            "30  shipping_region     NH    636  ...         0.002836 -0.074786  1.528551e-05\n",
            "31  shipping_region     NJ   4896  ...         0.022830 -0.169057  6.003249e-04\n",
            "32  shipping_region     NM   1625  ...         0.006529  0.129904  1.176548e-04\n",
            "33  shipping_region     NV   2842  ...         0.011891  0.052894  3.416306e-05\n",
            "34  shipping_region     NY  12728  ...         0.059903 -0.189268  1.955047e-03\n",
            "35  shipping_region     OH   8321  ...         0.035274  0.027311  2.667369e-05\n",
            "36  shipping_region     OK   3651  ...         0.014001  0.215340  7.244398e-04\n",
            "37  shipping_region     OR   2751  ...         0.011917 -0.015507  2.843450e-06\n",
            "38  shipping_region     PA   8050  ...         0.034712 -0.006406  1.419953e-06\n",
            "39  shipping_region     RI    699  ...         0.003079 -0.049072  7.234614e-06\n",
            "40  shipping_region     SC   4466  ...         0.018671  0.054431  5.684918e-05\n",
            "41  shipping_region     SD    457  ...         0.002171 -0.209449  8.591089e-05\n",
            "42  shipping_region     TN   5275  ...         0.021870  0.070449  1.124601e-04\n",
            "43  shipping_region     TX  23418  ...         0.101638 -0.019388  3.783528e-05\n",
            "44  shipping_region     UT   1909  ...         0.008527 -0.077899  4.977853e-05\n",
            "45  shipping_region     VA   5460  ...         0.024447 -0.082964  1.614813e-04\n",
            "46  shipping_region     VT    246  ...         0.001020  0.069474  5.100394e-06\n",
            "47  shipping_region     WA   4301  ...         0.018671 -0.019777  7.230966e-06\n",
            "48  shipping_region     WI   3187  ...         0.013776 -0.011244  1.732016e-06\n",
            "49  shipping_region     WV   1280  ...         0.005327  0.063163  2.193841e-05\n",
            "50  shipping_region     WY    402  ...         0.001790 -0.071591  8.854064e-06\n",
            "\n",
            "[51 rows x 9 columns]\n",
            "Information value of is_upgraded_in_first_2_days is 0.001197\n",
            "                      Variable  Cutoff  ...       WoE        IV\n",
            "0  is_upgraded_in_first_2_days       0  ... -0.010611  0.000103\n",
            "1  is_upgraded_in_first_2_days       1  ...  0.112821  0.001094\n",
            "\n",
            "[2 rows x 9 columns]\n",
            "Information value of is_upcharged_in_first_2_days is 0.001429\n",
            "                       Variable  Cutoff  ...       WoE        IV\n",
            "0  is_upcharged_in_first_2_days       0  ... -0.006212  0.000038\n",
            "1  is_upcharged_in_first_2_days       1  ...  0.230030  0.001391\n",
            "\n",
            "[2 rows x 9 columns]\n",
            "Information value of age_tier is 0.001649\n",
            "   Variable       Cutoff       N  ...  % of Non-Events       WoE        IV\n",
            "0  age_tier     18 to 24    1116  ...         0.004921 -0.051304  0.000013\n",
            "1  age_tier     25 to 34    3202  ...         0.012271  0.216473  0.000642\n",
            "2  age_tier     35 to 44    2977  ...         0.011199  0.249601  0.000792\n",
            "3  age_tier  45 or above    2023  ...         0.008120  0.131726  0.000151\n",
            "4  age_tier     Below 18  223335  ...         0.963489 -0.007332  0.000052\n",
            "\n",
            "[5 rows x 9 columns]\n",
            "Information value of sex is 0.00515\n",
            "  Variable  Cutoff       N  ...  % of Non-Events       WoE        IV\n",
            "0      sex  female  180608  ...         0.791328 -0.038495  0.001150\n",
            "1      sex    male   52045  ...         0.208672  0.133836  0.003999\n",
            "\n",
            "[2 rows x 9 columns]\n",
            "Information value of income_tier is 0.002563\n",
            "      Variable       Cutoff       N  ...  % of Non-Events       WoE        IV\n",
            "0  income_tier     50 to 74   86878  ...         0.378412 -0.026559  0.000263\n",
            "1  income_tier  75 or above   14785  ...         0.068603 -0.158363  0.001591\n",
            "2  income_tier     below 49  130990  ...         0.552985  0.035469  0.000708\n",
            "\n",
            "[3 rows x 9 columns]\n",
            "Information value of minutes_bucket is 0.022624\n",
            "         Variable       Cutoff      N  ...  % of Non-Events       WoE            IV\n",
            "0  minutes_bucket  less than 2  72122  ...         0.332102 -0.141946  6.238207e-03\n",
            "1  minutes_bucket       2 to 3  48806  ...         0.219620 -0.093300  1.825307e-03\n",
            "2  minutes_bucket       3 to 4  30269  ...         0.130115 -0.000177  4.058996e-09\n",
            "3  minutes_bucket       4 to 8  43590  ...         0.178301  0.096240  1.733516e-03\n",
            "4  minutes_bucket      8 above  37866  ...         0.139861  0.281775  1.282695e-02\n",
            "\n",
            "[5 rows x 9 columns]\n",
            "Information value of minutes_from_registration_min is 0.005095\n",
            "                        Variable         Cutoff  ...       WoE        IV\n",
            "0  minutes_from_registration_min  (-0.001, 1.0]  ...  0.033523  0.000920\n",
            "1  minutes_from_registration_min  (1.0, 2878.0]  ... -0.152058  0.004175\n",
            "\n",
            "[2 rows x 9 columns]\n",
            "Information value of minutes_from_registration_max is 0.064202\n",
            "                        Variable           Cutoff  ...       WoE        IV\n",
            "0  minutes_from_registration_max    (-0.001, 4.0]  ...  0.330935  0.027584\n",
            "1  minutes_from_registration_max       (4.0, 8.0]  ...  0.221099  0.007684\n",
            "2  minutes_from_registration_max      (8.0, 24.0]  ... -0.069843  0.000927\n",
            "3  minutes_from_registration_max    (24.0, 455.0]  ... -0.241046  0.011436\n",
            "4  minutes_from_registration_max  (455.0, 2879.0]  ... -0.288718  0.016571\n",
            "\n",
            "[5 rows x 9 columns]\n",
            "Information value of minutes_from_registration_count is 0.038556\n",
            "                          Variable         Cutoff  ...       WoE        IV\n",
            "0  minutes_from_registration_count   (0.999, 3.0]  ...  0.209530  0.013692\n",
            "1  minutes_from_registration_count     (3.0, 4.0]  ...  0.245321  0.006993\n",
            "2  minutes_from_registration_count     (4.0, 6.0]  ... -0.097130  0.001643\n",
            "3  minutes_from_registration_count    (6.0, 11.0]  ... -0.245841  0.013018\n",
            "4  minutes_from_registration_count  (11.0, 307.0]  ... -0.133854  0.003210\n",
            "\n",
            "[5 rows x 9 columns]\n",
            "Information value of amount_of_events_mean is 0.005223\n",
            "                Variable          Cutoff  ...       WoE        IV\n",
            "0  amount_of_events_mean   (0.999, 1.25]  ...  0.115663  0.002695\n",
            "1  amount_of_events_mean   (1.25, 1.667]  ... -0.091741  0.001870\n",
            "2  amount_of_events_mean  (1.667, 2.125]  ... -0.052160  0.000483\n",
            "3  amount_of_events_mean   (2.125, 3.25]  ...  0.002378  0.000001\n",
            "4  amount_of_events_mean    (3.25, 94.0]  ...  0.029609  0.000174\n",
            "\n",
            "[5 rows x 9 columns]\n",
            "Information value of avg_time_btwn_visits is 0.05403\n",
            "               Variable            Cutoff  ...       WoE        IV\n",
            "0  avg_time_btwn_visits   (-0.001, 0.667]  ...  0.256651  0.013107\n",
            "1  avg_time_btwn_visits     (0.667, 1.25]  ...  0.222648  0.010190\n",
            "2  avg_time_btwn_visits     (1.25, 2.571]  ...  0.061114  0.000721\n",
            "3  avg_time_btwn_visits   (2.571, 35.488]  ... -0.243831  0.011840\n",
            "4  avg_time_btwn_visits  (35.488, 1437.5]  ... -0.302438  0.018172\n",
            "\n",
            "[5 rows x 9 columns]\n",
            "Information value of Browser_page_view is 0.040695\n",
            "            Variable          Cutoff  ...       WoE        IV\n",
            "0  Browser_page_view  (-0.001, 1.25]  ...  0.100036  0.008010\n",
            "1  Browser_page_view  (1.25, 109.25]  ... -0.408185  0.032685\n",
            "\n",
            "[2 rows x 9 columns]\n",
            "Information value of Browser (mobile)_page_view is 0.015351\n",
            "                     Variable          Cutoff  ...       WoE        IV\n",
            "0  Browser (mobile)_page_view   (-0.001, 1.0]  ...  0.147451  0.008762\n",
            "1  Browser (mobile)_page_view    (1.0, 1.667]  ... -0.104389  0.002335\n",
            "2  Browser (mobile)_page_view  (1.667, 2.286]  ... -0.140440  0.003596\n",
            "3  Browser (mobile)_page_view   (2.286, 89.0]  ... -0.057506  0.000659\n",
            "\n",
            "[4 rows x 9 columns]\n",
            "Information value of Robot_AddToQueue is 0.111003\n",
            "           Variable         Cutoff       N  ...  % of Non-Events       WoE        IV\n",
            "0  Robot_AddToQueue  (-0.001, 1.0]  159851  ...         0.763897 -0.223062  0.034068\n",
            "1  Robot_AddToQueue    (1.0, 2.25]   26279  ...         0.088683  0.434450  0.020964\n",
            "2  Robot_AddToQueue  (2.25, 133.0]   46523  ...         0.147419  0.535730  0.055971\n",
            "\n",
            "[3 rows x 9 columns]\n",
            "Information value of Robot_SubscriptionUpgrade is 0.013359\n",
            "                    Variable  Cutoff  ...       WoE        IV\n",
            "0  Robot_SubscriptionUpgrade     0.0  ... -0.027570  0.000718\n",
            "1  Robot_SubscriptionUpgrade     1.0  ...  0.479102  0.012437\n",
            "2  Robot_SubscriptionUpgrade     2.0  ...  2.386023  0.000204\n",
            "\n",
            "[3 rows x 9 columns]\n",
            "Information value of unknown_AddToQueue is 0.094567\n",
            "             Variable         Cutoff  ...       WoE        IV\n",
            "0  unknown_AddToQueue  (-0.001, 1.0]  ...  0.134098  0.015010\n",
            "1  unknown_AddToQueue   (1.0, 124.0]  ... -0.710774  0.079558\n",
            "\n",
            "[2 rows x 9 columns]\n",
            "Information value of unknown_SubscriptionUpgrade is 0.019037\n",
            "                      Variable  Cutoff  ...       WoE        IV\n",
            "0  unknown_SubscriptionUpgrade     0.0  ...  0.019346  0.000366\n",
            "1  unknown_SubscriptionUpgrade     1.0  ... -0.985574  0.018670\n",
            "\n",
            "[2 rows x 9 columns]\n",
            "Information value of Robot_RemoveFromQueue is 0.0\n",
            "                Variable          Cutoff       N  ...  % of Non-Events  WoE   IV\n",
            "0  Robot_RemoveFromQueue  (-0.001, 36.0]  232653  ...              1.0  0.0  0.0\n",
            "\n",
            "[1 rows x 9 columns]\n"
          ],
          "name": "stdout"
        }
      ]
    },
    {
      "cell_type": "code",
      "metadata": {
        "colab": {
          "base_uri": "https://localhost:8080/",
          "height": 762
        },
        "id": "mA3R7dhLfZqP",
        "outputId": "721b328b-551f-4491-8a8a-f2d5a24e9791"
      },
      "source": [
        "newdf.sort_values('IV',ascending=False).reset_index(drop=True)"
      ],
      "execution_count": null,
      "outputs": [
        {
          "output_type": "execute_result",
          "data": {
            "text/html": [
              "<div>\n",
              "<style scoped>\n",
              "    .dataframe tbody tr th:only-of-type {\n",
              "        vertical-align: middle;\n",
              "    }\n",
              "\n",
              "    .dataframe tbody tr th {\n",
              "        vertical-align: top;\n",
              "    }\n",
              "\n",
              "    .dataframe thead th {\n",
              "        text-align: right;\n",
              "    }\n",
              "</style>\n",
              "<table border=\"1\" class=\"dataframe\">\n",
              "  <thead>\n",
              "    <tr style=\"text-align: right;\">\n",
              "      <th></th>\n",
              "      <th>Variable</th>\n",
              "      <th>IV</th>\n",
              "    </tr>\n",
              "  </thead>\n",
              "  <tbody>\n",
              "    <tr>\n",
              "      <th>0</th>\n",
              "      <td>first_payment_type</td>\n",
              "      <td>0.424961</td>\n",
              "    </tr>\n",
              "    <tr>\n",
              "      <th>1</th>\n",
              "      <td>fragrance_family</td>\n",
              "      <td>0.138704</td>\n",
              "    </tr>\n",
              "    <tr>\n",
              "      <th>2</th>\n",
              "      <td>Robot_AddToQueue</td>\n",
              "      <td>0.111003</td>\n",
              "    </tr>\n",
              "    <tr>\n",
              "      <th>3</th>\n",
              "      <td>unknown_AddToQueue</td>\n",
              "      <td>0.094567</td>\n",
              "    </tr>\n",
              "    <tr>\n",
              "      <th>4</th>\n",
              "      <td>minutes_from_registration_max</td>\n",
              "      <td>0.064202</td>\n",
              "    </tr>\n",
              "    <tr>\n",
              "      <th>5</th>\n",
              "      <td>avg_time_btwn_visits</td>\n",
              "      <td>0.054030</td>\n",
              "    </tr>\n",
              "    <tr>\n",
              "      <th>6</th>\n",
              "      <td>Browser_page_view</td>\n",
              "      <td>0.040695</td>\n",
              "    </tr>\n",
              "    <tr>\n",
              "      <th>7</th>\n",
              "      <td>minutes_from_registration_count</td>\n",
              "      <td>0.038556</td>\n",
              "    </tr>\n",
              "    <tr>\n",
              "      <th>8</th>\n",
              "      <td>minutes_bucket</td>\n",
              "      <td>0.022624</td>\n",
              "    </tr>\n",
              "    <tr>\n",
              "      <th>9</th>\n",
              "      <td>unknown_SubscriptionUpgrade</td>\n",
              "      <td>0.019037</td>\n",
              "    </tr>\n",
              "    <tr>\n",
              "      <th>10</th>\n",
              "      <td>Browser (mobile)_page_view</td>\n",
              "      <td>0.015351</td>\n",
              "    </tr>\n",
              "    <tr>\n",
              "      <th>11</th>\n",
              "      <td>Robot_SubscriptionUpgrade</td>\n",
              "      <td>0.013359</td>\n",
              "    </tr>\n",
              "    <tr>\n",
              "      <th>12</th>\n",
              "      <td>shipping_region</td>\n",
              "      <td>0.008555</td>\n",
              "    </tr>\n",
              "    <tr>\n",
              "      <th>13</th>\n",
              "      <td>amount_of_events_mean</td>\n",
              "      <td>0.005223</td>\n",
              "    </tr>\n",
              "    <tr>\n",
              "      <th>14</th>\n",
              "      <td>sex</td>\n",
              "      <td>0.005150</td>\n",
              "    </tr>\n",
              "    <tr>\n",
              "      <th>15</th>\n",
              "      <td>minutes_from_registration_min</td>\n",
              "      <td>0.005095</td>\n",
              "    </tr>\n",
              "    <tr>\n",
              "      <th>16</th>\n",
              "      <td>income_tier</td>\n",
              "      <td>0.002563</td>\n",
              "    </tr>\n",
              "    <tr>\n",
              "      <th>17</th>\n",
              "      <td>age_tier</td>\n",
              "      <td>0.001649</td>\n",
              "    </tr>\n",
              "    <tr>\n",
              "      <th>18</th>\n",
              "      <td>is_upcharged_in_first_2_days</td>\n",
              "      <td>0.001429</td>\n",
              "    </tr>\n",
              "    <tr>\n",
              "      <th>19</th>\n",
              "      <td>channel</td>\n",
              "      <td>0.001391</td>\n",
              "    </tr>\n",
              "    <tr>\n",
              "      <th>20</th>\n",
              "      <td>first_month_price</td>\n",
              "      <td>0.001269</td>\n",
              "    </tr>\n",
              "    <tr>\n",
              "      <th>21</th>\n",
              "      <td>is_upgraded_in_first_2_days</td>\n",
              "      <td>0.001197</td>\n",
              "    </tr>\n",
              "    <tr>\n",
              "      <th>22</th>\n",
              "      <td>Robot_RemoveFromQueue</td>\n",
              "      <td>0.000000</td>\n",
              "    </tr>\n",
              "  </tbody>\n",
              "</table>\n",
              "</div>"
            ],
            "text/plain": [
              "                           Variable        IV\n",
              "0                first_payment_type  0.424961\n",
              "1                  fragrance_family  0.138704\n",
              "2                  Robot_AddToQueue  0.111003\n",
              "3                unknown_AddToQueue  0.094567\n",
              "4     minutes_from_registration_max  0.064202\n",
              "5              avg_time_btwn_visits  0.054030\n",
              "6                 Browser_page_view  0.040695\n",
              "7   minutes_from_registration_count  0.038556\n",
              "8                    minutes_bucket  0.022624\n",
              "9       unknown_SubscriptionUpgrade  0.019037\n",
              "10       Browser (mobile)_page_view  0.015351\n",
              "11        Robot_SubscriptionUpgrade  0.013359\n",
              "12                  shipping_region  0.008555\n",
              "13            amount_of_events_mean  0.005223\n",
              "14                              sex  0.005150\n",
              "15    minutes_from_registration_min  0.005095\n",
              "16                      income_tier  0.002563\n",
              "17                         age_tier  0.001649\n",
              "18     is_upcharged_in_first_2_days  0.001429\n",
              "19                          channel  0.001391\n",
              "20                first_month_price  0.001269\n",
              "21      is_upgraded_in_first_2_days  0.001197\n",
              "22            Robot_RemoveFromQueue  0.000000"
            ]
          },
          "metadata": {
            "tags": []
          },
          "execution_count": 292
        }
      ]
    },
    {
      "cell_type": "code",
      "metadata": {
        "id": "oSVqUA-pzSB6"
      },
      "source": [
        "#these columns have very insignificant information value hence these will be dropped\n",
        "l=['age_tier','is_upcharged_in_first_2_days','channel','first_month_price','is_upgraded_in_first_2_days','Robot_RemoveFromQueue']"
      ],
      "execution_count": null,
      "outputs": []
    },
    {
      "cell_type": "code",
      "metadata": {
        "colab": {
          "base_uri": "https://localhost:8080/",
          "height": 419
        },
        "id": "5TerPecLfZTE",
        "outputId": "31cd83e4-9952-4aeb-8ba3-79d92953d417"
      },
      "source": [
        "woedf.reset_index(inplace=True)\n",
        "woedf"
      ],
      "execution_count": null,
      "outputs": [
        {
          "output_type": "execute_result",
          "data": {
            "text/html": [
              "<div>\n",
              "<style scoped>\n",
              "    .dataframe tbody tr th:only-of-type {\n",
              "        vertical-align: middle;\n",
              "    }\n",
              "\n",
              "    .dataframe tbody tr th {\n",
              "        vertical-align: top;\n",
              "    }\n",
              "\n",
              "    .dataframe thead th {\n",
              "        text-align: right;\n",
              "    }\n",
              "</style>\n",
              "<table border=\"1\" class=\"dataframe\">\n",
              "  <thead>\n",
              "    <tr style=\"text-align: right;\">\n",
              "      <th></th>\n",
              "      <th>index</th>\n",
              "      <th>Variable</th>\n",
              "      <th>Cutoff</th>\n",
              "      <th>N</th>\n",
              "      <th>Events</th>\n",
              "      <th>% of Events</th>\n",
              "      <th>Non-Events</th>\n",
              "      <th>% of Non-Events</th>\n",
              "      <th>WoE</th>\n",
              "      <th>IV</th>\n",
              "    </tr>\n",
              "  </thead>\n",
              "  <tbody>\n",
              "    <tr>\n",
              "      <th>0</th>\n",
              "      <td>0</td>\n",
              "      <td>channel</td>\n",
              "      <td>Channel_1</td>\n",
              "      <td>53138</td>\n",
              "      <td>27611</td>\n",
              "      <td>0.235957</td>\n",
              "      <td>25527</td>\n",
              "      <td>0.220753</td>\n",
              "      <td>0.066606</td>\n",
              "      <td>0.001013</td>\n",
              "    </tr>\n",
              "    <tr>\n",
              "      <th>1</th>\n",
              "      <td>1</td>\n",
              "      <td>channel</td>\n",
              "      <td>Channel_2</td>\n",
              "      <td>13655</td>\n",
              "      <td>6921</td>\n",
              "      <td>0.059145</td>\n",
              "      <td>6734</td>\n",
              "      <td>0.058234</td>\n",
              "      <td>0.015519</td>\n",
              "      <td>0.000014</td>\n",
              "    </tr>\n",
              "    <tr>\n",
              "      <th>2</th>\n",
              "      <td>2</td>\n",
              "      <td>channel</td>\n",
              "      <td>Channel_3</td>\n",
              "      <td>165860</td>\n",
              "      <td>82485</td>\n",
              "      <td>0.704898</td>\n",
              "      <td>83375</td>\n",
              "      <td>0.721012</td>\n",
              "      <td>-0.022604</td>\n",
              "      <td>0.000364</td>\n",
              "    </tr>\n",
              "    <tr>\n",
              "      <th>3</th>\n",
              "      <td>0</td>\n",
              "      <td>first_month_price</td>\n",
              "      <td>11.21</td>\n",
              "      <td>66793</td>\n",
              "      <td>34532</td>\n",
              "      <td>0.295102</td>\n",
              "      <td>32261</td>\n",
              "      <td>0.278988</td>\n",
              "      <td>0.056155</td>\n",
              "      <td>0.000905</td>\n",
              "    </tr>\n",
              "    <tr>\n",
              "      <th>4</th>\n",
              "      <td>1</td>\n",
              "      <td>first_month_price</td>\n",
              "      <td>3.0</td>\n",
              "      <td>165860</td>\n",
              "      <td>82485</td>\n",
              "      <td>0.704898</td>\n",
              "      <td>83375</td>\n",
              "      <td>0.721012</td>\n",
              "      <td>-0.022604</td>\n",
              "      <td>0.000364</td>\n",
              "    </tr>\n",
              "    <tr>\n",
              "      <th>...</th>\n",
              "      <td>...</td>\n",
              "      <td>...</td>\n",
              "      <td>...</td>\n",
              "      <td>...</td>\n",
              "      <td>...</td>\n",
              "      <td>...</td>\n",
              "      <td>...</td>\n",
              "      <td>...</td>\n",
              "      <td>...</td>\n",
              "      <td>...</td>\n",
              "    </tr>\n",
              "    <tr>\n",
              "      <th>115</th>\n",
              "      <td>0</td>\n",
              "      <td>unknown_AddToQueue</td>\n",
              "      <td>(-0.001, 1.0]</td>\n",
              "      <td>194563</td>\n",
              "      <td>104369</td>\n",
              "      <td>0.891913</td>\n",
              "      <td>90194</td>\n",
              "      <td>0.779982</td>\n",
              "      <td>0.134098</td>\n",
              "      <td>0.015010</td>\n",
              "    </tr>\n",
              "    <tr>\n",
              "      <th>116</th>\n",
              "      <td>1</td>\n",
              "      <td>unknown_AddToQueue</td>\n",
              "      <td>(1.0, 124.0]</td>\n",
              "      <td>38090</td>\n",
              "      <td>12648</td>\n",
              "      <td>0.108087</td>\n",
              "      <td>25442</td>\n",
              "      <td>0.220018</td>\n",
              "      <td>-0.710774</td>\n",
              "      <td>0.079558</td>\n",
              "    </tr>\n",
              "    <tr>\n",
              "      <th>117</th>\n",
              "      <td>0</td>\n",
              "      <td>unknown_SubscriptionUpgrade</td>\n",
              "      <td>0</td>\n",
              "      <td>227838</td>\n",
              "      <td>115697</td>\n",
              "      <td>0.988720</td>\n",
              "      <td>112141</td>\n",
              "      <td>0.969776</td>\n",
              "      <td>0.019346</td>\n",
              "      <td>0.000366</td>\n",
              "    </tr>\n",
              "    <tr>\n",
              "      <th>118</th>\n",
              "      <td>1</td>\n",
              "      <td>unknown_SubscriptionUpgrade</td>\n",
              "      <td>1</td>\n",
              "      <td>4815</td>\n",
              "      <td>1320</td>\n",
              "      <td>0.011280</td>\n",
              "      <td>3495</td>\n",
              "      <td>0.030224</td>\n",
              "      <td>-0.985574</td>\n",
              "      <td>0.018670</td>\n",
              "    </tr>\n",
              "    <tr>\n",
              "      <th>119</th>\n",
              "      <td>0</td>\n",
              "      <td>Robot_RemoveFromQueue</td>\n",
              "      <td>(-0.001, 36.0]</td>\n",
              "      <td>232653</td>\n",
              "      <td>117017</td>\n",
              "      <td>1.000000</td>\n",
              "      <td>115636</td>\n",
              "      <td>1.000000</td>\n",
              "      <td>0.000000</td>\n",
              "      <td>0.000000</td>\n",
              "    </tr>\n",
              "  </tbody>\n",
              "</table>\n",
              "<p>120 rows × 10 columns</p>\n",
              "</div>"
            ],
            "text/plain": [
              "     index                     Variable  ...       WoE        IV\n",
              "0        0                      channel  ...  0.066606  0.001013\n",
              "1        1                      channel  ...  0.015519  0.000014\n",
              "2        2                      channel  ... -0.022604  0.000364\n",
              "3        0            first_month_price  ...  0.056155  0.000905\n",
              "4        1            first_month_price  ... -0.022604  0.000364\n",
              "..     ...                          ...  ...       ...       ...\n",
              "115      0           unknown_AddToQueue  ...  0.134098  0.015010\n",
              "116      1           unknown_AddToQueue  ... -0.710774  0.079558\n",
              "117      0  unknown_SubscriptionUpgrade  ...  0.019346  0.000366\n",
              "118      1  unknown_SubscriptionUpgrade  ... -0.985574  0.018670\n",
              "119      0        Robot_RemoveFromQueue  ...  0.000000  0.000000\n",
              "\n",
              "[120 rows x 10 columns]"
            ]
          },
          "metadata": {
            "tags": []
          },
          "execution_count": 294
        }
      ]
    },
    {
      "cell_type": "code",
      "metadata": {
        "colab": {
          "base_uri": "https://localhost:8080/",
          "height": 289
        },
        "id": "3oCLemVO34kJ",
        "outputId": "6eb25a21-c9d6-4426-84d6-ddffc29eef0b"
      },
      "source": [
        "data.head()"
      ],
      "execution_count": null,
      "outputs": [
        {
          "output_type": "execute_result",
          "data": {
            "text/html": [
              "<div>\n",
              "<style scoped>\n",
              "    .dataframe tbody tr th:only-of-type {\n",
              "        vertical-align: middle;\n",
              "    }\n",
              "\n",
              "    .dataframe tbody tr th {\n",
              "        vertical-align: top;\n",
              "    }\n",
              "\n",
              "    .dataframe thead th {\n",
              "        text-align: right;\n",
              "    }\n",
              "</style>\n",
              "<table border=\"1\" class=\"dataframe\">\n",
              "  <thead>\n",
              "    <tr style=\"text-align: right;\">\n",
              "      <th></th>\n",
              "      <th>channel</th>\n",
              "      <th>first_month_price</th>\n",
              "      <th>first_payment_type</th>\n",
              "      <th>fragrance_family</th>\n",
              "      <th>shipping_region</th>\n",
              "      <th>is_upgraded_in_first_2_days</th>\n",
              "      <th>is_upcharged_in_first_2_days</th>\n",
              "      <th>age_tier</th>\n",
              "      <th>sex</th>\n",
              "      <th>income_tier</th>\n",
              "      <th>minutes_bucket</th>\n",
              "      <th>minutes_from_registration_min_unbinned</th>\n",
              "      <th>minutes_from_registration_max_unbinned</th>\n",
              "      <th>minutes_from_registration_count_unbinned</th>\n",
              "      <th>amount_of_events_mean_unbinned</th>\n",
              "      <th>avg_time_btwn_visits_unbinned</th>\n",
              "      <th>Browser_page_view_unbinned</th>\n",
              "      <th>Browser (mobile)_page_view_unbinned</th>\n",
              "      <th>Robot_AddToQueue_unbinned</th>\n",
              "      <th>Robot_SubscriptionUpgrade</th>\n",
              "      <th>unknown_AddToQueue_unbinned</th>\n",
              "      <th>unknown_SubscriptionUpgrade</th>\n",
              "      <th>Robot_RemoveFromQueue_unbinned</th>\n",
              "      <th>target</th>\n",
              "      <th>minutes_from_registration_min</th>\n",
              "      <th>minutes_from_registration_max</th>\n",
              "      <th>minutes_from_registration_count</th>\n",
              "      <th>amount_of_events_mean</th>\n",
              "      <th>avg_time_btwn_visits</th>\n",
              "      <th>Browser_page_view</th>\n",
              "      <th>Browser (mobile)_page_view</th>\n",
              "      <th>Robot_AddToQueue</th>\n",
              "      <th>unknown_AddToQueue</th>\n",
              "      <th>Robot_RemoveFromQueue</th>\n",
              "    </tr>\n",
              "    <tr>\n",
              "      <th>subscription_hash</th>\n",
              "      <th></th>\n",
              "      <th></th>\n",
              "      <th></th>\n",
              "      <th></th>\n",
              "      <th></th>\n",
              "      <th></th>\n",
              "      <th></th>\n",
              "      <th></th>\n",
              "      <th></th>\n",
              "      <th></th>\n",
              "      <th></th>\n",
              "      <th></th>\n",
              "      <th></th>\n",
              "      <th></th>\n",
              "      <th></th>\n",
              "      <th></th>\n",
              "      <th></th>\n",
              "      <th></th>\n",
              "      <th></th>\n",
              "      <th></th>\n",
              "      <th></th>\n",
              "      <th></th>\n",
              "      <th></th>\n",
              "      <th></th>\n",
              "      <th></th>\n",
              "      <th></th>\n",
              "      <th></th>\n",
              "      <th></th>\n",
              "      <th></th>\n",
              "      <th></th>\n",
              "      <th></th>\n",
              "      <th></th>\n",
              "      <th></th>\n",
              "      <th></th>\n",
              "    </tr>\n",
              "  </thead>\n",
              "  <tbody>\n",
              "    <tr>\n",
              "      <th>6c6f36cd8eb42ef1d905578a6b0947f534d6132ae1c02517a04c2f141c197671</th>\n",
              "      <td>Channel_3</td>\n",
              "      <td>3.0</td>\n",
              "      <td>Card</td>\n",
              "      <td>0</td>\n",
              "      <td>FL</td>\n",
              "      <td>0</td>\n",
              "      <td>0</td>\n",
              "      <td>45 or above</td>\n",
              "      <td>female</td>\n",
              "      <td>below 49</td>\n",
              "      <td>2 to 3</td>\n",
              "      <td>0</td>\n",
              "      <td>632</td>\n",
              "      <td>6</td>\n",
              "      <td>2.333333</td>\n",
              "      <td>105.333333</td>\n",
              "      <td>0.000000</td>\n",
              "      <td>1.4</td>\n",
              "      <td>0.000000</td>\n",
              "      <td>0.0</td>\n",
              "      <td>7.000000</td>\n",
              "      <td>0.0</td>\n",
              "      <td>0.00</td>\n",
              "      <td>0</td>\n",
              "      <td>(-0.001, 1.0]</td>\n",
              "      <td>(455.0, 2879.0]</td>\n",
              "      <td>(4.0, 6.0]</td>\n",
              "      <td>(2.125, 3.25]</td>\n",
              "      <td>(35.488, 1437.5]</td>\n",
              "      <td>(-0.001, 1.25]</td>\n",
              "      <td>(1.0, 1.667]</td>\n",
              "      <td>(-0.001, 1.0]</td>\n",
              "      <td>(1.0, 124.0]</td>\n",
              "      <td>(-0.001, 36.0]</td>\n",
              "    </tr>\n",
              "    <tr>\n",
              "      <th>73831634ef6d3639546fbb58f7ea4288220d907600fc9b2e6a71cef6f1d570ba</th>\n",
              "      <td>Channel_1</td>\n",
              "      <td>11.21</td>\n",
              "      <td>Card</td>\n",
              "      <td>0</td>\n",
              "      <td>PA</td>\n",
              "      <td>0</td>\n",
              "      <td>1</td>\n",
              "      <td>Below 18</td>\n",
              "      <td>male</td>\n",
              "      <td>50 to 74</td>\n",
              "      <td>2 to 3</td>\n",
              "      <td>0</td>\n",
              "      <td>980</td>\n",
              "      <td>17</td>\n",
              "      <td>1.529412</td>\n",
              "      <td>57.647059</td>\n",
              "      <td>0.000000</td>\n",
              "      <td>2.2</td>\n",
              "      <td>1.333333</td>\n",
              "      <td>1.0</td>\n",
              "      <td>0.000000</td>\n",
              "      <td>0.0</td>\n",
              "      <td>1.25</td>\n",
              "      <td>0</td>\n",
              "      <td>(-0.001, 1.0]</td>\n",
              "      <td>(455.0, 2879.0]</td>\n",
              "      <td>(11.0, 307.0]</td>\n",
              "      <td>(1.25, 1.667]</td>\n",
              "      <td>(35.488, 1437.5]</td>\n",
              "      <td>(-0.001, 1.25]</td>\n",
              "      <td>(1.667, 2.286]</td>\n",
              "      <td>(1.0, 2.25]</td>\n",
              "      <td>(-0.001, 1.0]</td>\n",
              "      <td>(-0.001, 36.0]</td>\n",
              "    </tr>\n",
              "    <tr>\n",
              "      <th>75c705c4e9d81bb6037d2383118983f1f8009b6ae203d46868e930f356bc87b4</th>\n",
              "      <td>Channel_1</td>\n",
              "      <td>11.21</td>\n",
              "      <td>NaN</td>\n",
              "      <td>0</td>\n",
              "      <td>IN</td>\n",
              "      <td>0</td>\n",
              "      <td>1</td>\n",
              "      <td>Below 18</td>\n",
              "      <td>female</td>\n",
              "      <td>below 49</td>\n",
              "      <td>less than 2</td>\n",
              "      <td>0</td>\n",
              "      <td>41</td>\n",
              "      <td>10</td>\n",
              "      <td>2.000000</td>\n",
              "      <td>4.100000</td>\n",
              "      <td>2.000000</td>\n",
              "      <td>1.0</td>\n",
              "      <td>2.166667</td>\n",
              "      <td>0.0</td>\n",
              "      <td>0.000000</td>\n",
              "      <td>0.0</td>\n",
              "      <td>0.00</td>\n",
              "      <td>0</td>\n",
              "      <td>(-0.001, 1.0]</td>\n",
              "      <td>(24.0, 455.0]</td>\n",
              "      <td>(6.0, 11.0]</td>\n",
              "      <td>(1.667, 2.125]</td>\n",
              "      <td>(2.571, 35.488]</td>\n",
              "      <td>(1.25, 109.25]</td>\n",
              "      <td>(-0.001, 1.0]</td>\n",
              "      <td>(1.0, 2.25]</td>\n",
              "      <td>(-0.001, 1.0]</td>\n",
              "      <td>(-0.001, 36.0]</td>\n",
              "    </tr>\n",
              "    <tr>\n",
              "      <th>20bb89aa63a1bc2a2f0c6e435a1da9057e52b6eec113fbb4e5f55fec76ef87ef</th>\n",
              "      <td>Channel_3</td>\n",
              "      <td>3.0</td>\n",
              "      <td>Card</td>\n",
              "      <td>0</td>\n",
              "      <td>TX</td>\n",
              "      <td>0</td>\n",
              "      <td>0</td>\n",
              "      <td>Below 18</td>\n",
              "      <td>female</td>\n",
              "      <td>below 49</td>\n",
              "      <td>2 to 3</td>\n",
              "      <td>3</td>\n",
              "      <td>444</td>\n",
              "      <td>18</td>\n",
              "      <td>2.000000</td>\n",
              "      <td>24.500000</td>\n",
              "      <td>0.000000</td>\n",
              "      <td>1.8</td>\n",
              "      <td>0.000000</td>\n",
              "      <td>0.0</td>\n",
              "      <td>2.428571</td>\n",
              "      <td>1.0</td>\n",
              "      <td>0.00</td>\n",
              "      <td>0</td>\n",
              "      <td>(1.0, 2878.0]</td>\n",
              "      <td>(24.0, 455.0]</td>\n",
              "      <td>(11.0, 307.0]</td>\n",
              "      <td>(1.667, 2.125]</td>\n",
              "      <td>(2.571, 35.488]</td>\n",
              "      <td>(-0.001, 1.25]</td>\n",
              "      <td>(1.667, 2.286]</td>\n",
              "      <td>(-0.001, 1.0]</td>\n",
              "      <td>(1.0, 124.0]</td>\n",
              "      <td>(-0.001, 36.0]</td>\n",
              "    </tr>\n",
              "    <tr>\n",
              "      <th>160647d08b5d29ad4039b58f0c8f6515c29cdc7aae517e431ff46da3ed645dda</th>\n",
              "      <td>Channel_1</td>\n",
              "      <td>11.21</td>\n",
              "      <td>NaN</td>\n",
              "      <td>0</td>\n",
              "      <td>TX</td>\n",
              "      <td>1</td>\n",
              "      <td>0</td>\n",
              "      <td>Below 18</td>\n",
              "      <td>female</td>\n",
              "      <td>below 49</td>\n",
              "      <td>less than 2</td>\n",
              "      <td>0</td>\n",
              "      <td>18</td>\n",
              "      <td>21</td>\n",
              "      <td>1.809524</td>\n",
              "      <td>0.857143</td>\n",
              "      <td>1.090909</td>\n",
              "      <td>0.0</td>\n",
              "      <td>3.285714</td>\n",
              "      <td>1.0</td>\n",
              "      <td>0.000000</td>\n",
              "      <td>0.0</td>\n",
              "      <td>1.00</td>\n",
              "      <td>0</td>\n",
              "      <td>(-0.001, 1.0]</td>\n",
              "      <td>(8.0, 24.0]</td>\n",
              "      <td>(11.0, 307.0]</td>\n",
              "      <td>(1.667, 2.125]</td>\n",
              "      <td>(0.667, 1.25]</td>\n",
              "      <td>(-0.001, 1.25]</td>\n",
              "      <td>(-0.001, 1.0]</td>\n",
              "      <td>(2.25, 133.0]</td>\n",
              "      <td>(-0.001, 1.0]</td>\n",
              "      <td>(-0.001, 36.0]</td>\n",
              "    </tr>\n",
              "  </tbody>\n",
              "</table>\n",
              "</div>"
            ],
            "text/plain": [
              "                                                      channel  ... Robot_RemoveFromQueue\n",
              "subscription_hash                                              ...                      \n",
              "6c6f36cd8eb42ef1d905578a6b0947f534d6132ae1c0251...  Channel_3  ...        (-0.001, 36.0]\n",
              "73831634ef6d3639546fbb58f7ea4288220d907600fc9b2...  Channel_1  ...        (-0.001, 36.0]\n",
              "75c705c4e9d81bb6037d2383118983f1f8009b6ae203d46...  Channel_1  ...        (-0.001, 36.0]\n",
              "20bb89aa63a1bc2a2f0c6e435a1da9057e52b6eec113fbb...  Channel_3  ...        (-0.001, 36.0]\n",
              "160647d08b5d29ad4039b58f0c8f6515c29cdc7aae517e4...  Channel_1  ...        (-0.001, 36.0]\n",
              "\n",
              "[5 rows x 34 columns]"
            ]
          },
          "metadata": {
            "tags": []
          },
          "execution_count": 295
        }
      ]
    },
    {
      "cell_type": "code",
      "metadata": {
        "colab": {
          "base_uri": "https://localhost:8080/"
        },
        "id": "mx1T_pRVbFFY",
        "outputId": "9b57ef44-ff5f-4daf-f867-3298503b7220"
      },
      "source": [
        "data.columns"
      ],
      "execution_count": null,
      "outputs": [
        {
          "output_type": "execute_result",
          "data": {
            "text/plain": [
              "Index(['channel', 'first_month_price', 'first_payment_type',\n",
              "       'fragrance_family', 'shipping_region', 'is_upgraded_in_first_2_days',\n",
              "       'is_upcharged_in_first_2_days', 'age_tier', 'sex', 'income_tier',\n",
              "       'minutes_bucket', 'minutes_from_registration_min_unbinned',\n",
              "       'minutes_from_registration_max_unbinned',\n",
              "       'minutes_from_registration_count_unbinned',\n",
              "       'amount_of_events_mean_unbinned', 'avg_time_btwn_visits_unbinned',\n",
              "       'Browser_page_view_unbinned', 'Browser (mobile)_page_view_unbinned',\n",
              "       'Robot_AddToQueue_unbinned', 'Robot_SubscriptionUpgrade',\n",
              "       'unknown_AddToQueue_unbinned', 'unknown_SubscriptionUpgrade',\n",
              "       'Robot_RemoveFromQueue_unbinned', 'target',\n",
              "       'minutes_from_registration_min', 'minutes_from_registration_max',\n",
              "       'minutes_from_registration_count', 'amount_of_events_mean',\n",
              "       'avg_time_btwn_visits', 'Browser_page_view',\n",
              "       'Browser (mobile)_page_view', 'Robot_AddToQueue', 'unknown_AddToQueue',\n",
              "       'Robot_RemoveFromQueue'],\n",
              "      dtype='object')"
            ]
          },
          "metadata": {
            "tags": []
          },
          "execution_count": 296
        }
      ]
    },
    {
      "cell_type": "code",
      "metadata": {
        "id": "nlvJyOA408qg"
      },
      "source": [
        "df_woe=data.drop(['minutes_from_registration_min_unbinned',\n",
        "       'minutes_from_registration_max_unbinned',\n",
        "       'minutes_from_registration_count_unbinned',\n",
        "       'amount_of_events_mean_unbinned', 'avg_time_btwn_visits_unbinned',\n",
        "       'Browser_page_view_unbinned', 'Browser (mobile)_page_view_unbinned',\n",
        "       'Robot_AddToQueue_unbinned','unknown_AddToQueue_unbinned', 'Robot_RemoveFromQueue_unbinned']+l,axis=1)"
      ],
      "execution_count": null,
      "outputs": []
    },
    {
      "cell_type": "code",
      "metadata": {
        "colab": {
          "base_uri": "https://localhost:8080/"
        },
        "id": "W1wvtcFei5j8",
        "outputId": "3147d0cd-4657-41c8-ae86-427f0dcc60d7"
      },
      "source": [
        "# df_woe=users.set_index('subscription_hash').drop(['minutes_from_registration','is_upgraded_in_first_2_days','channel','first_month_price'],axis=1)\n",
        "df_woe.shape"
      ],
      "execution_count": null,
      "outputs": [
        {
          "output_type": "execute_result",
          "data": {
            "text/plain": [
              "(232653, 18)"
            ]
          },
          "metadata": {
            "tags": []
          },
          "execution_count": 298
        }
      ]
    },
    {
      "cell_type": "code",
      "metadata": {
        "id": "Flj-YAKN-SRE"
      },
      "source": [
        "for col in df_woe.columns:\n",
        "  df_woe=df_woe.join(woedf[woedf['Variable']==col][['Cutoff','WoE']].set_index('Cutoff'),on=col,rsuffix='_{}'.format(col))"
      ],
      "execution_count": null,
      "outputs": []
    },
    {
      "cell_type": "code",
      "metadata": {
        "colab": {
          "base_uri": "https://localhost:8080/"
        },
        "id": "ytZV8ZIIAno8",
        "outputId": "ae9df0bc-7b51-4afa-b240-70e4f6bce3b6"
      },
      "source": [
        "df_woe.columns"
      ],
      "execution_count": null,
      "outputs": [
        {
          "output_type": "execute_result",
          "data": {
            "text/plain": [
              "Index(['first_payment_type', 'fragrance_family', 'shipping_region', 'sex',\n",
              "       'income_tier', 'minutes_bucket', 'Robot_SubscriptionUpgrade',\n",
              "       'unknown_SubscriptionUpgrade', 'target',\n",
              "       'minutes_from_registration_min', 'minutes_from_registration_max',\n",
              "       'minutes_from_registration_count', 'amount_of_events_mean',\n",
              "       'avg_time_btwn_visits', 'Browser_page_view',\n",
              "       'Browser (mobile)_page_view', 'Robot_AddToQueue', 'unknown_AddToQueue',\n",
              "       'WoE', 'WoE_fragrance_family', 'WoE_shipping_region', 'WoE_sex',\n",
              "       'WoE_income_tier', 'WoE_minutes_bucket',\n",
              "       'WoE_Robot_SubscriptionUpgrade', 'WoE_unknown_SubscriptionUpgrade',\n",
              "       'WoE_target', 'WoE_minutes_from_registration_min',\n",
              "       'WoE_minutes_from_registration_max',\n",
              "       'WoE_minutes_from_registration_count', 'WoE_amount_of_events_mean',\n",
              "       'WoE_avg_time_btwn_visits', 'WoE_Browser_page_view',\n",
              "       'WoE_Browser (mobile)_page_view', 'WoE_Robot_AddToQueue',\n",
              "       'WoE_unknown_AddToQueue'],\n",
              "      dtype='object')"
            ]
          },
          "metadata": {
            "tags": []
          },
          "execution_count": 301
        }
      ]
    },
    {
      "cell_type": "code",
      "metadata": {
        "id": "ycMgu1iWAwGJ"
      },
      "source": [
        "df_woe=df_woe[['WoE', 'WoE_fragrance_family', 'WoE_shipping_region', 'WoE_sex',\n",
        "       'WoE_income_tier', 'WoE_minutes_bucket',\n",
        "       'WoE_Robot_SubscriptionUpgrade', 'WoE_unknown_SubscriptionUpgrade',\n",
        "       'WoE_minutes_from_registration_min',\n",
        "       'WoE_minutes_from_registration_max',\n",
        "       'WoE_minutes_from_registration_count', 'WoE_amount_of_events_mean',\n",
        "       'WoE_avg_time_btwn_visits', 'WoE_Browser_page_view',\n",
        "       'WoE_Browser (mobile)_page_view', 'WoE_Robot_AddToQueue',\n",
        "       'WoE_unknown_AddToQueue','target']]"
      ],
      "execution_count": null,
      "outputs": []
    },
    {
      "cell_type": "code",
      "metadata": {
        "colab": {
          "base_uri": "https://localhost:8080/",
          "height": 272
        },
        "id": "M0GlohWzMwP1",
        "outputId": "b26608fa-28f7-4d98-9056-d7937fd2ce17"
      },
      "source": [
        "df_woe.head()"
      ],
      "execution_count": null,
      "outputs": [
        {
          "output_type": "execute_result",
          "data": {
            "text/html": [
              "<div>\n",
              "<style scoped>\n",
              "    .dataframe tbody tr th:only-of-type {\n",
              "        vertical-align: middle;\n",
              "    }\n",
              "\n",
              "    .dataframe tbody tr th {\n",
              "        vertical-align: top;\n",
              "    }\n",
              "\n",
              "    .dataframe thead th {\n",
              "        text-align: right;\n",
              "    }\n",
              "</style>\n",
              "<table border=\"1\" class=\"dataframe\">\n",
              "  <thead>\n",
              "    <tr style=\"text-align: right;\">\n",
              "      <th></th>\n",
              "      <th>WoE</th>\n",
              "      <th>WoE_fragrance_family</th>\n",
              "      <th>WoE_shipping_region</th>\n",
              "      <th>WoE_sex</th>\n",
              "      <th>WoE_income_tier</th>\n",
              "      <th>WoE_minutes_bucket</th>\n",
              "      <th>WoE_Robot_SubscriptionUpgrade</th>\n",
              "      <th>WoE_unknown_SubscriptionUpgrade</th>\n",
              "      <th>WoE_minutes_from_registration_min</th>\n",
              "      <th>WoE_minutes_from_registration_max</th>\n",
              "      <th>WoE_minutes_from_registration_count</th>\n",
              "      <th>WoE_amount_of_events_mean</th>\n",
              "      <th>WoE_avg_time_btwn_visits</th>\n",
              "      <th>WoE_Browser_page_view</th>\n",
              "      <th>WoE_Browser (mobile)_page_view</th>\n",
              "      <th>WoE_Robot_AddToQueue</th>\n",
              "      <th>WoE_unknown_AddToQueue</th>\n",
              "      <th>target</th>\n",
              "    </tr>\n",
              "    <tr>\n",
              "      <th>subscription_hash</th>\n",
              "      <th></th>\n",
              "      <th></th>\n",
              "      <th></th>\n",
              "      <th></th>\n",
              "      <th></th>\n",
              "      <th></th>\n",
              "      <th></th>\n",
              "      <th></th>\n",
              "      <th></th>\n",
              "      <th></th>\n",
              "      <th></th>\n",
              "      <th></th>\n",
              "      <th></th>\n",
              "      <th></th>\n",
              "      <th></th>\n",
              "      <th></th>\n",
              "      <th></th>\n",
              "      <th></th>\n",
              "    </tr>\n",
              "  </thead>\n",
              "  <tbody>\n",
              "    <tr>\n",
              "      <th>6c6f36cd8eb42ef1d905578a6b0947f534d6132ae1c02517a04c2f141c197671</th>\n",
              "      <td>-0.405905</td>\n",
              "      <td>-0.106821</td>\n",
              "      <td>-0.084756</td>\n",
              "      <td>-0.038495</td>\n",
              "      <td>0.035469</td>\n",
              "      <td>-0.093300</td>\n",
              "      <td>-0.027570</td>\n",
              "      <td>0.019346</td>\n",
              "      <td>0.033523</td>\n",
              "      <td>-0.288718</td>\n",
              "      <td>-0.097130</td>\n",
              "      <td>0.002378</td>\n",
              "      <td>-0.302438</td>\n",
              "      <td>0.100036</td>\n",
              "      <td>-0.104389</td>\n",
              "      <td>-0.223062</td>\n",
              "      <td>-0.710774</td>\n",
              "      <td>0</td>\n",
              "    </tr>\n",
              "    <tr>\n",
              "      <th>73831634ef6d3639546fbb58f7ea4288220d907600fc9b2e6a71cef6f1d570ba</th>\n",
              "      <td>-0.405905</td>\n",
              "      <td>-0.106821</td>\n",
              "      <td>-0.006406</td>\n",
              "      <td>0.133836</td>\n",
              "      <td>-0.026559</td>\n",
              "      <td>-0.093300</td>\n",
              "      <td>0.479102</td>\n",
              "      <td>0.019346</td>\n",
              "      <td>0.033523</td>\n",
              "      <td>-0.288718</td>\n",
              "      <td>-0.133854</td>\n",
              "      <td>-0.091741</td>\n",
              "      <td>-0.302438</td>\n",
              "      <td>0.100036</td>\n",
              "      <td>-0.140440</td>\n",
              "      <td>0.434450</td>\n",
              "      <td>0.134098</td>\n",
              "      <td>0</td>\n",
              "    </tr>\n",
              "    <tr>\n",
              "      <th>75c705c4e9d81bb6037d2383118983f1f8009b6ae203d46868e930f356bc87b4</th>\n",
              "      <td>0.840617</td>\n",
              "      <td>-0.106821</td>\n",
              "      <td>0.001578</td>\n",
              "      <td>-0.038495</td>\n",
              "      <td>0.035469</td>\n",
              "      <td>-0.141946</td>\n",
              "      <td>-0.027570</td>\n",
              "      <td>0.019346</td>\n",
              "      <td>0.033523</td>\n",
              "      <td>-0.241046</td>\n",
              "      <td>-0.245841</td>\n",
              "      <td>-0.052160</td>\n",
              "      <td>-0.243831</td>\n",
              "      <td>-0.408185</td>\n",
              "      <td>0.147451</td>\n",
              "      <td>0.434450</td>\n",
              "      <td>0.134098</td>\n",
              "      <td>0</td>\n",
              "    </tr>\n",
              "    <tr>\n",
              "      <th>20bb89aa63a1bc2a2f0c6e435a1da9057e52b6eec113fbb4e5f55fec76ef87ef</th>\n",
              "      <td>-0.405905</td>\n",
              "      <td>-0.106821</td>\n",
              "      <td>-0.019388</td>\n",
              "      <td>-0.038495</td>\n",
              "      <td>0.035469</td>\n",
              "      <td>-0.093300</td>\n",
              "      <td>-0.027570</td>\n",
              "      <td>-0.985574</td>\n",
              "      <td>-0.152058</td>\n",
              "      <td>-0.241046</td>\n",
              "      <td>-0.133854</td>\n",
              "      <td>-0.052160</td>\n",
              "      <td>-0.243831</td>\n",
              "      <td>0.100036</td>\n",
              "      <td>-0.140440</td>\n",
              "      <td>-0.223062</td>\n",
              "      <td>-0.710774</td>\n",
              "      <td>0</td>\n",
              "    </tr>\n",
              "    <tr>\n",
              "      <th>160647d08b5d29ad4039b58f0c8f6515c29cdc7aae517e431ff46da3ed645dda</th>\n",
              "      <td>0.840617</td>\n",
              "      <td>-0.106821</td>\n",
              "      <td>-0.019388</td>\n",
              "      <td>-0.038495</td>\n",
              "      <td>0.035469</td>\n",
              "      <td>-0.141946</td>\n",
              "      <td>0.479102</td>\n",
              "      <td>0.019346</td>\n",
              "      <td>0.033523</td>\n",
              "      <td>-0.069843</td>\n",
              "      <td>-0.133854</td>\n",
              "      <td>-0.052160</td>\n",
              "      <td>0.222648</td>\n",
              "      <td>0.100036</td>\n",
              "      <td>0.147451</td>\n",
              "      <td>0.535730</td>\n",
              "      <td>0.134098</td>\n",
              "      <td>0</td>\n",
              "    </tr>\n",
              "  </tbody>\n",
              "</table>\n",
              "</div>"
            ],
            "text/plain": [
              "                                                         WoE  ...  target\n",
              "subscription_hash                                             ...        \n",
              "6c6f36cd8eb42ef1d905578a6b0947f534d6132ae1c0251... -0.405905  ...       0\n",
              "73831634ef6d3639546fbb58f7ea4288220d907600fc9b2... -0.405905  ...       0\n",
              "75c705c4e9d81bb6037d2383118983f1f8009b6ae203d46...  0.840617  ...       0\n",
              "20bb89aa63a1bc2a2f0c6e435a1da9057e52b6eec113fbb... -0.405905  ...       0\n",
              "160647d08b5d29ad4039b58f0c8f6515c29cdc7aae517e4...  0.840617  ...       0\n",
              "\n",
              "[5 rows x 18 columns]"
            ]
          },
          "metadata": {
            "tags": []
          },
          "execution_count": 306
        }
      ]
    },
    {
      "cell_type": "code",
      "metadata": {
        "colab": {
          "base_uri": "https://localhost:8080/"
        },
        "id": "z887zFlnND6l",
        "outputId": "621eb052-b41f-4ece-b4ac-7936d99ab71c"
      },
      "source": [
        "df_woe.isna().sum()/len(df_woe)"
      ],
      "execution_count": null,
      "outputs": [
        {
          "output_type": "execute_result",
          "data": {
            "text/plain": [
              "WoE                                    0.0\n",
              "WoE_fragrance_family                   0.0\n",
              "WoE_shipping_region                    0.0\n",
              "WoE_sex                                0.0\n",
              "WoE_income_tier                        0.0\n",
              "WoE_minutes_bucket                     0.0\n",
              "WoE_Robot_SubscriptionUpgrade          0.0\n",
              "WoE_unknown_SubscriptionUpgrade        0.0\n",
              "WoE_minutes_from_registration_min      0.0\n",
              "WoE_minutes_from_registration_max      0.0\n",
              "WoE_minutes_from_registration_count    0.0\n",
              "WoE_amount_of_events_mean              0.0\n",
              "WoE_avg_time_btwn_visits               0.0\n",
              "WoE_Browser_page_view                  0.0\n",
              "WoE_Browser (mobile)_page_view         0.0\n",
              "WoE_Robot_AddToQueue                   0.0\n",
              "WoE_unknown_AddToQueue                 0.0\n",
              "target                                 0.0\n",
              "dtype: float64"
            ]
          },
          "metadata": {
            "tags": []
          },
          "execution_count": 307
        }
      ]
    },
    {
      "cell_type": "code",
      "metadata": {
        "colab": {
          "base_uri": "https://localhost:8080/",
          "height": 334
        },
        "id": "VXcBrKuwNYjX",
        "outputId": "ec2361ce-2e75-49d5-da2d-89d9fdf63a3b"
      },
      "source": [
        "df_woe.describe()"
      ],
      "execution_count": null,
      "outputs": [
        {
          "output_type": "execute_result",
          "data": {
            "text/html": [
              "<div>\n",
              "<style scoped>\n",
              "    .dataframe tbody tr th:only-of-type {\n",
              "        vertical-align: middle;\n",
              "    }\n",
              "\n",
              "    .dataframe tbody tr th {\n",
              "        vertical-align: top;\n",
              "    }\n",
              "\n",
              "    .dataframe thead th {\n",
              "        text-align: right;\n",
              "    }\n",
              "</style>\n",
              "<table border=\"1\" class=\"dataframe\">\n",
              "  <thead>\n",
              "    <tr style=\"text-align: right;\">\n",
              "      <th></th>\n",
              "      <th>WoE</th>\n",
              "      <th>WoE_fragrance_family</th>\n",
              "      <th>WoE_shipping_region</th>\n",
              "      <th>WoE_sex</th>\n",
              "      <th>WoE_income_tier</th>\n",
              "      <th>WoE_minutes_bucket</th>\n",
              "      <th>WoE_Robot_SubscriptionUpgrade</th>\n",
              "      <th>WoE_unknown_SubscriptionUpgrade</th>\n",
              "      <th>WoE_minutes_from_registration_min</th>\n",
              "      <th>WoE_minutes_from_registration_max</th>\n",
              "      <th>WoE_minutes_from_registration_count</th>\n",
              "      <th>WoE_amount_of_events_mean</th>\n",
              "      <th>WoE_avg_time_btwn_visits</th>\n",
              "      <th>WoE_Browser_page_view</th>\n",
              "      <th>WoE_Browser (mobile)_page_view</th>\n",
              "      <th>WoE_Robot_AddToQueue</th>\n",
              "      <th>WoE_unknown_AddToQueue</th>\n",
              "      <th>target</th>\n",
              "    </tr>\n",
              "  </thead>\n",
              "  <tbody>\n",
              "    <tr>\n",
              "      <th>count</th>\n",
              "      <td>232653.000000</td>\n",
              "      <td>232653.000000</td>\n",
              "      <td>232653.000000</td>\n",
              "      <td>232653.000000</td>\n",
              "      <td>232653.000000</td>\n",
              "      <td>232653.000000</td>\n",
              "      <td>232653.000000</td>\n",
              "      <td>232653.000000</td>\n",
              "      <td>232653.000000</td>\n",
              "      <td>232653.000000</td>\n",
              "      <td>232653.000000</td>\n",
              "      <td>232653.000000</td>\n",
              "      <td>232653.000000</td>\n",
              "      <td>232653.000000</td>\n",
              "      <td>232653.000000</td>\n",
              "      <td>232653.000000</td>\n",
              "      <td>232653.000000</td>\n",
              "      <td>232653.000000</td>\n",
              "    </tr>\n",
              "    <tr>\n",
              "      <th>mean</th>\n",
              "      <td>0.009631</td>\n",
              "      <td>0.013969</td>\n",
              "      <td>0.000019</td>\n",
              "      <td>0.000056</td>\n",
              "      <td>-0.000012</td>\n",
              "      <td>0.000294</td>\n",
              "      <td>0.000570</td>\n",
              "      <td>-0.001452</td>\n",
              "      <td>-0.000035</td>\n",
              "      <td>0.000458</td>\n",
              "      <td>0.000181</td>\n",
              "      <td>0.000026</td>\n",
              "      <td>-0.000065</td>\n",
              "      <td>-0.000921</td>\n",
              "      <td>0.000088</td>\n",
              "      <td>0.002940</td>\n",
              "      <td>-0.004225</td>\n",
              "      <td>0.502968</td>\n",
              "    </tr>\n",
              "    <tr>\n",
              "      <th>std</th>\n",
              "      <td>0.668106</td>\n",
              "      <td>0.396159</td>\n",
              "      <td>0.092604</td>\n",
              "      <td>0.071815</td>\n",
              "      <td>0.050651</td>\n",
              "      <td>0.150765</td>\n",
              "      <td>0.117061</td>\n",
              "      <td>0.143065</td>\n",
              "      <td>0.071426</td>\n",
              "      <td>0.254293</td>\n",
              "      <td>0.196763</td>\n",
              "      <td>0.072302</td>\n",
              "      <td>0.233095</td>\n",
              "      <td>0.202772</td>\n",
              "      <td>0.124003</td>\n",
              "      <td>0.335991</td>\n",
              "      <td>0.312621</td>\n",
              "      <td>0.499992</td>\n",
              "    </tr>\n",
              "    <tr>\n",
              "      <th>min</th>\n",
              "      <td>-0.839715</td>\n",
              "      <td>-0.106821</td>\n",
              "      <td>-0.209449</td>\n",
              "      <td>-0.038495</td>\n",
              "      <td>-0.158363</td>\n",
              "      <td>-0.141946</td>\n",
              "      <td>-0.027570</td>\n",
              "      <td>-0.985574</td>\n",
              "      <td>-0.152058</td>\n",
              "      <td>-0.288718</td>\n",
              "      <td>-0.245841</td>\n",
              "      <td>-0.091741</td>\n",
              "      <td>-0.302438</td>\n",
              "      <td>-0.408185</td>\n",
              "      <td>-0.140440</td>\n",
              "      <td>-0.223062</td>\n",
              "      <td>-0.710774</td>\n",
              "      <td>0.000000</td>\n",
              "    </tr>\n",
              "    <tr>\n",
              "      <th>25%</th>\n",
              "      <td>-0.405905</td>\n",
              "      <td>-0.106821</td>\n",
              "      <td>-0.049072</td>\n",
              "      <td>-0.038495</td>\n",
              "      <td>-0.026559</td>\n",
              "      <td>-0.141946</td>\n",
              "      <td>-0.027570</td>\n",
              "      <td>0.019346</td>\n",
              "      <td>0.033523</td>\n",
              "      <td>-0.241046</td>\n",
              "      <td>-0.133854</td>\n",
              "      <td>-0.052160</td>\n",
              "      <td>-0.243831</td>\n",
              "      <td>0.100036</td>\n",
              "      <td>-0.104389</td>\n",
              "      <td>-0.223062</td>\n",
              "      <td>0.134098</td>\n",
              "      <td>0.000000</td>\n",
              "    </tr>\n",
              "    <tr>\n",
              "      <th>50%</th>\n",
              "      <td>-0.405905</td>\n",
              "      <td>-0.106821</td>\n",
              "      <td>0.006201</td>\n",
              "      <td>-0.038495</td>\n",
              "      <td>0.035469</td>\n",
              "      <td>-0.093300</td>\n",
              "      <td>-0.027570</td>\n",
              "      <td>0.019346</td>\n",
              "      <td>0.033523</td>\n",
              "      <td>-0.069843</td>\n",
              "      <td>-0.097130</td>\n",
              "      <td>0.002378</td>\n",
              "      <td>0.061114</td>\n",
              "      <td>0.100036</td>\n",
              "      <td>-0.057506</td>\n",
              "      <td>-0.223062</td>\n",
              "      <td>0.134098</td>\n",
              "      <td>1.000000</td>\n",
              "    </tr>\n",
              "    <tr>\n",
              "      <th>75%</th>\n",
              "      <td>0.840617</td>\n",
              "      <td>-0.106821</td>\n",
              "      <td>0.052894</td>\n",
              "      <td>-0.038495</td>\n",
              "      <td>0.035469</td>\n",
              "      <td>0.096240</td>\n",
              "      <td>-0.027570</td>\n",
              "      <td>0.019346</td>\n",
              "      <td>0.033523</td>\n",
              "      <td>0.330935</td>\n",
              "      <td>0.209530</td>\n",
              "      <td>0.029609</td>\n",
              "      <td>0.222648</td>\n",
              "      <td>0.100036</td>\n",
              "      <td>0.147451</td>\n",
              "      <td>0.434450</td>\n",
              "      <td>0.134098</td>\n",
              "      <td>1.000000</td>\n",
              "    </tr>\n",
              "    <tr>\n",
              "      <th>max</th>\n",
              "      <td>0.840617</td>\n",
              "      <td>1.313264</td>\n",
              "      <td>0.357634</td>\n",
              "      <td>0.133836</td>\n",
              "      <td>0.035469</td>\n",
              "      <td>0.281775</td>\n",
              "      <td>2.386023</td>\n",
              "      <td>0.019346</td>\n",
              "      <td>0.033523</td>\n",
              "      <td>0.330935</td>\n",
              "      <td>0.245321</td>\n",
              "      <td>0.115663</td>\n",
              "      <td>0.256651</td>\n",
              "      <td>0.100036</td>\n",
              "      <td>0.147451</td>\n",
              "      <td>0.535730</td>\n",
              "      <td>0.134098</td>\n",
              "      <td>1.000000</td>\n",
              "    </tr>\n",
              "  </tbody>\n",
              "</table>\n",
              "</div>"
            ],
            "text/plain": [
              "                 WoE  ...         target\n",
              "count  232653.000000  ...  232653.000000\n",
              "mean        0.009631  ...       0.502968\n",
              "std         0.668106  ...       0.499992\n",
              "min        -0.839715  ...       0.000000\n",
              "25%        -0.405905  ...       0.000000\n",
              "50%        -0.405905  ...       1.000000\n",
              "75%         0.840617  ...       1.000000\n",
              "max         0.840617  ...       1.000000\n",
              "\n",
              "[8 rows x 18 columns]"
            ]
          },
          "metadata": {
            "tags": []
          },
          "execution_count": 308
        }
      ]
    },
    {
      "cell_type": "code",
      "metadata": {
        "id": "4Ozgwi-hQB24"
      },
      "source": [
        "y=df_woe['target']"
      ],
      "execution_count": null,
      "outputs": []
    },
    {
      "cell_type": "code",
      "metadata": {
        "id": "iQvIiLcIXRej"
      },
      "source": [
        "x_train, x_test, y_train, y_test = train_test_split(df_woe.drop('target',axis=1), y, test_size=0.3, random_state=23)"
      ],
      "execution_count": null,
      "outputs": []
    },
    {
      "cell_type": "code",
      "metadata": {
        "colab": {
          "base_uri": "https://localhost:8080/"
        },
        "id": "1W02eEn_je83",
        "outputId": "35ae9fea-a983-40bb-fb82-cfbeddea5697"
      },
      "source": [
        "y_train.value_counts()/len(y_train)"
      ],
      "execution_count": null,
      "outputs": [
        {
          "output_type": "execute_result",
          "data": {
            "text/plain": [
              "1    0.503503\n",
              "0    0.496497\n",
              "Name: target, dtype: float64"
            ]
          },
          "metadata": {
            "tags": []
          },
          "execution_count": 311
        }
      ]
    },
    {
      "cell_type": "code",
      "metadata": {
        "colab": {
          "base_uri": "https://localhost:8080/"
        },
        "id": "CT7JOoaajUox",
        "outputId": "b6a564e4-2f67-452d-8cf5-201b93936d05"
      },
      "source": [
        "y_test.value_counts()/len(y_test)"
      ],
      "execution_count": null,
      "outputs": [
        {
          "output_type": "execute_result",
          "data": {
            "text/plain": [
              "1    0.501719\n",
              "0    0.498281\n",
              "Name: target, dtype: float64"
            ]
          },
          "metadata": {
            "tags": []
          },
          "execution_count": 312
        }
      ]
    },
    {
      "cell_type": "code",
      "metadata": {
        "id": "2GoybJk_XV3W"
      },
      "source": [
        "sgd=SGDClassifier(loss='log',random_state=4,penalty='elasticnet')"
      ],
      "execution_count": null,
      "outputs": []
    },
    {
      "cell_type": "code",
      "metadata": {
        "id": "dL8Bq52zYqLL"
      },
      "source": [
        "#using gaussian process minimize, a bayesian optimization technique for tuning l1_ratio\n",
        "space=[Real(10**-5, 10**0, \"log-uniform\", name='alpha'),Real(0,1,name='l1_ratio')]\n",
        "\n",
        "@use_named_args(space)\n",
        "def evaluate_model(**params):\n",
        "\t\n",
        "\tsgd.set_params(**params)\n",
        "\t# calculate 5-fold cross validation\n",
        "\tresult = cross_val_score(sgd, x_train, y_train, cv=5, n_jobs=-1, scoring='roc_auc')\n",
        "\t# calculate the mean of the scores\n",
        "\testimate = np.mean(result)\n",
        "\treturn 1.0 - estimate"
      ],
      "execution_count": null,
      "outputs": []
    },
    {
      "cell_type": "code",
      "metadata": {
        "id": "KOGBC7aTYqLM"
      },
      "source": [
        "res_gp = gp_minimize(evaluate_model, space, n_calls=50, random_state=0)\n",
        "\n"
      ],
      "execution_count": null,
      "outputs": []
    },
    {
      "cell_type": "code",
      "metadata": {
        "colab": {
          "base_uri": "https://localhost:8080/"
        },
        "id": "KLanQSG7fMyi",
        "outputId": "f067b3e2-dda0-424a-8d0c-d290c74302ff"
      },
      "source": [
        "print(\"Best score=%.4f\" % res_gp.fun)\n",
        "print(\"Best parameters:\")\n",
        "print(\"alpha:\",res_gp.x[0])\n",
        "print(\"l1_ratio:\",res_gp.x[1])"
      ],
      "execution_count": null,
      "outputs": [
        {
          "output_type": "stream",
          "text": [
            "Best score=0.2761\n",
            "Best parameters:\n",
            "alpha: 0.00016384078810752578\n",
            "l1_ratio: 0.0\n"
          ],
          "name": "stdout"
        }
      ]
    },
    {
      "cell_type": "code",
      "metadata": {
        "colab": {
          "base_uri": "https://localhost:8080/"
        },
        "id": "LwyYUFItfbbP",
        "outputId": "59206916-edf7-437d-b6a0-b8260f3fa29a"
      },
      "source": [
        "sgd=SGDClassifier(loss='log',random_state=4,penalty='l2',alpha=0.00016)\n",
        "sgd.fit(x_train,y_train)"
      ],
      "execution_count": null,
      "outputs": [
        {
          "output_type": "execute_result",
          "data": {
            "text/plain": [
              "SGDClassifier(alpha=0.00016, average=False, class_weight=None,\n",
              "              early_stopping=False, epsilon=0.1, eta0=0.0, fit_intercept=True,\n",
              "              l1_ratio=0.15, learning_rate='optimal', loss='log', max_iter=1000,\n",
              "              n_iter_no_change=5, n_jobs=None, penalty='l2', power_t=0.5,\n",
              "              random_state=4, shuffle=True, tol=0.001, validation_fraction=0.1,\n",
              "              verbose=0, warm_start=False)"
            ]
          },
          "metadata": {
            "tags": []
          },
          "execution_count": 317
        }
      ]
    },
    {
      "cell_type": "code",
      "metadata": {
        "colab": {
          "base_uri": "https://localhost:8080/",
          "height": 1000
        },
        "id": "BanXn948Zrnd",
        "outputId": "3be1de18-4748-45c4-8de3-2f6d31574922"
      },
      "source": [
        "print(\"Evaluation metrics for train set\")\n",
        "evaluate(sgd,x_train,y_train,'train')\n",
        "print(\"Evaluation metrics for test set\")\n",
        "evaluate(sgd,x_test,y_test,'test')\n",
        "#plt.title(\"Precision Recall curve for test set\")"
      ],
      "execution_count": null,
      "outputs": [
        {
          "output_type": "stream",
          "text": [
            "Evaluation metrics for train set\n",
            "Accuracy 0.6650128640463719\n",
            "F1 score 0.6602056641732014\n",
            "AUC ROC 0.7240149492577422\n",
            "[[0.68395211 0.31604789]\n",
            " [0.35366285 0.64633715]]\n",
            "Evaluation metrics for test set\n",
            "Accuracy 0.6617284658146598\n",
            "F1 score 0.6550766983199414\n",
            "AUC ROC 0.7197293092295663\n",
            "[[0.68336305 0.31663695]\n",
            " [0.35975784 0.64024216]]\n"
          ],
          "name": "stdout"
        },
        {
          "output_type": "display_data",
          "data": {
            "image/png": "[encoded data removed]",
            "text/plain": [
              "<Figure size 432x288 with 1 Axes>"
            ]
          },
          "metadata": {
            "tags": [],
            "needs_background": "light"
          }
        },
        {
          "output_type": "display_data",
          "data": {
            "image/png": "[encoded data removed]",
            "text/plain": [
              "<Figure size 432x288 with 2 Axes>"
            ]
          },
          "metadata": {
            "tags": [],
            "needs_background": "light"
          }
        },
        {
          "output_type": "display_data",
          "data": {
            "image/png": "[encoded data removed]",
            "text/plain": [
              "<Figure size 432x288 with 1 Axes>"
            ]
          },
          "metadata": {
            "tags": [],
            "needs_background": "light"
          }
        },
        {
          "output_type": "display_data",
          "data": {
            "image/png": "[encoded data removed]",
            "text/plain": [
              "<Figure size 432x288 with 2 Axes>"
            ]
          },
          "metadata": {
            "tags": [],
            "needs_background": "light"
          }
        }
      ]
    },
    {
      "cell_type": "code",
      "metadata": {
        "colab": {
          "base_uri": "https://localhost:8080/"
        },
        "id": "j4Pr0S2zlpuh",
        "outputId": "febd18cb-2eec-4325-cc1b-3ca93f106fce"
      },
      "source": [
        "print(pd.DataFrame(np.transpose(sgd.coef_),index=x_train.columns).sort_values(0,ascending=False))"
      ],
      "execution_count": null,
      "outputs": [
        {
          "output_type": "stream",
          "text": [
            "                                            0\n",
            "WoE_Browser_page_view                1.108646\n",
            "WoE_minutes_bucket                   1.082368\n",
            "WoE_shipping_region                  0.955069\n",
            "WoE                                  0.841718\n",
            "WoE_sex                              0.822980\n",
            "WoE_minutes_from_registration_count  0.764112\n",
            "WoE_Browser (mobile)_page_view       0.616639\n",
            "WoE_minutes_from_registration_max    0.564582\n",
            "WoE_Robot_AddToQueue                 0.553038\n",
            "WoE_fragrance_family                 0.446930\n",
            "WoE_Robot_SubscriptionUpgrade        0.391641\n",
            "WoE_avg_time_btwn_visits             0.364205\n",
            "WoE_minutes_from_registration_min    0.213242\n",
            "WoE_unknown_AddToQueue               0.193399\n",
            "WoE_unknown_SubscriptionUpgrade      0.126634\n",
            "WoE_income_tier                      0.103640\n",
            "WoE_amount_of_events_mean           -0.656754\n"
          ],
          "name": "stdout"
        }
      ]
    },
    {
      "cell_type": "code",
      "metadata": {
        "colab": {
          "base_uri": "https://localhost:8080/"
        },
        "id": "o0jwC_FagKGe",
        "outputId": "8b4acf47-7b96-4cf0-d198-0dc3217c6714"
      },
      "source": [
        "df_woe.columns"
      ],
      "execution_count": null,
      "outputs": [
        {
          "output_type": "execute_result",
          "data": {
            "text/plain": [
              "Index(['WoE', 'WoE_fragrance_family', 'WoE_shipping_region', 'WoE_sex',\n",
              "       'WoE_income_tier', 'WoE_minutes_bucket',\n",
              "       'WoE_Robot_SubscriptionUpgrade', 'WoE_unknown_SubscriptionUpgrade',\n",
              "       'WoE_minutes_from_registration_min',\n",
              "       'WoE_minutes_from_registration_max',\n",
              "       'WoE_minutes_from_registration_count', 'WoE_amount_of_events_mean',\n",
              "       'WoE_avg_time_btwn_visits', 'WoE_Browser_page_view',\n",
              "       'WoE_Browser (mobile)_page_view', 'WoE_Robot_AddToQueue',\n",
              "       'WoE_unknown_AddToQueue', 'target'],\n",
              "      dtype='object')"
            ]
          },
          "metadata": {
            "tags": []
          },
          "execution_count": 324
        }
      ]
    },
    {
      "cell_type": "code",
      "metadata": {
        "id": "ITD13UUufmVY"
      },
      "source": [
        "x_train,x_test,y_train,y_test=train_test_split(df_woe.drop(['target'],axis=1),y,test_size=0.2,random_state=4)\n",
        "x_train,x_val,y_train,y_val=train_test_split(x_train,y_train,test_size=0.25,random_state=4)"
      ],
      "execution_count": null,
      "outputs": []
    },
    {
      "cell_type": "code",
      "metadata": {
        "colab": {
          "base_uri": "https://localhost:8080/"
        },
        "id": "rscCUoeBSY8K",
        "outputId": "c5d8620d-3d5e-4141-bbec-382ec8c12e90"
      },
      "source": [
        "# cat_features=['channel','first_month_price','first_payment_type','fragrance_family','shipping_region',\n",
        "#               'minutes_bucket','is_upgraded_in_first_2_days','is_upcharged_in_first_2_days','age_tier','sex','income_tier']\n",
        "model = CatBoostClassifier(learning_rate=0.03,depth=6,class_weights=[1,1.014],\n",
        "                           eval_metric='AUC',verbose=100,early_stopping_rounds=200)\n",
        "# Fit model\n",
        "model.fit(x_train, y_train,eval_set=(x_val,y_val))\n"
      ],
      "execution_count": null,
      "outputs": [
        {
          "output_type": "stream",
          "text": [
            "0:\ttest: 0.7103862\tbest: 0.7103862 (0)\ttotal: 65.2ms\tremaining: 1m 5s\n",
            "100:\ttest: 0.7275081\tbest: 0.7275081 (100)\ttotal: 6.46s\tremaining: 57.5s\n",
            "200:\ttest: 0.7308512\tbest: 0.7308512 (200)\ttotal: 12.9s\tremaining: 51.2s\n",
            "300:\ttest: 0.7322195\tbest: 0.7322195 (300)\ttotal: 19.3s\tremaining: 44.8s\n",
            "400:\ttest: 0.7331231\tbest: 0.7331231 (400)\ttotal: 25.7s\tremaining: 38.3s\n",
            "500:\ttest: 0.7336269\tbest: 0.7336269 (500)\ttotal: 32.2s\tremaining: 32s\n",
            "600:\ttest: 0.7339328\tbest: 0.7339358 (599)\ttotal: 38.6s\tremaining: 25.6s\n",
            "700:\ttest: 0.7340585\tbest: 0.7340630 (698)\ttotal: 45s\tremaining: 19.2s\n",
            "800:\ttest: 0.7341063\tbest: 0.7341064 (715)\ttotal: 51.5s\tremaining: 12.8s\n",
            "900:\ttest: 0.7341715\tbest: 0.7341721 (897)\ttotal: 58s\tremaining: 6.37s\n",
            "999:\ttest: 0.7341283\tbest: 0.7341832 (925)\ttotal: 1m 4s\tremaining: 0us\n",
            "\n",
            "bestTest = 0.7341831546\n",
            "bestIteration = 925\n",
            "\n",
            "Shrink model to first 926 iterations.\n"
          ],
          "name": "stdout"
        },
        {
          "output_type": "execute_result",
          "data": {
            "text/plain": [
              "<catboost.core.CatBoostClassifier at 0x7f0505ff4810>"
            ]
          },
          "metadata": {
            "tags": []
          },
          "execution_count": 347
        }
      ]
    },
    {
      "cell_type": "code",
      "metadata": {
        "colab": {
          "base_uri": "https://localhost:8080/",
          "height": 1000
        },
        "id": "ZZyxc8n8SYw9",
        "outputId": "664b430e-5fbc-4e90-f2ad-fcbb7002a6ef"
      },
      "source": [
        "print(\"Evaluation metrics for train set\")\n",
        "evaluate(model,x_train,y_train,'train')\n",
        "\n",
        "print(\"Evaluate metrics for test set\")\n",
        "evaluate(model,x_test,y_test,'test')"
      ],
      "execution_count": null,
      "outputs": [
        {
          "output_type": "stream",
          "text": [
            "Evaluation metrics for train set\n",
            "Accuracy 0.6809751345000752\n",
            "F1 score 0.6788817502037049\n",
            "AUC ROC 0.7471105271118919\n",
            "[[0.69349058 0.30650942]\n",
            " [0.33132573 0.66867427]]\n",
            "Evaluate metrics for test set\n",
            "Accuracy 0.6713803700758634\n",
            "F1 score 0.6693766351704901\n",
            "AUC ROC 0.7328040951231198\n",
            "[[0.67952919 0.32047081]\n",
            " [0.33671852 0.66328148]]\n"
          ],
          "name": "stdout"
        },
        {
          "output_type": "display_data",
          "data": {
            "image/png": "[encoded data removed]",
            "text/plain": [
              "<Figure size 432x288 with 1 Axes>"
            ]
          },
          "metadata": {
            "tags": [],
            "needs_background": "light"
          }
        },
        {
          "output_type": "display_data",
          "data": {
            "image/png": "[encoded data removed]",
            "text/plain": [
              "<Figure size 432x288 with 2 Axes>"
            ]
          },
          "metadata": {
            "tags": [],
            "needs_background": "light"
          }
        },
        {
          "output_type": "display_data",
          "data": {
            "image/png": "[encoded data removed]",
            "text/plain": [
              "<Figure size 432x288 with 1 Axes>"
            ]
          },
          "metadata": {
            "tags": [],
            "needs_background": "light"
          }
        },
        {
          "output_type": "display_data",
          "data": {
            "image/png": "[encoded data removed]",
            "text/plain": [
              "<Figure size 432x288 with 2 Axes>"
            ]
          },
          "metadata": {
            "tags": [],
            "needs_background": "light"
          }
        }
      ]
    },
    {
      "cell_type": "markdown",
      "metadata": {
        "id": "vrKxb1tQgX2Y"
      },
      "source": [
        "CatBoost without WOE and without filling missing values"
      ]
    },
    {
      "cell_type": "code",
      "metadata": {
        "colab": {
          "base_uri": "https://localhost:8080/",
          "height": 241
        },
        "id": "5QjVTvG6gXWd",
        "outputId": "19c8951f-547b-47bf-9467-3dcff3dc9c11"
      },
      "source": [
        "users.head()"
      ],
      "execution_count": null,
      "outputs": [
        {
          "output_type": "execute_result",
          "data": {
            "text/html": [
              "<div>\n",
              "<style scoped>\n",
              "    .dataframe tbody tr th:only-of-type {\n",
              "        vertical-align: middle;\n",
              "    }\n",
              "\n",
              "    .dataframe tbody tr th {\n",
              "        vertical-align: top;\n",
              "    }\n",
              "\n",
              "    .dataframe thead th {\n",
              "        text-align: right;\n",
              "    }\n",
              "</style>\n",
              "<table border=\"1\" class=\"dataframe\">\n",
              "  <thead>\n",
              "    <tr style=\"text-align: right;\">\n",
              "      <th></th>\n",
              "      <th>subscription_hash</th>\n",
              "      <th>channel</th>\n",
              "      <th>first_month_price</th>\n",
              "      <th>first_payment_type</th>\n",
              "      <th>fragrance_family</th>\n",
              "      <th>shipping_region</th>\n",
              "      <th>is_upgraded_in_first_2_days</th>\n",
              "      <th>is_upcharged_in_first_2_days</th>\n",
              "      <th>minutes_from_registration</th>\n",
              "      <th>age_tier</th>\n",
              "      <th>sex</th>\n",
              "      <th>income_tier</th>\n",
              "      <th>target</th>\n",
              "      <th>minutes_bucket</th>\n",
              "    </tr>\n",
              "  </thead>\n",
              "  <tbody>\n",
              "    <tr>\n",
              "      <th>0</th>\n",
              "      <td>6c6f36cd8eb42ef1d905578a6b0947f534d6132ae1c025...</td>\n",
              "      <td>Channel_3</td>\n",
              "      <td>3.0</td>\n",
              "      <td>Card</td>\n",
              "      <td>0</td>\n",
              "      <td>FL</td>\n",
              "      <td>0</td>\n",
              "      <td>0</td>\n",
              "      <td>3</td>\n",
              "      <td>45 or above</td>\n",
              "      <td>female</td>\n",
              "      <td>below 49</td>\n",
              "      <td>0</td>\n",
              "      <td>2 to 3</td>\n",
              "    </tr>\n",
              "    <tr>\n",
              "      <th>1</th>\n",
              "      <td>73831634ef6d3639546fbb58f7ea4288220d907600fc9b...</td>\n",
              "      <td>Channel_1</td>\n",
              "      <td>11.21</td>\n",
              "      <td>Card</td>\n",
              "      <td>0</td>\n",
              "      <td>PA</td>\n",
              "      <td>0</td>\n",
              "      <td>1</td>\n",
              "      <td>3</td>\n",
              "      <td>Below 18</td>\n",
              "      <td>male</td>\n",
              "      <td>50 to 74</td>\n",
              "      <td>0</td>\n",
              "      <td>2 to 3</td>\n",
              "    </tr>\n",
              "    <tr>\n",
              "      <th>2</th>\n",
              "      <td>75c705c4e9d81bb6037d2383118983f1f8009b6ae203d4...</td>\n",
              "      <td>Channel_1</td>\n",
              "      <td>11.21</td>\n",
              "      <td>NaN</td>\n",
              "      <td>0</td>\n",
              "      <td>IN</td>\n",
              "      <td>0</td>\n",
              "      <td>1</td>\n",
              "      <td>2</td>\n",
              "      <td>Below 18</td>\n",
              "      <td>female</td>\n",
              "      <td>below 49</td>\n",
              "      <td>0</td>\n",
              "      <td>less than 2</td>\n",
              "    </tr>\n",
              "    <tr>\n",
              "      <th>3</th>\n",
              "      <td>20bb89aa63a1bc2a2f0c6e435a1da9057e52b6eec113fb...</td>\n",
              "      <td>Channel_3</td>\n",
              "      <td>3.0</td>\n",
              "      <td>Card</td>\n",
              "      <td>0</td>\n",
              "      <td>TX</td>\n",
              "      <td>0</td>\n",
              "      <td>0</td>\n",
              "      <td>3</td>\n",
              "      <td>Below 18</td>\n",
              "      <td>female</td>\n",
              "      <td>below 49</td>\n",
              "      <td>0</td>\n",
              "      <td>2 to 3</td>\n",
              "    </tr>\n",
              "    <tr>\n",
              "      <th>4</th>\n",
              "      <td>160647d08b5d29ad4039b58f0c8f6515c29cdc7aae517e...</td>\n",
              "      <td>Channel_1</td>\n",
              "      <td>11.21</td>\n",
              "      <td>NaN</td>\n",
              "      <td>0</td>\n",
              "      <td>TX</td>\n",
              "      <td>1</td>\n",
              "      <td>0</td>\n",
              "      <td>2</td>\n",
              "      <td>Below 18</td>\n",
              "      <td>female</td>\n",
              "      <td>below 49</td>\n",
              "      <td>0</td>\n",
              "      <td>less than 2</td>\n",
              "    </tr>\n",
              "  </tbody>\n",
              "</table>\n",
              "</div>"
            ],
            "text/plain": [
              "                                   subscription_hash  ... minutes_bucket\n",
              "0  6c6f36cd8eb42ef1d905578a6b0947f534d6132ae1c025...  ...         2 to 3\n",
              "1  73831634ef6d3639546fbb58f7ea4288220d907600fc9b...  ...         2 to 3\n",
              "2  75c705c4e9d81bb6037d2383118983f1f8009b6ae203d4...  ...    less than 2\n",
              "3  20bb89aa63a1bc2a2f0c6e435a1da9057e52b6eec113fb...  ...         2 to 3\n",
              "4  160647d08b5d29ad4039b58f0c8f6515c29cdc7aae517e...  ...    less than 2\n",
              "\n",
              "[5 rows x 14 columns]"
            ]
          },
          "metadata": {
            "tags": []
          },
          "execution_count": 329
        }
      ]
    },
    {
      "cell_type": "code",
      "metadata": {
        "colab": {
          "base_uri": "https://localhost:8080/",
          "height": 272
        },
        "id": "VM-lBMJOgqiR",
        "outputId": "834c0973-ad0a-45ec-d6c4-026342ab97ed"
      },
      "source": [
        "user_features.head()"
      ],
      "execution_count": null,
      "outputs": [
        {
          "output_type": "execute_result",
          "data": {
            "text/html": [
              "<div>\n",
              "<style scoped>\n",
              "    .dataframe tbody tr th:only-of-type {\n",
              "        vertical-align: middle;\n",
              "    }\n",
              "\n",
              "    .dataframe tbody tr th {\n",
              "        vertical-align: top;\n",
              "    }\n",
              "\n",
              "    .dataframe thead th {\n",
              "        text-align: right;\n",
              "    }\n",
              "</style>\n",
              "<table border=\"1\" class=\"dataframe\">\n",
              "  <thead>\n",
              "    <tr style=\"text-align: right;\">\n",
              "      <th></th>\n",
              "      <th>minutes_from_registration_min</th>\n",
              "      <th>minutes_from_registration_max</th>\n",
              "      <th>minutes_from_registration_count</th>\n",
              "      <th>amount_of_events_mean</th>\n",
              "      <th>avg_time_btwn_visits</th>\n",
              "      <th>Browser_page_view</th>\n",
              "      <th>Browser (mobile)_page_view</th>\n",
              "      <th>Robot_AddToQueue</th>\n",
              "      <th>Robot_SubscriptionUpgrade</th>\n",
              "      <th>unknown_AddToQueue</th>\n",
              "      <th>unknown_SubscriptionUpgrade</th>\n",
              "      <th>Robot_RemoveFromQueue</th>\n",
              "      <th>target</th>\n",
              "    </tr>\n",
              "    <tr>\n",
              "      <th>subscription_hash</th>\n",
              "      <th></th>\n",
              "      <th></th>\n",
              "      <th></th>\n",
              "      <th></th>\n",
              "      <th></th>\n",
              "      <th></th>\n",
              "      <th></th>\n",
              "      <th></th>\n",
              "      <th></th>\n",
              "      <th></th>\n",
              "      <th></th>\n",
              "      <th></th>\n",
              "      <th></th>\n",
              "    </tr>\n",
              "  </thead>\n",
              "  <tbody>\n",
              "    <tr>\n",
              "      <th>0000379144f24717a8d124d798008a0e672d93d4a95841fd2ea3d52f2a72353c</th>\n",
              "      <td>0</td>\n",
              "      <td>13</td>\n",
              "      <td>6</td>\n",
              "      <td>7.333333</td>\n",
              "      <td>2.166667</td>\n",
              "      <td>0.0</td>\n",
              "      <td>6.200000</td>\n",
              "      <td>13.0</td>\n",
              "      <td>0.0</td>\n",
              "      <td>0.0</td>\n",
              "      <td>0.0</td>\n",
              "      <td>0.0</td>\n",
              "      <td>0</td>\n",
              "    </tr>\n",
              "    <tr>\n",
              "      <th>000138229cb3f3f4d53b14b4e5412cd082139a2370f8d61fd0b503cf139813ce</th>\n",
              "      <td>2</td>\n",
              "      <td>2</td>\n",
              "      <td>1</td>\n",
              "      <td>1.000000</td>\n",
              "      <td>0.000000</td>\n",
              "      <td>0.0</td>\n",
              "      <td>0.000000</td>\n",
              "      <td>0.0</td>\n",
              "      <td>0.0</td>\n",
              "      <td>1.0</td>\n",
              "      <td>0.0</td>\n",
              "      <td>0.0</td>\n",
              "      <td>0</td>\n",
              "    </tr>\n",
              "    <tr>\n",
              "      <th>00019fc35318081da6ad1ba08964bc86bae2bc325ce40317d2dcf368988eebea</th>\n",
              "      <td>0</td>\n",
              "      <td>1548</td>\n",
              "      <td>16</td>\n",
              "      <td>2.375000</td>\n",
              "      <td>96.750000</td>\n",
              "      <td>0.0</td>\n",
              "      <td>2.466667</td>\n",
              "      <td>0.0</td>\n",
              "      <td>0.0</td>\n",
              "      <td>1.0</td>\n",
              "      <td>0.0</td>\n",
              "      <td>0.0</td>\n",
              "      <td>0</td>\n",
              "    </tr>\n",
              "    <tr>\n",
              "      <th>00021d1beb2af3ad7557e188534c41954079fdbd692f328a5251835336ce4a6d</th>\n",
              "      <td>0</td>\n",
              "      <td>4</td>\n",
              "      <td>6</td>\n",
              "      <td>8.000000</td>\n",
              "      <td>0.666667</td>\n",
              "      <td>0.0</td>\n",
              "      <td>1.250000</td>\n",
              "      <td>0.0</td>\n",
              "      <td>0.0</td>\n",
              "      <td>21.5</td>\n",
              "      <td>0.0</td>\n",
              "      <td>0.0</td>\n",
              "      <td>0</td>\n",
              "    </tr>\n",
              "    <tr>\n",
              "      <th>00023bb62ee97828d0750f473e555a22040e3cec5a087ccb2ece2825b39450c7</th>\n",
              "      <td>0</td>\n",
              "      <td>2025</td>\n",
              "      <td>57</td>\n",
              "      <td>1.456140</td>\n",
              "      <td>35.526316</td>\n",
              "      <td>0.0</td>\n",
              "      <td>1.509804</td>\n",
              "      <td>0.0</td>\n",
              "      <td>0.0</td>\n",
              "      <td>1.0</td>\n",
              "      <td>0.0</td>\n",
              "      <td>0.0</td>\n",
              "      <td>0</td>\n",
              "    </tr>\n",
              "  </tbody>\n",
              "</table>\n",
              "</div>"
            ],
            "text/plain": [
              "                                                    minutes_from_registration_min  ...  target\n",
              "subscription_hash                                                                  ...        \n",
              "0000379144f24717a8d124d798008a0e672d93d4a95841f...                              0  ...       0\n",
              "000138229cb3f3f4d53b14b4e5412cd082139a2370f8d61...                              2  ...       0\n",
              "00019fc35318081da6ad1ba08964bc86bae2bc325ce4031...                              0  ...       0\n",
              "00021d1beb2af3ad7557e188534c41954079fdbd692f328...                              0  ...       0\n",
              "00023bb62ee97828d0750f473e555a22040e3cec5a087cc...                              0  ...       0\n",
              "\n",
              "[5 rows x 13 columns]"
            ]
          },
          "metadata": {
            "tags": []
          },
          "execution_count": 330
        }
      ]
    },
    {
      "cell_type": "code",
      "metadata": {
        "colab": {
          "base_uri": "https://localhost:8080/"
        },
        "id": "xcNz8P9ig4sd",
        "outputId": "9f53ed08-7568-4ee5-8f9e-ebafe89e8d1d"
      },
      "source": [
        "data=users.drop(['minutes_from_registration'],axis=1).join(user_features.drop('target',axis=1),on='subscription_hash',how='inner')\n",
        "data.columns\n"
      ],
      "execution_count": null,
      "outputs": [
        {
          "output_type": "execute_result",
          "data": {
            "text/plain": [
              "Index(['subscription_hash', 'channel', 'first_month_price',\n",
              "       'first_payment_type', 'fragrance_family', 'shipping_region',\n",
              "       'is_upgraded_in_first_2_days', 'is_upcharged_in_first_2_days',\n",
              "       'age_tier', 'sex', 'income_tier', 'target', 'minutes_bucket',\n",
              "       'minutes_from_registration_min', 'minutes_from_registration_max',\n",
              "       'minutes_from_registration_count', 'amount_of_events_mean',\n",
              "       'avg_time_btwn_visits', 'Browser_page_view',\n",
              "       'Browser (mobile)_page_view', 'Robot_AddToQueue',\n",
              "       'Robot_SubscriptionUpgrade', 'unknown_AddToQueue',\n",
              "       'unknown_SubscriptionUpgrade', 'Robot_RemoveFromQueue'],\n",
              "      dtype='object')"
            ]
          },
          "metadata": {
            "tags": []
          },
          "execution_count": 332
        }
      ]
    },
    {
      "cell_type": "code",
      "metadata": {
        "id": "61TWoug1iAyk"
      },
      "source": [
        "y=data['target']\n",
        "x_train,x_test,y_train,y_test=train_test_split(data.drop(['subscription_hash','target'],axis=1),y,test_size=0.2,random_state=4)\n",
        "#x_train,x_val,y_train,y_val=train_test_split(x_train,y_train,test_size=0.25,random_state=4)"
      ],
      "execution_count": null,
      "outputs": []
    },
    {
      "cell_type": "markdown",
      "metadata": {
        "id": "-lmevN96nuSV"
      },
      "source": [
        "Best Model yet"
      ]
    },
    {
      "cell_type": "code",
      "metadata": {
        "colab": {
          "base_uri": "https://localhost:8080/"
        },
        "id": "yEGnGshkhNZD",
        "outputId": "c30c28da-ca5c-44d7-be0d-c91d19ca9190"
      },
      "source": [
        "cat_features=['channel', 'first_month_price',\n",
        "       'first_payment_type', 'fragrance_family', 'shipping_region',\n",
        "       'is_upgraded_in_first_2_days', 'is_upcharged_in_first_2_days',\n",
        "       'age_tier', 'sex', 'income_tier', 'minutes_bucket']\n",
        "model = CatBoostClassifier(learning_rate=0.03,depth=6,cat_features=cat_features,class_weights=[1,1.014],\n",
        "                           eval_metric='AUC',verbose=100,early_stopping_rounds=200, min_data_in_leaf=0.005)\n",
        "# Fit model\n",
        "model.fit(x_train, y_train,eval_set=(x_val,y_val))\n"
      ],
      "execution_count": null,
      "outputs": [
        {
          "output_type": "stream",
          "text": [
            "0:\ttest: 0.7257678\tbest: 0.7257678 (0)\ttotal: 480ms\tremaining: 7m 59s\n",
            "100:\ttest: 0.7517824\tbest: 0.7517824 (100)\ttotal: 33s\tremaining: 4m 53s\n",
            "200:\ttest: 0.7572399\tbest: 0.7572399 (200)\ttotal: 1m 5s\tremaining: 4m 20s\n",
            "300:\ttest: 0.7600820\tbest: 0.7600820 (300)\ttotal: 1m 38s\tremaining: 3m 48s\n",
            "400:\ttest: 0.7622781\tbest: 0.7622781 (400)\ttotal: 2m 12s\tremaining: 3m 17s\n",
            "500:\ttest: 0.7647697\tbest: 0.7647697 (500)\ttotal: 2m 47s\tremaining: 2m 46s\n",
            "600:\ttest: 0.7665817\tbest: 0.7665817 (600)\ttotal: 3m 21s\tremaining: 2m 13s\n",
            "700:\ttest: 0.7680490\tbest: 0.7680490 (700)\ttotal: 3m 56s\tremaining: 1m 40s\n",
            "800:\ttest: 0.7693317\tbest: 0.7693317 (800)\ttotal: 4m 31s\tremaining: 1m 7s\n",
            "900:\ttest: 0.7704352\tbest: 0.7704352 (900)\ttotal: 5m 6s\tremaining: 33.7s\n",
            "999:\ttest: 0.7713244\tbest: 0.7713244 (999)\ttotal: 5m 40s\tremaining: 0us\n",
            "\n",
            "bestTest = 0.7713243805\n",
            "bestIteration = 999\n",
            "\n"
          ],
          "name": "stdout"
        },
        {
          "output_type": "execute_result",
          "data": {
            "text/plain": [
              "<catboost.core.CatBoostClassifier at 0x7f0504ffcbd0>"
            ]
          },
          "metadata": {
            "tags": []
          },
          "execution_count": 344
        }
      ]
    },
    {
      "cell_type": "code",
      "metadata": {
        "colab": {
          "base_uri": "https://localhost:8080/",
          "height": 1000
        },
        "id": "mRFWupwYj0Vt",
        "outputId": "f53386d9-a29d-4de4-f5b9-1fdc4d19b961"
      },
      "source": [
        "print(\"Evaluation metrics for train set\")\n",
        "evaluate(model,x_train,y_train,'train')\n",
        "\n",
        "print(\"Evaluate metrics for test set\")\n",
        "evaluate(model,x_test,y_test,'test')"
      ],
      "execution_count": null,
      "outputs": [
        {
          "output_type": "stream",
          "text": [
            "Evaluation metrics for train set\n",
            "Accuracy 0.6969998173241208\n",
            "F1 score 0.7027351841992905\n",
            "AUC ROC 0.7718195699938131\n",
            "[[0.682244   0.317756  ]\n",
            " [0.28843937 0.71156063]]\n",
            "Evaluate metrics for test set\n",
            "Accuracy 0.6885302271603877\n",
            "F1 score 0.6955699792047387\n",
            "AUC ROC 0.7604445239820756\n",
            "[[0.6674571  0.3325429 ]\n",
            " [0.29052577 0.70947423]]\n"
          ],
          "name": "stdout"
        },
        {
          "output_type": "display_data",
          "data": {
            "image/png": "[encoded data removed]",
            "text/plain": [
              "<Figure size 432x288 with 1 Axes>"
            ]
          },
          "metadata": {
            "tags": [],
            "needs_background": "light"
          }
        },
        {
          "output_type": "display_data",
          "data": {
            "image/png": "[encoded data removed]",
            "text/plain": [
              "<Figure size 432x288 with 2 Axes>"
            ]
          },
          "metadata": {
            "tags": [],
            "needs_background": "light"
          }
        },
        {
          "output_type": "display_data",
          "data": {
            "image/png": "[encoded data removed]",
            "text/plain": [
              "<Figure size 432x288 with 1 Axes>"
            ]
          },
          "metadata": {
            "tags": [],
            "needs_background": "light"
          }
        },
        {
          "output_type": "display_data",
          "data": {
            "image/png": "[encoded data removed]",
            "text/plain": [
              "<Figure size 432x288 with 2 Axes>"
            ]
          },
          "metadata": {
            "tags": [],
            "needs_background": "light"
          }
        }
      ]
    },
    {
      "cell_type": "code",
      "metadata": {
        "id": "P3eQGEEOOm6U"
      },
      "source": [
        ""
      ],
      "execution_count": null,
      "outputs": []
    }
  ]
}